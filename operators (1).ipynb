{
 "cells": [
  {
   "cell_type": "code",
   "execution_count": 1,
   "id": "7b163411-64e5-4d37-a078-766b7e03fd7a",
   "metadata": {},
   "outputs": [
    {
     "name": "stdout",
     "output_type": "stream",
     "text": [
      "additon of two numbers 67\n"
     ]
    }
   ],
   "source": [
    "# Program in pyton   \n",
    "#Arithmetic operator\n",
    "a=22\n",
    "b=45\n",
    "print(f\"additon of two numbers {a+b}\") # \"a\" and \"b\" is operand and \"+\" is oprator use to add "
   ]
  },
  {
   "cell_type": "code",
   "execution_count": 3,
   "id": "2b166ab1-34ac-41bc-b411-9db056a3c044",
   "metadata": {},
   "outputs": [
    {
     "name": "stdout",
     "output_type": "stream",
     "text": [
      "subtraction of two numbers 21\n"
     ]
    }
   ],
   "source": [
    "#Arithmetic operator\n",
    "a=25\n",
    "b=4\n",
    "print(f\"subtraction of two numbers {a-b}\") #  \"-\" is oprator use to subtract"
   ]
  },
  {
   "cell_type": "code",
   "execution_count": 4,
   "id": "88e443f3-35de-457b-89c9-932cb0de201e",
   "metadata": {},
   "outputs": [
    {
     "name": "stdout",
     "output_type": "stream",
     "text": [
      "Multupication of two numbers 32\n"
     ]
    }
   ],
   "source": [
    "#Arithmetic operator\n",
    "a=26\n",
    "b=6\n",
    "print(f\"Multupication of two numbers {a*b}\") # \"*\" is oprator use to multiply "
   ]
  },
  {
   "cell_type": "code",
   "execution_count": 5,
   "id": "389f219f-6bb5-4429-986d-e84a4f36ecd0",
   "metadata": {},
   "outputs": [
    {
     "name": "stdout",
     "output_type": "stream",
     "text": [
      "divide two numbers 4.869565217391305\n"
     ]
    }
   ],
   "source": [
    "#Arithmetic operator\n",
    "a=224\n",
    "b=46\n",
    "print(f\"divide two numbers {a/b}\") # \"/\" is oprator use to add "
   ]
  },
  {
   "cell_type": "code",
   "execution_count": 6,
   "id": "1b664ac0-20a6-4027-a1c4-feee672fb10a",
   "metadata": {},
   "outputs": [
    {
     "name": "stdout",
     "output_type": "stream",
     "text": [
      "Reminder of two numbers 2\n"
     ]
    }
   ],
   "source": [
    " #Arithmetic operator\n",
    "a=22\n",
    "b=4\n",
    "print(f\"Reminder of two numbers {a%b}\") # \"%\" is oprator use to get Reminder "
   ]
  },
  {
   "cell_type": "code",
   "execution_count": 7,
   "id": "293b90fd-8d75-41c9-a917-376842436683",
   "metadata": {},
   "outputs": [
    {
     "name": "stdout",
     "output_type": "stream",
     "text": [
      "Jai Shree Ram\n"
     ]
    }
   ],
   "source": [
    "#assignment operator\n",
    "a=\"Jai Shree Ram\" # \"a\" is variable and \"=\" is assigment operator use to assign value\n",
    "print(a)"
   ]
  },
  {
   "cell_type": "code",
   "execution_count": 8,
   "id": "5f8607be-50b9-4fc9-bea8-169b6213a610",
   "metadata": {},
   "outputs": [
    {
     "name": "stdout",
     "output_type": "stream",
     "text": [
      "436\n"
     ]
    }
   ],
   "source": [
    "#assignment operator\n",
    "a=432\n",
    "a+=4 # \"+=\" is operator use to incriment the value with the specific number \n",
    "print(a)"
   ]
  },
  {
   "cell_type": "code",
   "execution_count": 9,
   "id": "a48ad096-34f8-46a2-a822-57439cde52f7",
   "metadata": {},
   "outputs": [
    {
     "name": "stdout",
     "output_type": "stream",
     "text": [
      "33\n"
     ]
    }
   ],
   "source": [
    "#assignment operator\n",
    "a=45\n",
    "a-=12 # \"-=\" is a operator use to decriment the value with the specific number\n",
    "print(a)\n"
   ]
  },
  {
   "cell_type": "code",
   "execution_count": 11,
   "id": "dd298250-bf87-4e19-88d5-93fb052b89d8",
   "metadata": {},
   "outputs": [
    {
     "name": "stdout",
     "output_type": "stream",
     "text": [
      "18.333333333333332\n"
     ]
    }
   ],
   "source": [
    "#assignment operator\n",
    "a=55\n",
    "a/=3 #\"/=\" is a operator use to divde value\n",
    "print(a)"
   ]
  },
  {
   "cell_type": "code",
   "execution_count": 12,
   "id": "d3a8cc13-3620-47a2-aa6c-605e96309824",
   "metadata": {},
   "outputs": [
    {
     "name": "stdout",
     "output_type": "stream",
     "text": [
      "0\n"
     ]
    }
   ],
   "source": [
    "#assignment operator\n",
    "a=444\n",
    "a%=4 #\"5=\" is operator use to get reminder with spefic number\n",
    "print(a)"
   ]
  },
  {
   "cell_type": "code",
   "execution_count": 13,
   "id": "04e34f3e-ab4a-48db-b60b-d5f65946734f",
   "metadata": {},
   "outputs": [
    {
     "name": "stdout",
     "output_type": "stream",
     "text": [
      "False\n"
     ]
    }
   ],
   "source": [
    "#comparison operator\n",
    "a=44\n",
    "b=23\n",
    "print(a==b)#\"==\" is operator use to compare give value are equal than output is True and if not than Flase"
   ]
  },
  {
   "cell_type": "code",
   "execution_count": 14,
   "id": "3090f36a-f02c-4441-97de-7982173f4034",
   "metadata": {},
   "outputs": [
    {
     "name": "stdout",
     "output_type": "stream",
     "text": [
      "False\n"
     ]
    }
   ],
   "source": [
    "#comparison operator\n",
    "a=444\n",
    "b=444\n",
    "print(a!=b)#\"!=\" is operator use show the opposite value for example is the vlaue is equal the it show ouput True is vlue are not equal it shoe true"
   ]
  },
  {
   "cell_type": "code",
   "execution_count": 15,
   "id": "c3a9bb99-d51a-49a4-b8d3-4db29dfda68c",
   "metadata": {},
   "outputs": [
    {
     "name": "stdout",
     "output_type": "stream",
     "text": [
      "True\n"
     ]
    }
   ],
   "source": [
    "#comparison operator\n",
    "a=33\n",
    "b=44\n",
    "print(a<b) #\"<\" this sign of less than and it show the value is less or greater than other value"
   ]
  },
  {
   "cell_type": "code",
   "execution_count": 16,
   "id": "5cc6fcc6-75e7-4df5-b3b5-2c8475dd6339",
   "metadata": {},
   "outputs": [
    {
     "name": "stdout",
     "output_type": "stream",
     "text": [
      "True\n"
     ]
    }
   ],
   "source": [
    "#comparison operator\n",
    "a=99\n",
    "b=84\n",
    "print(a>=b)#\">=\" this is operator  use to check the value is greater tham or equal to the other give value "
   ]
  },
  {
   "cell_type": "code",
   "execution_count": 17,
   "id": "74ba089b-bb46-4d6b-85f6-08db75b5de16",
   "metadata": {},
   "outputs": [
    {
     "name": "stdout",
     "output_type": "stream",
     "text": [
      "False\n"
     ]
    }
   ],
   "source": [
    "#logical operator\n",
    "a=3\n",
    "b=4\n",
    "c=44\n",
    "d=45\n",
    "print(a>b and c<d)#\"and \" is a operator here "
   ]
  },
  {
   "cell_type": "code",
   "execution_count": 19,
   "id": "da1c2f35-d7c7-46af-b81f-0bbb87252116",
   "metadata": {},
   "outputs": [
    {
     "name": "stdout",
     "output_type": "stream",
     "text": [
      "True\n"
     ]
    }
   ],
   "source": [
    "#logical operator\n",
    "a=33\n",
    "print(a>1 or a<3) # \"or\" is a operator here is the single vlaue is true the output is true"
   ]
  },
  {
   "cell_type": "code",
   "execution_count": 21,
   "id": "f265e286-b063-459f-a789-7418ebccc543",
   "metadata": {},
   "outputs": [
    {
     "name": "stdout",
     "output_type": "stream",
     "text": [
      "False\n"
     ]
    }
   ],
   "source": [
    "#logical operator\n",
    "a=45\n",
    "print(not(a>4 and a>3))#\"not\" and \"and\" operator is use but we focus on \"NOT\" not is use to get reverse value of result value"
   ]
  },
  {
   "cell_type": "code",
   "execution_count": 24,
   "id": "0fa475e5-ed75-4119-9c95-daabaad809b7",
   "metadata": {},
   "outputs": [
    {
     "name": "stdout",
     "output_type": "stream",
     "text": [
      "32\n"
     ]
    }
   ],
   "source": [
    "#bitwise operator\n",
    "a=33\n",
    "b=44\n",
    "print( a & b) # \"&\" is a bitwise operator(and)"
   ]
  },
  {
   "cell_type": "code",
   "execution_count": 25,
   "id": "bea81664-cc93-44fd-ba67-6efe0696c364",
   "metadata": {},
   "outputs": [
    {
     "name": "stdout",
     "output_type": "stream",
     "text": [
      "492\n"
     ]
    }
   ],
   "source": [
    "#bitwise operator\n",
    "a=44\n",
    "b=456\n",
    "print( a | b)# \"|\" is a bitwise operator(or)"
   ]
  },
  {
   "cell_type": "code",
   "execution_count": 26,
   "id": "fdfb2dd0-e5cb-46f7-8d3d-eb2b0c6f5471",
   "metadata": {},
   "outputs": [
    {
     "name": "stdout",
     "output_type": "stream",
     "text": [
      "0\n"
     ]
    }
   ],
   "source": [
    "#bitwise operator\n",
    "a=44\n",
    "b=44\n",
    "print(a ^ b) # \"^\" is bitwise operator\n"
   ]
  },
  {
   "cell_type": "code",
   "execution_count": 28,
   "id": "40203710-895a-42c0-9054-4835fa3da49f",
   "metadata": {},
   "outputs": [
    {
     "name": "stdout",
     "output_type": "stream",
     "text": [
      "-56\n"
     ]
    }
   ],
   "source": [
    "#bitwise operator\n",
    "a=55\n",
    "print(~a ) #\"~\" is bitwise operator"
   ]
  },
  {
   "cell_type": "code",
   "execution_count": 31,
   "id": "e7e1dc90-d4e5-409f-a6d2-2f35b29efe7b",
   "metadata": {},
   "outputs": [
    {
     "name": "stdout",
     "output_type": "stream",
     "text": [
      "28416\n"
     ]
    }
   ],
   "source": [
    "#bitwise operator\n",
    "a=444\n",
    "print(a<<6) # \"<<\" is bitwise operator insert the specific number of 0 in the binary number of value"
   ]
  },
  {
   "cell_type": "code",
   "execution_count": 33,
   "id": "26ee35de-91f0-4f96-8c69-d9946acb485c",
   "metadata": {},
   "outputs": [
    {
     "name": "stdout",
     "output_type": "stream",
     "text": [
      "6\n"
     ]
    }
   ],
   "source": [
    "#bitwise operator\n",
    "a=444\n",
    "print(a>>6) # \">>\" is bitwise operator insert the specific number of 0  from left side in the binary number of value"
   ]
  }
 ],
 "metadata": {
  "kernelspec": {
   "display_name": "Python 3 (ipykernel)",
   "language": "python",
   "name": "python3"
  },
  "language_info": {
   "codemirror_mode": {
    "name": "ipython",
    "version": 3
   },
   "file_extension": ".py",
   "mimetype": "text/x-python",
   "name": "python",
   "nbconvert_exporter": "python",
   "pygments_lexer": "ipython3",
   "version": "3.13.5"
  }
 },
 "nbformat": 4,
 "nbformat_minor": 5
}
