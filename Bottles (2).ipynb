{
 "cells": [
  {
   "cell_type": "code",
   "execution_count": 4,
   "id": "84dbacb1-5200-4e4b-a23f-b3891cef9cd9",
   "metadata": {},
   "outputs": [
    {
     "name": "stdout",
     "output_type": "stream",
     "text": [
      " enter the total bottle you  have:\n"
     ]
    },
    {
     "name": "stdin",
     "output_type": "stream",
     "text": [
      " 23\n"
     ]
    },
    {
     "name": "stdout",
     "output_type": "stream",
     "text": [
      "enter the number of bottles you can drink in a day:\n"
     ]
    },
    {
     "name": "stdin",
     "output_type": "stream",
     "text": [
      " 2\n"
     ]
    },
    {
     "name": "stdout",
     "output_type": "stream",
     "text": [
      "Total number of days =11\n",
      "Day 1: Number of bottles left 21\n",
      "Day 2: Number of bottles left 19\n",
      "Day 3: Number of bottles left 17\n",
      "Day 4: Number of bottles left 15\n",
      "Day 5: Number of bottles left 13\n",
      "Day 6: Number of bottles left 11\n",
      "Day 7: Number of bottles left 9\n",
      "Day 8: Number of bottles left 7\n",
      "Day 9: Number of bottles left 5\n",
      "Day 10: Number of bottles left 3\n",
      "Day 11: Number of bottles left 1\n",
      "No more bottles left\n"
     ]
    }
   ],
   "source": [
    "\n",
    "print(\" enter the total bottle you  have:\" )\n",
    "a = int(input())\n",
    "print(\"enter the number of bottles you can drink in a day:\")\n",
    "b = int(input())\n",
    "c=int(a/b)        \n",
    "print(f\"Total number of days ={c}\")\n",
    "for i in range(1,c+1):\n",
    "    a=a-b\n",
    "    if c!=0:\n",
    "        print(f\"Day {i}: Number of bottles left {a}\")\n",
    "else:\n",
    "   print(\"No more bottles left\")"
   ]
  },
  {
   "cell_type": "code",
   "execution_count": null,
   "id": "abeaaa7e-9f99-46b7-8375-d0134b85eace",
   "metadata": {},
   "outputs": [],
   "source": []
  }
 ],
 "metadata": {
  "kernelspec": {
   "display_name": "Python 3 (ipykernel)",
   "language": "python",
   "name": "python3"
  },
  "language_info": {
   "codemirror_mode": {
    "name": "ipython",
    "version": 3
   },
   "file_extension": ".py",
   "mimetype": "text/x-python",
   "name": "python",
   "nbconvert_exporter": "python",
   "pygments_lexer": "ipython3",
   "version": "3.13.5"
  }
 },
 "nbformat": 4,
 "nbformat_minor": 5
}
