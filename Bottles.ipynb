{
 "cells": [
  {
   "cell_type": "code",
   "execution_count": 1,
   "id": "84dbacb1-5200-4e4b-a23f-b3891cef9cd9",
   "metadata": {},
   "outputs": [
    {
     "name": "stdout",
     "output_type": "stream",
     "text": [
      " enter the total bottle you  have:\n"
     ]
    },
    {
     "name": "stdin",
     "output_type": "stream",
     "text": [
      " 333\n"
     ]
    },
    {
     "name": "stdout",
     "output_type": "stream",
     "text": [
      "enter the number of bottles you can drink in a day:\n"
     ]
    },
    {
     "name": "stdin",
     "output_type": "stream",
     "text": [
      " 33\n"
     ]
    },
    {
     "name": "stdout",
     "output_type": "stream",
     "text": [
      "Day 1:\n",
      "day you have 333 bottles left\n",
      "you can drink 33 bottles today\n",
      "you have 300 bottles left\n",
      "Day 2:\n",
      "day you have 300 bottles left\n",
      "you can drink 33 bottles today\n",
      "you have 267 bottles left\n",
      "Day 3:\n",
      "day you have 267 bottles left\n",
      "you can drink 33 bottles today\n",
      "you have 234 bottles left\n",
      "Day 4:\n",
      "day you have 234 bottles left\n",
      "you can drink 33 bottles today\n",
      "you have 201 bottles left\n",
      "Day 5:\n",
      "day you have 201 bottles left\n",
      "you can drink 33 bottles today\n",
      "you have 168 bottles left\n",
      "Day 6:\n",
      "day you have 168 bottles left\n",
      "you can drink 33 bottles today\n",
      "you have 135 bottles left\n",
      "Day 7:\n",
      "day you have 135 bottles left\n",
      "you can drink 33 bottles today\n",
      "you have 102 bottles left\n",
      "Day 8:\n",
      "day you have 102 bottles left\n",
      "you can drink 33 bottles today\n",
      "you have 69 bottles left\n",
      "Day 9:\n",
      "day you have 69 bottles left\n",
      "you can drink 33 bottles today\n",
      "you have 36 bottles left\n",
      "Day 10:\n",
      "day you have 36 bottles left\n",
      "you can drink 33 bottles today\n",
      "you have 3 bottles left\n",
      "Day 11:\n",
      "day you have 3 bottles left\n",
      "you can drink 33 bottles today\n",
      "you have -30 bottles left\n"
     ]
    }
   ],
   "source": [
    "\n",
    "print(\" enter the total bottle you  have:\" )\n",
    "a = int(input())\n",
    "print(\"enter the number of bottles you can drink in a day:\")\n",
    "b = int(input())\n",
    "count = 0\n",
    "\n",
    "while a > 0:\n",
    "\n",
    "    count += 1\n",
    " \n",
    "    print(f\"Day {count}:\")\n",
    "    print(f\"day you have {a} bottles left\")\n",
    "    a -= b\n",
    "    if a == 0:\n",
    "        print(\"you have no bottles left\")\n",
    "        break\n",
    "    else:\n",
    "        print(f\"you can drink {b} bottles today\")\n",
    "        \n",
    "        print(f\"you have {a} bottles left\")\n"
   ]
  },
  {
   "cell_type": "code",
   "execution_count": null,
   "id": "abeaaa7e-9f99-46b7-8375-d0134b85eace",
   "metadata": {},
   "outputs": [],
   "source": []
  }
 ],
 "metadata": {
  "kernelspec": {
   "display_name": "Python 3 (ipykernel)",
   "language": "python",
   "name": "python3"
  },
  "language_info": {
   "codemirror_mode": {
    "name": "ipython",
    "version": 3
   },
   "file_extension": ".py",
   "mimetype": "text/x-python",
   "name": "python",
   "nbconvert_exporter": "python",
   "pygments_lexer": "ipython3",
   "version": "3.13.5"
  }
 },
 "nbformat": 4,
 "nbformat_minor": 5
}
