{
 "cells": [
  {
   "cell_type": "code",
   "execution_count": 1,
   "id": "aab70e72-54a8-4d55-bb8e-6baf88a0bced",
   "metadata": {},
   "outputs": [
    {
     "name": "stdout",
     "output_type": "stream",
     "text": [
      "<class 'int'>\n"
     ]
    }
   ],
   "source": [
    "#1 numeric datatype\n",
    "# a) int which contains interger value\n",
    "a=434\n",
    "print(type(a)) # \"type\" is use to check the (class) which type of datatype is use"
   ]
  },
  {
   "cell_type": "code",
   "execution_count": 2,
   "id": "324e4bf9-d4c9-4e99-8ed7-e34498fa9a34",
   "metadata": {},
   "outputs": [
    {
     "name": "stdout",
     "output_type": "stream",
     "text": [
      "<class 'float'>\n"
     ]
    }
   ],
   "source": [
    "# b) float which contains  decimal value\n",
    "a=3434.00\n",
    "print(type(a))"
   ]
  },
  {
   "cell_type": "code",
   "execution_count": 3,
   "id": "be8b5ede-88a5-4265-bee5-261a77531088",
   "metadata": {},
   "outputs": [
    {
     "name": "stdout",
     "output_type": "stream",
     "text": [
      "<class 'str'>\n"
     ]
    }
   ],
   "source": [
    "# c) string  which contain the string of character\n",
    "a=\"Jai shree ram\"\n",
    "print(type(a))"
   ]
  },
  {
   "cell_type": "code",
   "execution_count": 5,
   "id": "6d84e233-9e27-4a70-8cae-78113b48c7d7",
   "metadata": {},
   "outputs": [
    {
     "name": "stdout",
     "output_type": "stream",
     "text": [
      "<class 'complex'>\n"
     ]
    }
   ],
   "source": [
    "#d) complex number which contain both integer and string\n",
    "a=2+3j\n",
    "print(type(a))"
   ]
  },
  {
   "cell_type": "code",
   "execution_count": 6,
   "id": "f1b05291-30db-4314-9ad5-9f07ade47e36",
   "metadata": {},
   "outputs": [
    {
     "name": "stdout",
     "output_type": "stream",
     "text": [
      "w\n"
     ]
    }
   ],
   "source": [
    "#2 sequence datatype\n",
    "# a) strings\n",
    "a= \" jatin dadwal\"\n",
    "print(a[-3])# for negative wise\n",
    "print(a[-4])# for positive wise"
   ]
  },
  {
   "cell_type": "code",
   "execution_count": 8,
   "id": "ba8da226-f24d-4e48-8240-af017ad43683",
   "metadata": {},
   "outputs": [
    {
     "name": "stdout",
     "output_type": "stream",
     "text": [
      "jatin\n",
      "praful\n",
      "reetak\n"
     ]
    }
   ],
   "source": [
    "#b) List\n",
    "x,y,z={\"jatin\",\"praful\",\"reetak\"}\n",
    "print(x)\n",
    "print(y)\n",
    "print(z)\n"
   ]
  },
  {
   "cell_type": "code",
   "execution_count": 11,
   "id": "44085740-c51d-48d6-9250-43a95698b556",
   "metadata": {},
   "outputs": [
    {
     "name": "stdout",
     "output_type": "stream",
     "text": [
      "reetak\n",
      "jatin\n"
     ]
    }
   ],
   "source": [
    "#accessing value using positive index\n",
    "a=[\"jatin\",\"praful\",\"reetak\"]\n",
    "print(a[2])\n",
    "# accessing value using negitive index\n",
    "b=[\"jatin\",\"praful\",\"reetak\"]\n",
    "print(b[-3])\n",
    "\n"
   ]
  },
  {
   "cell_type": "code",
   "execution_count": 16,
   "id": "957dfc2d-c67b-4d15-8878-8028b170fd23",
   "metadata": {},
   "outputs": [
    {
     "name": "stdout",
     "output_type": "stream",
     "text": [
      "3\n",
      "4\n"
     ]
    }
   ],
   "source": [
    "#3 tuple\n",
    "tup1 = tuple([1,4,3])\n",
    "#acess tuple by using positive or negative index\n",
    "print(tup1[2])\n",
    "print(tup1[-2])\n"
   ]
  },
  {
   "cell_type": "code",
   "execution_count": null,
   "id": "4ec9a825-16ba-4b81-a183-1a7d75a40b26",
   "metadata": {},
   "outputs": [],
   "source": []
  }
 ],
 "metadata": {
  "kernelspec": {
   "display_name": "Python 3 (ipykernel)",
   "language": "python",
   "name": "python3"
  },
  "language_info": {
   "codemirror_mode": {
    "name": "ipython",
    "version": 3
   },
   "file_extension": ".py",
   "mimetype": "text/x-python",
   "name": "python",
   "nbconvert_exporter": "python",
   "pygments_lexer": "ipython3",
   "version": "3.13.5"
  }
 },
 "nbformat": 4,
 "nbformat_minor": 5
}
