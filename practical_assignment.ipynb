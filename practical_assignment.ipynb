{
 "cells": [
  {
   "cell_type": "markdown",
   "id": "1c3a30e9-c31b-4da1-a439-e187ad9eee48",
   "metadata": {},
   "source": [
    "# Practical"
   ]
  },
  {
   "cell_type": "markdown",
   "id": "4ed1b2dd-d4e0-4677-89e3-885932ae9b63",
   "metadata": {},
   "source": [
    "### 1) Write a code to create a string with your name and print it"
   ]
  },
  {
   "cell_type": "code",
   "execution_count": 1,
   "id": "2127bb62-e908-4b55-b6c3-de4e5d21eae0",
   "metadata": {},
   "outputs": [
    {
     "name": "stdout",
     "output_type": "stream",
     "text": [
      "Jatin Dadwal\n"
     ]
    }
   ],
   "source": [
    "String=\"Jatin Dadwal\"\n",
    "print(String)"
   ]
  },
  {
   "cell_type": "markdown",
   "id": "385012f1-06f1-4513-82d4-c6065834660d",
   "metadata": {},
   "source": [
    "### 2) Write a code to find the length of string"
   ]
  },
  {
   "cell_type": "code",
   "execution_count": 2,
   "id": "a22d0e01-829e-44fd-b687-8c0385d5aa6c",
   "metadata": {},
   "outputs": [
    {
     "name": "stdout",
     "output_type": "stream",
     "text": [
      "13\n",
      "Jai Shree Ram\n"
     ]
    }
   ],
   "source": [
    "a=\"Jai Shree Ram\"\n",
    "print(len(a))\n",
    "print(a)"
   ]
  },
  {
   "cell_type": "markdown",
   "id": "e11fd0a0-5c35-42fc-a42a-7d6909f6980c",
   "metadata": {},
   "source": [
    "### 3) Write a code to slice first 3 character from the string \"python programming\"."
   ]
  },
  {
   "cell_type": "code",
   "execution_count": 4,
   "id": "df5b4d3b-ae6e-4a6a-b983-acb1e46fb0b4",
   "metadata": {},
   "outputs": [
    {
     "name": "stdout",
     "output_type": "stream",
     "text": [
      "in Dadwal\n"
     ]
    }
   ],
   "source": [
    "a=\"Jatin Dadwal\"\n",
    "print(a[3:])"
   ]
  },
  {
   "cell_type": "markdown",
   "id": "20fd1ea6-37df-42a2-8448-3b96f514fa70",
   "metadata": {},
   "source": [
    "### 4) write a code to convert the string \"hello\" to uppercase."
   ]
  },
  {
   "cell_type": "code",
   "execution_count": 8,
   "id": "25f94256-55ea-40d1-9197-173ce6b89c61",
   "metadata": {},
   "outputs": [
    {
     "name": "stdout",
     "output_type": "stream",
     "text": [
      "JAI SHREE RAM\n"
     ]
    }
   ],
   "source": [
    "a=\"jai shree ram\"\n",
    "b=a.upper()\n",
    "print(b)"
   ]
  },
  {
   "cell_type": "markdown",
   "id": "b86a93ff-49d1-4247-8a6c-7ceff25ecdad",
   "metadata": {},
   "source": [
    "### 5) write a code to replace the word \"apple\" with \"orange\" in string  \"like apple\""
   ]
  },
  {
   "cell_type": "code",
   "execution_count": 10,
   "id": "dff871b9-8df6-4b27-ae9e-60c624f72c9e",
   "metadata": {},
   "outputs": [
    {
     "name": "stdout",
     "output_type": "stream",
     "text": [
      "like orange\n"
     ]
    }
   ],
   "source": [
    "a = \"like apple\"\n",
    "b = a.replace(\"apple\", \"orange\")\n",
    "print(b)\n"
   ]
  },
  {
   "cell_type": "markdown",
   "id": "07c0b818-132c-4d90-a666-b79607b5b3c1",
   "metadata": {},
   "source": [
    "### 6) write a code to create a list with number 1 to 5 and print it."
   ]
  },
  {
   "cell_type": "code",
   "execution_count": 11,
   "id": "2455aabb-9ca5-49c9-8a73-6f928dadae58",
   "metadata": {},
   "outputs": [
    {
     "name": "stdout",
     "output_type": "stream",
     "text": [
      "[1, 2, 3, 4, 5]\n"
     ]
    }
   ],
   "source": [
    "numbers = list(range(1, 6))\n",
    "print(numbers)\n"
   ]
  },
  {
   "cell_type": "markdown",
   "id": "730bb9ea-848d-472c-8c0f-a07d6804dc66",
   "metadata": {},
   "source": [
    "### 7) Write a code to append the number 10 to the list[ 1,2,3,4] "
   ]
  },
  {
   "cell_type": "code",
   "execution_count": 12,
   "id": "36b37dd2-e4f9-4abf-b7f6-0c1823473883",
   "metadata": {},
   "outputs": [
    {
     "name": "stdout",
     "output_type": "stream",
     "text": [
      "[1, 2, 3, 4, 10]\n"
     ]
    }
   ],
   "source": [
    "numbers = [1, 2, 3, 4]\n",
    "# Append 10 to the list\n",
    "numbers.append(10)\n",
    "print(numbers)\n"
   ]
  },
  {
   "cell_type": "markdown",
   "id": "5d1e3751-36e1-4097-8e2b-76966ff9caf2",
   "metadata": {},
   "source": [
    "### 8) write a code to remove the number 3 from the list[1,2,3,4,5]."
   ]
  },
  {
   "cell_type": "code",
   "execution_count": 13,
   "id": "3d6f6518-7b35-4a06-9d64-187450ab5c5d",
   "metadata": {},
   "outputs": [
    {
     "name": "stdout",
     "output_type": "stream",
     "text": [
      "[1, 2, 4, 5]\n"
     ]
    }
   ],
   "source": [
    "number =[1,2,3,4,5]\n",
    "# remove 3 from the list\n",
    "number.remove(3)\n",
    "print(number)"
   ]
  },
  {
   "cell_type": "markdown",
   "id": "116acd16-7679-4ff7-8a5e-e36729446431",
   "metadata": {},
   "source": [
    "### 9) write a code to access the second element in the list[\"a\",\"b\",\"c\",\"d\"]."
   ]
  },
  {
   "cell_type": "code",
   "execution_count": 14,
   "id": "8641af4b-3543-4d47-bc4e-34ed3c36ba05",
   "metadata": {},
   "outputs": [
    {
     "name": "stdout",
     "output_type": "stream",
     "text": [
      "b\n"
     ]
    }
   ],
   "source": [
    "my_list=[\"a\",\"b\",\"c\",\"d\"]\n",
    "number=my_list[1]\n",
    "print(number)"
   ]
  },
  {
   "cell_type": "markdown",
   "id": "c39e2671-b5c8-43bf-9c28-1f0c9533dfd3",
   "metadata": {},
   "source": [
    "### 10) write a code to reverse the list[10,20,30,40,50]."
   ]
  },
  {
   "cell_type": "code",
   "execution_count": 16,
   "id": "2056a3af-6778-4fc0-9cd9-76843d588243",
   "metadata": {},
   "outputs": [
    {
     "name": "stdout",
     "output_type": "stream",
     "text": [
      "[50, 40, 30, 20, 10]\n"
     ]
    }
   ],
   "source": [
    "list1=[10,20,30,40,50]\n",
    "list2=list1[::-1]\n",
    "print(list2)"
   ]
  },
  {
   "cell_type": "code",
   "execution_count": null,
   "id": "0abe2c7e-099a-42bd-a371-de8b7522b100",
   "metadata": {},
   "outputs": [],
   "source": []
  }
 ],
 "metadata": {
  "kernelspec": {
   "display_name": "Python 3 (ipykernel)",
   "language": "python",
   "name": "python3"
  },
  "language_info": {
   "codemirror_mode": {
    "name": "ipython",
    "version": 3
   },
   "file_extension": ".py",
   "mimetype": "text/x-python",
   "name": "python",
   "nbconvert_exporter": "python",
   "pygments_lexer": "ipython3",
   "version": "3.13.5"
  }
 },
 "nbformat": 4,
 "nbformat_minor": 5
}
