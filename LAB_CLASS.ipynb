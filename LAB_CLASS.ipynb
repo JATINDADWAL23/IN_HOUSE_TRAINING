{
 "cells": [
  {
   "cell_type": "code",
   "execution_count": 1,
   "id": "e86f76af-909e-4bbe-96b0-341687f7a2c8",
   "metadata": {},
   "outputs": [
    {
     "name": "stdout",
     "output_type": "stream",
     "text": [
      "d\n",
      " \n"
     ]
    }
   ],
   "source": [
    "a=\"jatin Dadwal\"\n",
    "print(a[-4])\n",
    "print(a[5])"
   ]
  },
  {
   "cell_type": "code",
   "execution_count": 2,
   "id": "c14cbf1a-d093-4641-b320-4d4bb038a50a",
   "metadata": {},
   "outputs": [
    {
     "name": "stdout",
     "output_type": "stream",
     "text": [
      "['dadwal']\n",
      "['jatin', 'dadwal', 'reetak']\n",
      "['dadwal', 'reetak', 'Praful', 'aditya', 'dixit']\n",
      "['dadwal', 'Praful', 'dixit']\n"
     ]
    }
   ],
   "source": [
    "a=[\"jatin\",\"dadwal\",\"reetak\",\"Praful\",\"aditya\",\"dixit\"]\n",
    "print(a[1:2])\n",
    "print(a[:3])\n",
    "print(a[1:])\n",
    "print(a[1:6:2])"
   ]
  },
  {
   "cell_type": "code",
   "execution_count": 3,
   "id": "2be10c54-3bf6-4fae-a857-0f912f0cbed7",
   "metadata": {},
   "outputs": [
    {
     "name": "stdout",
     "output_type": "stream",
     "text": [
      "<class 'list'>\n",
      "['Praful', 'Reetak', 'Aditya', 3, 2, 1, 0]\n"
     ]
    }
   ],
   "source": [
    "a=[\"Jatin\",\"Praful\",\"Reetak\",\"Aditya\",3,2,1,0]\n",
    "print(type(a))\n",
    "print(a[1:8:1])\n"
   ]
  },
  {
   "cell_type": "code",
   "execution_count": 4,
   "id": "97c4180c-f49f-4f4a-abd7-badb9ce0188e",
   "metadata": {},
   "outputs": [
    {
     "name": "stdout",
     "output_type": "stream",
     "text": [
      "6\n",
      "<class 'list'>\n"
     ]
    }
   ],
   "source": [
    "a=[2,4,\"Apple\",6,[2,4],\"ram\"]\n",
    "print(len(a))\n",
    "print(type(a))      \n"
   ]
  },
  {
   "cell_type": "code",
   "execution_count": 5,
   "id": "e1f29b9e-4b15-4a0f-b721-bdd2ae3dad70",
   "metadata": {},
   "outputs": [
    {
     "name": "stdout",
     "output_type": "stream",
     "text": [
      "5\n",
      "<class 'list'>\n"
     ]
    }
   ],
   "source": [
    "a=[2,\"jatin\",3.5,[5,7,8],(4,6)]\n",
    "print(len(a))\n",
    "print(type(a))\n"
   ]
  },
  {
   "cell_type": "code",
   "execution_count": 6,
   "id": "05a8d2f2-aefd-4df2-8804-33e5c779a937",
   "metadata": {},
   "outputs": [
    {
     "name": "stdout",
     "output_type": "stream",
     "text": [
      "8\n",
      "<class 'list'>\n"
     ]
    }
   ],
   "source": [
    "a=[1,2,3,4,5,\"Rahul\",[2,5,45,5],(3,5)]\n",
    "print(len(a))\n",
    "print(type(a))"
   ]
  },
  {
   "cell_type": "code",
   "execution_count": 7,
   "id": "34bbfcf2-ccd2-43a2-b766-2bece41f8882",
   "metadata": {},
   "outputs": [
    {
     "name": "stdout",
     "output_type": "stream",
     "text": [
      "12\n",
      "ilearnpython\n",
      "\n"
     ]
    }
   ],
   "source": [
    "a=\"ilearnpython\"\n",
    "print(len(a))\n",
    "b=a[6:10:-1]\n",
    "print(a)\n",
    "print(b)"
   ]
  },
  {
   "cell_type": "code",
   "execution_count": 8,
   "id": "11c52e4a-f00f-4d0d-aad7-01d4a2171f0a",
   "metadata": {},
   "outputs": [
    {
     "name": "stdout",
     "output_type": "stream",
     "text": [
      "<class 'list'>\n",
      "<class 'str'>\n",
      "<class 'float'>\n"
     ]
    }
   ],
   "source": [
    "num=[1,2,3,4,5,\"String\",6.9]\n",
    "print(type(num))\n",
    "print(type(num[5]))\n",
    "print(type(num[-1]))"
   ]
  },
  {
   "cell_type": "code",
   "execution_count": 11,
   "id": "b8934707-7dda-445a-b46f-d144c4cd7cf2",
   "metadata": {},
   "outputs": [
    {
     "name": "stdout",
     "output_type": "stream",
     "text": [
      "[[7, 8, 9], 'banana', 'cherry']\n"
     ]
    }
   ],
   "source": [
    "this=[\"apple\", \"banana\",\"cherry\"]\n",
    "this[0]=[7,8,9]\n",
    "print(this)"
   ]
  },
  {
   "cell_type": "code",
   "execution_count": 10,
   "id": "9916c54e-83b2-41e3-9ca9-b563966698d1",
   "metadata": {},
   "outputs": [
    {
     "name": "stdout",
     "output_type": "stream",
     "text": [
      "[2, 3, 4, 5, 4, 'Jatin']\n",
      "6\n"
     ]
    }
   ],
   "source": [
    "a=[2,3,4,5]\n",
    "a.append(4)\n",
    "a.append(\"Jatin\")\n",
    "print(a)\n",
    "print(len(a))"
   ]
  },
  {
   "cell_type": "code",
   "execution_count": 12,
   "id": "908d074f-389b-4dc9-b6c8-9fef1606bc0d",
   "metadata": {},
   "outputs": [
    {
     "name": "stdout",
     "output_type": "stream",
     "text": [
      "[2, 4, 5, 6, 7, 21, 3]\n"
     ]
    }
   ],
   "source": [
    "a=[2,4,5,6,7]\n",
    "a.extend([21,3])\n",
    "print(a)"
   ]
  },
  {
   "cell_type": "code",
   "execution_count": 13,
   "id": "dc8e8d3d-d5c5-464b-9b30-f831a4693350",
   "metadata": {},
   "outputs": [
    {
     "name": "stdout",
     "output_type": "stream",
     "text": [
      "[40, 50, 60, [10.2, 30]]\n"
     ]
    }
   ],
   "source": [
    "l1=[10.20,30]\n",
    "l2=[40,50,60]\n",
    "l2.append(l1)\n",
    "print(l2)"
   ]
  },
  {
   "cell_type": "code",
   "execution_count": 14,
   "id": "37ab889c-af20-4935-a823-7bc3db8d62a5",
   "metadata": {},
   "outputs": [
    {
     "name": "stdout",
     "output_type": "stream",
     "text": [
      "['apple', 'banana', 'cherry']\n",
      "['apple', 'herry1', 'banana', 'cherry']\n"
     ]
    }
   ],
   "source": [
    "fruit=[\"apple\",\"banana\",\"cherry\"]\n",
    "print(fruit)\n",
    "fruit.insert(1,\"herry1\")\n",
    "print(fruit)"
   ]
  },
  {
   "cell_type": "code",
   "execution_count": 15,
   "id": "45d89782-c520-40d9-b7d6-1b612c2efd4d",
   "metadata": {},
   "outputs": [
    {
     "name": "stdout",
     "output_type": "stream",
     "text": [
      "144\n"
     ]
    }
   ],
   "source": [
    "fruits=[\"apple\",\"banana\",\"cherry\",144]\n",
    "last_fruit = fruits.pop()\n",
    "print(last_fruit)\n"
   ]
  },
  {
   "cell_type": "code",
   "execution_count": 16,
   "id": "ace33a35-535f-4ce2-9821-1fa934ccf73a",
   "metadata": {},
   "outputs": [
    {
     "name": "stdout",
     "output_type": "stream",
     "text": [
      "[99, 77, 6, 4, 3, 2, 1]\n"
     ]
    }
   ],
   "source": [
    "#sort\n",
    "#count\n",
    "num=[1,2,3,4,99,6,77]\n",
    "num.sort(reverse=True)\n",
    "print(num)"
   ]
  },
  {
   "cell_type": "code",
   "execution_count": 17,
   "id": "33d4457b-8a3b-4e4c-a58b-8b5bca5f9733",
   "metadata": {},
   "outputs": [
    {
     "name": "stdout",
     "output_type": "stream",
     "text": [
      "[]\n"
     ]
    }
   ],
   "source": [
    "fruit=[\"aapple\",\"jatin\",\"Praful\"]\n",
    "fruit.clear()\n",
    "print(fruit)\n"
   ]
  },
  {
   "cell_type": "code",
   "execution_count": 18,
   "id": "ff63a138-abf9-41d2-9f97-2b3cdf6169f0",
   "metadata": {},
   "outputs": [
    {
     "name": "stdout",
     "output_type": "stream",
     "text": [
      "before swaping a=4 , b=5\n",
      "after swaping a=5 and b=4\n"
     ]
    }
   ],
   "source": [
    "a=4\n",
    "b=5\n",
    "print(f\"before swaping a={a} , b={b}\")\n",
    "a=a+b\n",
    "b=a-b\n",
    "a=a-b\n",
    "print(f\"after swaping a={a} and b={b}\")"
   ]
  },
  {
   "cell_type": "code",
   "execution_count": 19,
   "id": "99af4c42-e74b-4269-9f0f-1234cf8d8450",
   "metadata": {},
   "outputs": [
    {
     "name": "stdout",
     "output_type": "stream",
     "text": [
      "jatin   jatin   jatin   jatin   jatin   jatin   jatin   jatin   jatin   jatin   jatin   jatin   \n"
     ]
    }
   ],
   "source": [
    "a=(\"jatin   \")*12\n",
    "print(a)"
   ]
  },
  {
   "cell_type": "code",
   "execution_count": 20,
   "id": "f9a69e1c-414d-4d67-93c7-f04914c44332",
   "metadata": {},
   "outputs": [
    {
     "name": "stdout",
     "output_type": "stream",
     "text": [
      "<class 'dict'>\n"
     ]
    }
   ],
   "source": [
    "d={1:2,6:7,8:\"hurry \",8:\"abhishek\"}\n",
    "print(type(d))"
   ]
  },
  {
   "cell_type": "code",
   "execution_count": 21,
   "id": "0f38f51b-88aa-4315-9260-ec421b0a2245",
   "metadata": {},
   "outputs": [
    {
     "name": "stdin",
     "output_type": "stream",
     "text": [
      "Enter the amount: 20000\n",
      "Enter Rate  3\n",
      "Enter time period  3\n"
     ]
    },
    {
     "name": "stdout",
     "output_type": "stream",
     "text": [
      "Simple intrest : 1800.0\n"
     ]
    }
   ],
   "source": [
    "amount=int(input(\"Enter the amount:\"))\n",
    "rate=int(input(\"Enter Rate \"))\n",
    "time=int(input(\"Enter time period \"))\n",
    "simpleintrest=(amount*rate*time)/100\n",
    "print(f\"Simple intrest : {simpleintrest}\")    "
   ]
  },
  {
   "cell_type": "code",
   "execution_count": 22,
   "id": "05da9a42-13ba-42da-b6f0-87ce5cfb174a",
   "metadata": {},
   "outputs": [
    {
     "name": "stdout",
     "output_type": "stream",
     "text": [
      "[66, 56, 445, 23]\n"
     ]
    }
   ],
   "source": [
    "list1=[23,445,56,66]\n",
    "list1.reverse()\n",
    "print(list1)"
   ]
  },
  {
   "cell_type": "markdown",
   "id": "673daa99-f9cb-416c-8e72-4f06726f1e9b",
   "metadata": {},
   "source": [
    "## Control structure\n"
   ]
  },
  {
   "cell_type": "code",
   "execution_count": 23,
   "id": "ac03849c-fe1d-45e0-9029-c71edcd31e0d",
   "metadata": {},
   "outputs": [
    {
     "name": "stdin",
     "output_type": "stream",
     "text": [
      "enter first  value : 22\n",
      "enter second value : 3\n"
     ]
    },
    {
     "name": "stdout",
     "output_type": "stream",
     "text": [
      "22 is greater than 3\n"
     ]
    }
   ],
   "source": [
    "a=int(input(\"enter first  value :\"))\n",
    "b=int(input(\"enter second value :\") )    \n",
    "      \n",
    "if a>b:\n",
    "      print(f\"{a} is greater than {b}\")\n",
    "elif  b>a:\n",
    "      print(f\"{b} is greater than {a}\")\n",
    "else :\n",
    "      print(f\"{a} is equal to {b}\")"
   ]
  },
  {
   "cell_type": "code",
   "execution_count": 24,
   "id": "eec218b2-b384-44af-b887-b218251a1302",
   "metadata": {},
   "outputs": [
    {
     "name": "stdin",
     "output_type": "stream",
     "text": [
      "enter your age : 18\n"
     ]
    },
    {
     "name": "stdout",
     "output_type": "stream",
     "text": [
      " you are eligible to vote\n"
     ]
    }
   ],
   "source": [
    "a=int(input(\"enter your age :\"))\n",
    "if a>=18:\n",
    "   print(\" you are eligible to vote\")\n",
    "else :\n",
    "   print(\"you are eligible to vote\")\n"
   ]
  },
  {
   "cell_type": "code",
   "execution_count": 26,
   "id": "7c668ab1-b976-4a8a-bc7e-ce9b47fe7e23",
   "metadata": {},
   "outputs": [
    {
     "name": "stdin",
     "output_type": "stream",
     "text": [
      "enter to check even or odd : 23\n"
     ]
    },
    {
     "name": "stdout",
     "output_type": "stream",
     "text": [
      "23 is odd\n"
     ]
    }
   ],
   "source": [
    "number=int(input(\"enter to check even or odd :\"))\n",
    "if number%2==0:\n",
    "    print(f\"{number} is even\")\n",
    "else:\n",
    "    print(f\"{number} is odd\")\n",
    "    "
   ]
  },
  {
   "cell_type": "code",
   "execution_count": 27,
   "id": "5b016752-0b47-4a70-8b32-b139ed367e0f",
   "metadata": {},
   "outputs": [
    {
     "name": "stdin",
     "output_type": "stream",
     "text": [
      "Enter the year to check leap year or not 2000\n"
     ]
    },
    {
     "name": "stdout",
     "output_type": "stream",
     "text": [
      "2000 is leap year\n"
     ]
    }
   ],
   "source": [
    "year=int(input(\"Enter the year to check leap year or not\"))\n",
    "if year%100==0:\n",
    "    if year%400==0:\n",
    "        print(f\"{year} is leap year\")\n",
    "    else :\n",
    "         print(f\"{year} is not leap year\")\n",
    "else:\n",
    "         if year%4==0:\n",
    "            print(f\"{year} is leap year\")\n",
    "         else :\n",
    "            print(f\"{year} is not leap year\")"
   ]
  },
  {
   "cell_type": "code",
   "execution_count": 31,
   "id": "a8e76b3b-097b-4f1f-afeb-0a4aeaf08b6b",
   "metadata": {},
   "outputs": [
    {
     "name": "stdin",
     "output_type": "stream",
     "text": [
      "Enter number -33\n"
     ]
    },
    {
     "name": "stdout",
     "output_type": "stream",
     "text": [
      "-33 is negative\n"
     ]
    }
   ],
   "source": [
    "num=int(input(\"Enter number\"))\n",
    "if num >=1:\n",
    "    print(f\"{num} is positive\")\n",
    "elif num == 0 : \n",
    "    print(f\"{num} is Zero\")\n",
    "else:\n",
    "    print(f\"{num} is negative\")"
   ]
  },
  {
   "cell_type": "markdown",
   "id": "c0c180d4-fda2-4c3b-8816-e7ba374479a8",
   "metadata": {},
   "source": [
    "# LOOPS IN PYTHON"
   ]
  },
  {
   "cell_type": "markdown",
   "id": "1c4c7367-6a53-4a43-bf64-8fe15066c8ef",
   "metadata": {},
   "source": [
    "- A loop is use to iterate over a sequence"
   ]
  },
  {
   "cell_type": "code",
   "execution_count": 33,
   "id": "ebfb6bae-0919-4c02-b389-46a2a46fae53",
   "metadata": {},
   "outputs": [
    {
     "name": "stdout",
     "output_type": "stream",
     "text": [
      "Apple\n",
      "Banana\n",
      "Mango\n"
     ]
    }
   ],
   "source": [
    "fruits=[\"Apple\",\"Banana\",\"Mango\"]\n",
    "for i in fruits:\n",
    "    print(i)"
   ]
  },
  {
   "cell_type": "code",
   "execution_count": 34,
   "id": "18d52bf5-fcb7-4116-91b1-0c2a6a4e4d05",
   "metadata": {},
   "outputs": [
    {
     "name": "stdout",
     "output_type": "stream",
     "text": [
      "Jatin Dadwal\n",
      "Jatin Dadwal\n",
      "Jatin Dadwal\n",
      "Jatin Dadwal\n",
      "Jatin Dadwal\n",
      "Jatin Dadwal\n",
      "Jatin Dadwal\n",
      "Jatin Dadwal\n",
      "Jatin Dadwal\n"
     ]
    }
   ],
   "source": [
    "for i in range(1,10):\n",
    " print(\"Jatin Dadwal\")"
   ]
  },
  {
   "cell_type": "code",
   "execution_count": 35,
   "id": "d72d07e7-1c56-4017-a210-1652bd8368c7",
   "metadata": {},
   "outputs": [
    {
     "name": "stdout",
     "output_type": "stream",
     "text": [
      "35 number is divisible by 7 and multipy by 5\n",
      "70 number is divisible by 7 and multipy by 5\n",
      "105 number is divisible by 7 and multipy by 5\n",
      "140 number is divisible by 7 and multipy by 5\n",
      "175 number is divisible by 7 and multipy by 5\n",
      "210 number is divisible by 7 and multipy by 5\n",
      "245 number is divisible by 7 and multipy by 5\n",
      "280 number is divisible by 7 and multipy by 5\n",
      "315 number is divisible by 7 and multipy by 5\n",
      "350 number is divisible by 7 and multipy by 5\n",
      "385 number is divisible by 7 and multipy by 5\n",
      "420 number is divisible by 7 and multipy by 5\n",
      "455 number is divisible by 7 and multipy by 5\n",
      "490 number is divisible by 7 and multipy by 5\n"
     ]
    }
   ],
   "source": [
    "# find those number divisible by 7 and multiuply by 5. \n",
    "for i in range(1,500):\n",
    " if i%7==0:\n",
    "    if i%5==0:\n",
    "        print(f\"{i} number is divisible by 7 and multipy by 5\")\n",
    "        \n"
   ]
  },
  {
   "cell_type": "code",
   "execution_count": 36,
   "id": "b0d2a888-2e13-49a3-8cab-264ff7a3462b",
   "metadata": {},
   "outputs": [
    {
     "name": "stdout",
     "output_type": "stream",
     "text": [
      "total number of even is 49\n",
      "total number of odd is 50\n"
     ]
    }
   ],
   "source": [
    "even=0\n",
    "odd=0\n",
    "for i in range(1,100):\n",
    "    if i%2==0:\n",
    "        even+=1\n",
    "    else:\n",
    "        odd+=1\n",
    "print(f\"total number of even is {even}\")\n",
    "print(f\"total number of odd is {odd}\")"
   ]
  },
  {
   "cell_type": "code",
   "execution_count": 37,
   "id": "484338dc-f839-487c-b2ee-c7be45a1760a",
   "metadata": {},
   "outputs": [
    {
     "name": "stdout",
     "output_type": "stream",
     "text": [
      "total number of even is 5\n",
      "total number of odd is 4\n"
     ]
    }
   ],
   "source": [
    "even=0\n",
    "odd=0\n",
    "for i in range(0,9):\n",
    "    if i%2==0:\n",
    "        even+=1\n",
    "    else:\n",
    "        odd+=1\n",
    "print(f\"total number of even is {even}\")\n",
    "print(f\"total number of odd is {odd}\")"
   ]
  },
  {
   "cell_type": "code",
   "execution_count": 38,
   "id": "41ddfad8-4faf-4517-9689-e3c786e4a358",
   "metadata": {},
   "outputs": [
    {
     "name": "stdout",
     "output_type": "stream",
     "text": [
      "*\n",
      "**\n",
      "***\n",
      "****\n",
      "*****\n",
      "******\n",
      "*******\n",
      "********\n",
      "*********\n"
     ]
    }
   ],
   "source": [
    "for i in range(1,10):\n",
    "    print((\"*\")*i)"
   ]
  },
  {
   "cell_type": "code",
   "execution_count": 39,
   "id": "e86ea087-a275-401a-94e3-67c4b361b3dc",
   "metadata": {},
   "outputs": [
    {
     "name": "stdin",
     "output_type": "stream",
     "text": [
      "Enter a number to print table 45\n"
     ]
    },
    {
     "name": "stdout",
     "output_type": "stream",
     "text": [
      "45 x 1 = 45\n",
      "45 x 2 = 90\n",
      "45 x 3 = 135\n",
      "45 x 4 = 180\n",
      "45 x 5 = 225\n",
      "45 x 6 = 270\n",
      "45 x 7 = 315\n",
      "45 x 8 = 360\n",
      "45 x 9 = 405\n",
      "45 x 10 = 450\n"
     ]
    }
   ],
   "source": [
    "a=int(input(\"Enter a number to print table\"))\n",
    "for i in range(1,11):\n",
    "    print(a,\"x\",i,'=',a*i,end=\"\\n\")"
   ]
  },
  {
   "cell_type": "code",
   "execution_count": null,
   "id": "e852e9ce-ca12-4363-b4bb-3a35f93190b2",
   "metadata": {},
   "outputs": [],
   "source": []
  }
 ],
 "metadata": {
  "kernelspec": {
   "display_name": "Python 3 (ipykernel)",
   "language": "python",
   "name": "python3"
  },
  "language_info": {
   "codemirror_mode": {
    "name": "ipython",
    "version": 3
   },
   "file_extension": ".py",
   "mimetype": "text/x-python",
   "name": "python",
   "nbconvert_exporter": "python",
   "pygments_lexer": "ipython3",
   "version": "3.13.5"
  }
 },
 "nbformat": 4,
 "nbformat_minor": 5
}
