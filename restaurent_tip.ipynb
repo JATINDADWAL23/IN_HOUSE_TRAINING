{
 "cells": [
  {
   "cell_type": "code",
   "execution_count": 3,
   "id": "147b6d21-da85-48e5-809b-a75e198c4169",
   "metadata": {},
   "outputs": [
    {
     "name": "stdin",
     "output_type": "stream",
     "text": [
      "Enter the bill amount: 2000\n",
      "enter the percentage of tip you want give: 12\n",
      "enter number of member to split the tip amount 4\n"
     ]
    },
    {
     "name": "stdout",
     "output_type": "stream",
     "text": [
      "Bill amount:{bill}\n",
      "tip is 12.0% : tip amount 240.0\n",
      "total bill: 2240.0\n",
      "bill split into 4 per person is 560.0\n"
     ]
    }
   ],
   "source": [
    "bill=int(input(\"Enter the bill amount:\"))\n",
    "tip=float(input(\"enter the percentage of tip you want give:\"))\n",
    "member=int(input(\"enter number of member to split the tip amount\"))\n",
    "if tip<10 or tip> 50:\n",
    "    print(\"enter the percentage of tip with in the range of 10 to 50 percent\")\n",
    "else:\n",
    "    tip1=(tip/100)*bill\n",
    "    total=bill+tip1\n",
    "member_split=total/member\n",
    "print(\"Bill amount:{bill}\")\n",
    "print(f\"tip is {tip}% : tip amount {tip1}\")\n",
    "print(f\"total bill: {total}\")\n",
    "print(f\"bill split into {member} per person is {member_split}\")   \n",
    "           "
   ]
  },
  {
   "cell_type": "code",
   "execution_count": null,
   "id": "96b89f52-5d11-4121-a69b-7bb38a88925a",
   "metadata": {},
   "outputs": [],
   "source": []
  }
 ],
 "metadata": {
  "kernelspec": {
   "display_name": "Python 3 (ipykernel)",
   "language": "python",
   "name": "python3"
  },
  "language_info": {
   "codemirror_mode": {
    "name": "ipython",
    "version": 3
   },
   "file_extension": ".py",
   "mimetype": "text/x-python",
   "name": "python",
   "nbconvert_exporter": "python",
   "pygments_lexer": "ipython3",
   "version": "3.13.5"
  }
 },
 "nbformat": 4,
 "nbformat_minor": 5
}
