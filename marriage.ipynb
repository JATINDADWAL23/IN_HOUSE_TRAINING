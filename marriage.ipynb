{
 "cells": [
  {
   "cell_type": "code",
   "execution_count": 8,
   "id": "791c3c17-cfa6-451d-b1b1-7607e5e04c92",
   "metadata": {
    "scrolled": true
   },
   "outputs": [
    {
     "name": "stdout",
     "output_type": "stream",
     "text": [
      "Enter you age:\n"
     ]
    },
    {
     "name": "stdin",
     "output_type": "stream",
     "text": [
      " 20\n"
     ]
    },
    {
     "name": "stdout",
     "output_type": "stream",
     "text": [
      "you are adult but not eligible for marrige\n"
     ]
    }
   ],
   "source": [
    "print(\"Enter you age:\")\n",
    "a= int(input())\n",
    "if a>=21:\n",
    "    print(\"you are adult and eligible for marriage \")\n",
    "elif a >= 18:\n",
    "    print(\"you are adult but not eligible for marrige\")\n",
    "else:\n",
    "    print(\"you not adult and not eligible for marriage\")"
   ]
  },
  {
   "cell_type": "code",
   "execution_count": null,
   "id": "315f996d-df67-4457-914d-b1b6acfeeca1",
   "metadata": {},
   "outputs": [],
   "source": []
  }
 ],
 "metadata": {
  "kernelspec": {
   "display_name": "Python 3 (ipykernel)",
   "language": "python",
   "name": "python3"
  },
  "language_info": {
   "codemirror_mode": {
    "name": "ipython",
    "version": 3
   },
   "file_extension": ".py",
   "mimetype": "text/x-python",
   "name": "python",
   "nbconvert_exporter": "python",
   "pygments_lexer": "ipython3",
   "version": "3.13.5"
  }
 },
 "nbformat": 4,
 "nbformat_minor": 5
}
