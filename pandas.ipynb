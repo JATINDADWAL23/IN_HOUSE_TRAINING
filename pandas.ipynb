{
 "cells": [
  {
   "cell_type": "markdown",
   "id": "f43fbee1-b1bc-4056-998e-67f6c87bd050",
   "metadata": {},
   "source": [
    "## Pandas Programs"
   ]
  },
  {
   "cell_type": "code",
   "execution_count": 3,
   "id": "19440f76-8cf6-47d8-a421-64d5ffed0558",
   "metadata": {},
   "outputs": [
    {
     "name": "stdout",
     "output_type": "stream",
     "text": [
      "0      1\n",
      "1     23\n",
      "2      4\n",
      "3    455\n",
      "dtype: int64\n"
     ]
    }
   ],
   "source": [
    "import pandas as pd\n",
    "data = [1,23,4,455]\n",
    "series=pd.Series(data)\n",
    "print(series)"
   ]
  },
  {
   "cell_type": "code",
   "execution_count": 2,
   "id": "3ec5f726-d24c-4316-b887-122f296a09e7",
   "metadata": {},
   "outputs": [
    {
     "data": {
      "application/javascript": [
       "\n",
       "        if (window._pyforest_update_imports_cell) { window._pyforest_update_imports_cell('import pandas as pd'); }\n",
       "    "
      ],
      "text/plain": [
       "<IPython.core.display.Javascript object>"
      ]
     },
     "metadata": {},
     "output_type": "display_data"
    },
    {
     "name": "stdout",
     "output_type": "stream",
     "text": [
      "0    jatin Dadwal,\n",
      "1    jatin Dadwal,\n",
      "2    jatin Dadwal,\n",
      "3    jatin Dadwal,\n",
      "4    jatin Dadwal,\n",
      "dtype: object\n"
     ]
    }
   ],
   "source": [
    "ser =pd.Series('jatin Dadwal,',index=[0,1,2,3,4])\n",
    "print(ser)\n"
   ]
  },
  {
   "cell_type": "code",
   "execution_count": 6,
   "id": "20abba7c-1ecc-401e-a391-105512008656",
   "metadata": {},
   "outputs": [
    {
     "data": {
      "application/javascript": [
       "\n",
       "        if (window._pyforest_update_imports_cell) { window._pyforest_update_imports_cell('import pandas as pd'); }\n",
       "    "
      ],
      "text/plain": [
       "<IPython.core.display.Javascript object>"
      ]
     },
     "metadata": {},
     "output_type": "display_data"
    },
    {
     "name": "stdout",
     "output_type": "stream",
     "text": [
      "0    Delta\n",
      "1    Delta\n",
      "2    Delta\n",
      "3    Delta\n",
      "4    Delta\n",
      "dtype: object\n"
     ]
    }
   ],
   "source": [
    "j=pd.Series(\"Delta\",index=[0,1,2,3,4])\n",
    "print(j)"
   ]
  },
  {
   "cell_type": "code",
   "execution_count": 10,
   "id": "6358a756-33be-489d-91bc-ee2e61cd1b14",
   "metadata": {},
   "outputs": [
    {
     "name": "stdout",
     "output_type": "stream",
     "text": [
      "0     2.000000\n",
      "1     5.444444\n",
      "2     8.888889\n",
      "3    12.333333\n",
      "4    15.777778\n",
      "5    19.222222\n",
      "6    22.666667\n",
      "7    26.111111\n",
      "8    29.555556\n",
      "9    33.000000\n",
      "dtype: float64\n"
     ]
    }
   ],
   "source": [
    "import pandas as pd\n",
    "import numpy as np\n",
    "ser1=pd.Series(np.linspace(2,33,10))\n",
    "print(ser1)"
   ]
  },
  {
   "cell_type": "code",
   "execution_count": 12,
   "id": "f9793f82-350c-48a8-828c-7fbff0f1b12d",
   "metadata": {},
   "outputs": [
    {
     "name": "stdout",
     "output_type": "stream",
     "text": [
      "0     2\n",
      "1     5\n",
      "2     8\n",
      "3    12\n",
      "4    15\n",
      "5    19\n",
      "6    22\n",
      "7    26\n",
      "8    29\n",
      "9    33\n",
      "dtype: int64\n"
     ]
    }
   ],
   "source": [
    "import pandas as pd\n",
    "import numpy as np\n",
    "ser1=pd.Series(np.linspace(2,33,10).astype(int))\n",
    "print(ser1)"
   ]
  },
  {
   "cell_type": "code",
   "execution_count": 14,
   "id": "bbb6bfec-bd0f-4f1b-aaa9-5b18b169c6fc",
   "metadata": {},
   "outputs": [
    {
     "name": "stdout",
     "output_type": "stream",
     "text": [
      "j\n",
      "a\n",
      "t\n",
      "i\n",
      "n\n",
      " \n",
      "D\n",
      "a\n",
      "d\n",
      "w\n",
      "a\n",
      "l\n"
     ]
    }
   ],
   "source": [
    "for x in \"jatin Dadwal\":\n",
    "    print(x)"
   ]
  },
  {
   "cell_type": "code",
   "execution_count": 2,
   "id": "7fbb9e9c-dbf4-45e8-9ecb-5128d157d865",
   "metadata": {},
   "outputs": [],
   "source": [
    "# import numpy as np \n",
    "# import pandas as pd\n",
    "# ser=pd.Series(range(1,20,3),index=[x for x in \"jatin Dadwal\"])\n",
    "# print(ser)"
   ]
  },
  {
   "cell_type": "code",
   "execution_count": 3,
   "id": "6cc8772d-fe89-4722-9764-d681ad65864e",
   "metadata": {},
   "outputs": [
    {
     "name": "stdout",
     "output_type": "stream",
     "text": [
      "0    0\n",
      "1    1\n",
      "2    2\n",
      "3    3\n",
      "4    4\n",
      "5    5\n",
      "6    6\n",
      "7    7\n",
      "8    8\n",
      "9    9\n",
      "dtype: int64\n"
     ]
    }
   ],
   "source": [
    "ser=pd.Series(range(10))\n",
    "print(ser)"
   ]
  },
  {
   "cell_type": "markdown",
   "id": "ba28db74-198b-446f-bf17-873202d91bf9",
   "metadata": {},
   "source": [
    "## Accessing elememt of series"
   ]
  },
  {
   "cell_type": "markdown",
   "id": "f7a4533e-bb52-4be6-b68b-b92dcecd2f5c",
   "metadata": {},
   "source": [
    "1. accessing element from series with postion\n",
    "2. accessing element using label(index)"
   ]
  },
  {
   "cell_type": "code",
   "execution_count": 6,
   "id": "118f2daa-73a1-43bb-88de-2ad4ab7dfb61",
   "metadata": {},
   "outputs": [
    {
     "name": "stdout",
     "output_type": "stream",
     "text": [
      "0     10\n",
      "1     23\n",
      "2    234\n",
      "3     34\n",
      "dtype: int64\n",
      "234\n",
      "34\n"
     ]
    }
   ],
   "source": [
    "import pandas as pd\n",
    "data =[10,23,234,34]\n",
    "ser=pd.Series(data)\n",
    "print(ser)\n",
    "element =ser[2]\n",
    "print(element)\n",
    "element=ser[3]\n",
    "print(element)"
   ]
  },
  {
   "cell_type": "code",
   "execution_count": null,
   "id": "ab71d9b1-3aff-4f2f-a471-f69b9a87c854",
   "metadata": {},
   "outputs": [],
   "source": [
    "\n",
    "l=[2,3,4,5,7]\n",
    "print(l[]0:)"
   ]
  }
 ],
 "metadata": {
  "kernelspec": {
   "display_name": "Python 3 (ipykernel)",
   "language": "python",
   "name": "python3"
  },
  "language_info": {
   "codemirror_mode": {
    "name": "ipython",
    "version": 3
   },
   "file_extension": ".py",
   "mimetype": "text/x-python",
   "name": "python",
   "nbconvert_exporter": "python",
   "pygments_lexer": "ipython3",
   "version": "3.13.5"
  }
 },
 "nbformat": 4,
 "nbformat_minor": 5
}
