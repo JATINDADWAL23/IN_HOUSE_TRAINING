{
 "cells": [
  {
   "cell_type": "code",
   "execution_count": 5,
   "id": "fc806cda-0b5a-4d6d-92c4-87cf9a9182d1",
   "metadata": {},
   "outputs": [
    {
     "name": "stdout",
     "output_type": "stream",
     "text": [
      "[ 11 223  34  34]\n",
      "[223  34]\n"
     ]
    }
   ],
   "source": [
    "import numpy as np\n",
    "a=np.array([11,223,34,34])\n",
    "print(a)\n",
    "print(a[1:3])"
   ]
  },
  {
   "cell_type": "code",
   "execution_count": 8,
   "id": "ad151dfa-f383-4cd6-aedc-31c83af38b64",
   "metadata": {},
   "outputs": [
    {
     "name": "stdout",
     "output_type": "stream",
     "text": [
      "<class 'numpy.ndarray'>\n",
      "[ 12 344  44]\n",
      "[ 12 344  44]\n",
      "2.2.6\n"
     ]
    }
   ],
   "source": [
    "a=np.array([12,344,44])\n",
    "print(type(a))\n",
    "print(a)\n",
    "print(a.copy())\n",
    "print(np.__version__)"
   ]
  },
  {
   "cell_type": "code",
   "execution_count": 16,
   "id": "93f9fcf1-8f1a-4811-a65b-afbd363d6a37",
   "metadata": {},
   "outputs": [
    {
     "name": "stdout",
     "output_type": "stream",
     "text": [
      "[[ 12 233   3]\n",
      " [ 23 234   4]]\n"
     ]
    }
   ],
   "source": [
    "import numpy as q\n",
    "a=q.array([\n",
    "    [12,233,3],\n",
    "           [23,234,4]])\n",
    "print(a)"
   ]
  },
  {
   "cell_type": "code",
   "execution_count": 21,
   "id": "cdcde433-122c-4763-9c58-10284df9f009",
   "metadata": {},
   "outputs": [
    {
     "name": "stdout",
     "output_type": "stream",
     "text": [
      "[[[ 892 2324   34]\n",
      "  [  34   35   43]]\n",
      "\n",
      " [[  12  244   24]\n",
      "  [ 244   24    2]]]\n"
     ]
    }
   ],
   "source": [
    "a=q.array([[[892,2324,34],[34,35,43]],[[12,244,24],[244,24,2]]])\n",
    "print(a)\n"
   ]
  },
  {
   "cell_type": "code",
   "execution_count": 2,
   "id": "811b3e26-d85e-44e1-8676-a835a0278586",
   "metadata": {},
   "outputs": [
    {
     "name": "stdout",
     "output_type": "stream",
     "text": [
      "0\n",
      "1\n",
      "2\n",
      "3\n"
     ]
    }
   ],
   "source": [
    "import numpy as q\n",
    "a=q.array((21))\n",
    "print(a.ndim)\n",
    "b=q.array([12,344,44])\n",
    "print(b.ndim)\n",
    "c=q.array([\n",
    "    [12,233,3],\n",
    "           [23,234,4]])\n",
    "print(c.ndim)\n",
    "d=q.array([[[892,2324,34],[34,35,43]],[[12,244,24],[244,24,2]]])\n",
    "print(d.ndim)\n"
   ]
  },
  {
   "cell_type": "code",
   "execution_count": 29,
   "id": "3ae9c186-26f0-4327-a78e-b936eb0eb21e",
   "metadata": {},
   "outputs": [
    {
     "name": "stdout",
     "output_type": "stream",
     "text": [
      "[[[[12  3  4  4]]]]\n",
      "4\n"
     ]
    }
   ],
   "source": [
    "import numpy as np\n",
    "x=np.array([12,3,4,4],ndmin=4)\n",
    "print(x)\n",
    "print(x.ndim)"
   ]
  },
  {
   "cell_type": "code",
   "execution_count": 30,
   "id": "01b03ff8-8b05-4078-a3ca-765ae7a2ebfd",
   "metadata": {},
   "outputs": [
    {
     "name": "stdout",
     "output_type": "stream",
     "text": [
      "andloic\n"
     ]
    }
   ],
   "source": [
    "a=\"jatindadwalfromhimachal\"\n",
    "print(a[1:-1:3])"
   ]
  },
  {
   "cell_type": "code",
   "execution_count": 35,
   "id": "1a468957-1fb8-4969-8584-885ea2efa23d",
   "metadata": {},
   "outputs": [
    {
     "name": "stdout",
     "output_type": "stream",
     "text": [
      "4\n",
      "1\n",
      "8\n"
     ]
    }
   ],
   "source": [
    "a=q.array([12,3,4,5,3])\n",
    "print(a[2])\n",
    "print(a.ndim)\n",
    "y=a[3]\n",
    "x=a[4]\n",
    "print(y+x)"
   ]
  },
  {
   "cell_type": "code",
   "execution_count": 42,
   "id": "51e6ce74-b38f-4ec6-94ce-fd0dbaedb56f",
   "metadata": {},
   "outputs": [
    {
     "name": "stdout",
     "output_type": "stream",
     "text": [
      "5\n",
      "3\n"
     ]
    }
   ],
   "source": [
    "x=q.array([[244,34,5],[24,44,3]])\n",
    "print(x[0,2])\n",
    "print(x[1,2])"
   ]
  },
  {
   "cell_type": "code",
   "execution_count": 69,
   "id": "1050b8d2-4cbe-46bd-845a-32058762e257",
   "metadata": {},
   "outputs": [
    {
     "name": "stdout",
     "output_type": "stream",
     "text": [
      "1\n",
      "1\n",
      "2\n",
      "3\n",
      "4\n",
      "4\n",
      "5\n",
      "6\n",
      "7\n"
     ]
    }
   ],
   "source": [
    "a.linspace(1,10,9,dtype=int,\n",
    "for i in a:\n",
    "    \n",
    "    print(i)"
   ]
  },
  {
   "cell_type": "code",
   "execution_count": null,
   "id": "2be64804-60fb-46b1-be8e-c41a4d313870",
   "metadata": {},
   "outputs": [],
   "source": [
    "a=q.array([13,4,343,3])\n",
    "for i in a:"
   ]
  },
  {
   "cell_type": "code",
   "execution_count": 14,
   "id": "306be128-7335-4267-ada9-ba88bc9ed256",
   "metadata": {},
   "outputs": [],
   "source": [
    "# import numpy as np\n",
    "# a=np.array([11,5])\n",
    "# new=a.reshape(2,5,-1)\n",
    "             "
   ]
  },
  {
   "cell_type": "code",
   "execution_count": 16,
   "id": "c41b82f3-95a5-45f8-8900-fca1e58eb29d",
   "metadata": {},
   "outputs": [
    {
     "name": "stdout",
     "output_type": "stream",
     "text": [
      "[1 3]\n"
     ]
    }
   ],
   "source": [
    "a=np.array([1,2,3,4,5,6])\n",
    "th=[0,2]\n",
    "print(a[th])"
   ]
  },
  {
   "cell_type": "code",
   "execution_count": 20,
   "id": "c0d59712-c978-4dac-bd63-325953f7e98d",
   "metadata": {},
   "outputs": [
    {
     "name": "stdout",
     "output_type": "stream",
     "text": [
      "<U6\n",
      "<U2\n"
     ]
    }
   ],
   "source": [
    "a=np.array(['cat',\"dog\"],dtype=\"U6\")\n",
    "print(a.dtype)\n",
    "a=np.array(['cat',\"dog\"],dtype=\"U2\")\n",
    "print(a.dtype)"
   ]
  },
  {
   "cell_type": "code",
   "execution_count": 25,
   "id": "04f0a4d4-1379-49a4-ab29-6c2ed06456dd",
   "metadata": {},
   "outputs": [
    {
     "name": "stdout",
     "output_type": "stream",
     "text": [
      "[[-2.   1. ]\n",
      " [ 1.5 -0.5]] -2.0000000000000004 EigResult(eigenvalues=array([-0.37228132,  5.37228132]), eigenvectors=array([[-0.82456484, -0.41597356],\n",
      "       [ 0.56576746, -0.90937671]]))\n"
     ]
    }
   ],
   "source": [
    "from numpy.linalg import inv,det,eig\n",
    "a=np.array([[1,2],[3,4]])\n",
    "np.dot(a,a)\n",
    "\n",
    "print(inv(a),det(a),eig(a))"
   ]
  },
  {
   "cell_type": "code",
   "execution_count": 29,
   "id": "0ccad590-b696-4fa8-9c62-e083d8dd72e9",
   "metadata": {},
   "outputs": [
    {
     "data": {
      "text/plain": [
       "array([[1., 2.],\n",
       "       [3., 4.]])"
      ]
     },
     "execution_count": 29,
     "metadata": {},
     "output_type": "execute_result"
    }
   ],
   "source": [
    "np.save('my _array.npy',a)\n",
    "np.load('my _array.npy')\n",
    "np.savetxt('data.csv',a,delimiter=',')\n",
    "np.genfromtxt('data.csv',delimiter=',')\n"
   ]
  },
  {
   "cell_type": "code",
   "execution_count": 39,
   "id": "7cf970be-7955-45bd-a894-d14ff4962836",
   "metadata": {},
   "outputs": [
    {
     "name": "stdout",
     "output_type": "stream",
     "text": [
      "[False False False False]\n"
     ]
    },
    {
     "data": {
      "text/plain": [
       "array([ 4, 23,  4,  2])"
      ]
     },
     "execution_count": 39,
     "metadata": {},
     "output_type": "execute_result"
    }
   ],
   "source": [
    "arr=np.array([4,23,4,2])\n",
    "print(np.isnan(arr))\n",
    "np.nan_to_num(arr)\n"
   ]
  },
  {
   "cell_type": "code",
   "execution_count": 41,
   "id": "8177979c-e33c-4a0b-836f-124f1466a61c",
   "metadata": {},
   "outputs": [
    {
     "name": "stdout",
     "output_type": "stream",
     "text": [
      "True\n",
      "[False False False False  True]\n"
     ]
    }
   ],
   "source": [
    "arr=np.array([4,23,4,2,np.nan])\n",
    "print(np.isnan(arr).any())\n",
    "print(np.isnan(arr))\n",
    "arr=np.nan_to_num(arr)"
   ]
  },
  {
   "cell_type": "code",
   "execution_count": null,
   "id": "dfffa6be-1dd0-4b12-883a-b5e77811b3c9",
   "metadata": {},
   "outputs": [],
   "source": []
  }
 ],
 "metadata": {
  "kernelspec": {
   "display_name": "Python 3 (ipykernel)",
   "language": "python",
   "name": "python3"
  },
  "language_info": {
   "codemirror_mode": {
    "name": "ipython",
    "version": 3
   },
   "file_extension": ".py",
   "mimetype": "text/x-python",
   "name": "python",
   "nbconvert_exporter": "python",
   "pygments_lexer": "ipython3",
   "version": "3.13.5"
  }
 },
 "nbformat": 4,
 "nbformat_minor": 5
}
