{
 "cells": [
  {
   "cell_type": "code",
   "execution_count": 1,
   "id": "c74c1826-056b-4963-a599-1c9fb14a24aa",
   "metadata": {},
   "outputs": [
    {
     "name": "stdout",
     "output_type": "stream",
     "text": [
      "What do you want to do \n",
      " Add,Sub,Mul,Divide\n"
     ]
    },
    {
     "name": "stdin",
     "output_type": "stream",
     "text": [
      " mul\n"
     ]
    },
    {
     "name": "stdout",
     "output_type": "stream",
     "text": [
      "Enter first value:\n"
     ]
    },
    {
     "name": "stdin",
     "output_type": "stream",
     "text": [
      " 34\n"
     ]
    },
    {
     "name": "stdout",
     "output_type": "stream",
     "text": [
      "Enter second value:\n"
     ]
    },
    {
     "name": "stdin",
     "output_type": "stream",
     "text": [
      " 3\n"
     ]
    },
    {
     "name": "stdout",
     "output_type": "stream",
     "text": [
      "Result: 102\n"
     ]
    }
   ],
   "source": [
    "\n",
    "print(\"What do you want to do \\n Add,Sub,Mul,Divide\")\n",
    "a = input().lower()\n",
    "if a not in [\"add\", \"sub\", \"mul\", \"divide\"]:\n",
    "    print(\"Error  Please choose from Add, Sub, Mul, Divide.\")\n",
    "    exit()\n",
    "    \n",
    "print(\"Enter first value:\")\n",
    "b = int(input())\n",
    "print(\"Enter second value:\")\n",
    "c = int(input())\n",
    "if a == \"add\":\n",
    "    print(\"Result:\", b + c)\n",
    "elif a == \"sub\":\n",
    "    print(\"Result:\", b - c)\n",
    "elif a == \"mul\":\n",
    "    print(\"Result:\", b * c)\n",
    "elif a == \"divide\":\n",
    "    if c == 0:\n",
    "        print(\"Cannot divide by zero\")\n",
    "    else:\n",
    "        print(\"Result:\", b / c)\n"
   ]
  },
  {
   "cell_type": "code",
   "execution_count": null,
   "id": "7d6a6888-ad3a-473f-b975-b052e15e6547",
   "metadata": {},
   "outputs": [],
   "source": []
  }
 ],
 "metadata": {
  "kernelspec": {
   "display_name": "Python 3 (ipykernel)",
   "language": "python",
   "name": "python3"
  },
  "language_info": {
   "codemirror_mode": {
    "name": "ipython",
    "version": 3
   },
   "file_extension": ".py",
   "mimetype": "text/x-python",
   "name": "python",
   "nbconvert_exporter": "python",
   "pygments_lexer": "ipython3",
   "version": "3.13.5"
  }
 },
 "nbformat": 4,
 "nbformat_minor": 5
}
