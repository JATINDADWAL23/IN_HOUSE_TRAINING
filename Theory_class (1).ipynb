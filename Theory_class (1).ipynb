{
 "cells": [
  {
   "cell_type": "code",
   "execution_count": null,
   "id": "7f6fe71e-991a-4bb6-a4c0-1c9a4fcc3fc6",
   "metadata": {},
   "outputs": [],
   "source": [
    "## Day 3 sum of two number \n",
    "a=445\n",
    " # value of a is 445\n",
    "b=324\n",
    "# value of b is 324\n",
    "c=a+b\n",
    "# c is the sum of a and b\n",
    "print(\"sum of number :\",c)"
   ]
  },
  {
   "cell_type": "code",
   "execution_count": null,
   "id": "bec23996-2e83-4998-b660-2673f524232c",
   "metadata": {},
   "outputs": [],
   "source": [
    "# subtraction of two number\n",
    "a=443\n",
    "# value of a is 443\n",
    "b=5\n",
    "# value of b is 5\n",
    "c=a-b\n",
    "# c is the subtraction of a and b\n",
    "print(\"subtraction of number :\",c)"
   ]
  },
  {
   "cell_type": "code",
   "execution_count": null,
   "id": "1b655b82-efc4-4185-9ee1-b021af154dba",
   "metadata": {},
   "outputs": [],
   "source": [
    "# multiplication of two number\n",
    "a=4\n",
    "# value of a is 4\n",
    "b=5\n",
    "# value of b is 5\n",
    "c=a*b\n",
    "print(\"multiplication of number:\",c)"
   ]
  },
  {
   "cell_type": "code",
   "execution_count": null,
   "id": "442d772a-bb88-4546-b8ee-9bf27a59d66d",
   "metadata": {},
   "outputs": [],
   "source": []
  },
  {
   "cell_type": "code",
   "execution_count": null,
   "id": "afe63ec0-a5fe-42eb-a2e8-468698c5e7bb",
   "metadata": {},
   "outputs": [],
   "source": [
    "# division of two number\n",
    "a=42\n",
    "# value of a is 42\n",
    "b=2\n",
    "c=a/b\n",
    "# c is the division of a and b\n",
    "print(\"division of number :\",c)\n",
    "\n"
   ]
  },
  {
   "cell_type": "code",
   "execution_count": null,
   "id": "f76d2994-5ded-4358-a891-3a5e705f1375",
   "metadata": {},
   "outputs": [],
   "source": [
    "a=233\n",
    "# value of a is 233\n",
    "b=3\n",
    "# value of b is 3\n",
    "c=a%b\n",
    "# c is the modulus of a and b   \n",
    "print(\"remainder of number :\",c)"
   ]
  },
  {
   "cell_type": "code",
   "execution_count": null,
   "id": "f8dadae7-9178-471b-9609-8bd810636041",
   "metadata": {},
   "outputs": [],
   "source": [
    "a=34\n",
    "b=3\n",
    "c=a**b\n",
    "#In c  a is the value and b is power of a\n",
    "print(\"cube of a is \",c)"
   ]
  },
  {
   "cell_type": "markdown",
   "id": "eb4a676a-3f0c-48a9-998c-c379275421d0",
   "metadata": {},
   "source": [
    "## Day 3"
   ]
  },
  {
   "cell_type": "code",
   "execution_count": null,
   "id": "f4d92cc6-11ed-48e8-965d-80e276fc7431",
   "metadata": {},
   "outputs": [],
   "source": [
    "a=input(\"Enter name : \")\n",
    "b=int(input(\"Enter age : \"))\n",
    "c=input(\" Enter address: \")\n",
    "print(\"person is adult true or False\")\n",
    "print( b>=18) "
   ]
  },
  {
   "cell_type": "code",
   "execution_count": null,
   "id": "205c9f94-72ed-476d-a1b1-adb0b88dffbe",
   "metadata": {},
   "outputs": [],
   "source": [
    "x={\"apple\",\"jatin\"}\n",
    "print(type(x))"
   ]
  },
  {
   "cell_type": "code",
   "execution_count": null,
   "id": "8a6ee30a-ab72-43af-bf44-477947014358",
   "metadata": {},
   "outputs": [],
   "source": [
    "a=input(\"Enter your name:\")\n",
    "print(f\" HI {a} ,Good Morning\")"
   ]
  },
  {
   "cell_type": "code",
   "execution_count": null,
   "id": "9eee108d-bb51-468a-b395-6fbe7c476ad1",
   "metadata": {},
   "outputs": [],
   "source": [
    "list=[1,2,3,45]\n",
    "print(45 in list)"
   ]
  },
  {
   "cell_type": "code",
   "execution_count": null,
   "id": "bf83b86c-2c91-4779-9c3f-e905a733e356",
   "metadata": {},
   "outputs": [],
   "source": [
    "a=int(input(\"enter the value:\"))\n",
    "      \n",
    "if a>10:\n",
    "      print(\"number is greater than 10\")\n",
    "elif a<10  :\n",
    "      print(\"a is less than 10\")\n",
    "else :\n",
    "       print(\"a  is equal to 10\")\n",
    "    "
   ]
  },
  {
   "cell_type": "markdown",
   "id": "04414c62-4220-4525-9dab-e457c40c24da",
   "metadata": {},
   "source": [
    "## Day4"
   ]
  },
  {
   "cell_type": "code",
   "execution_count": null,
   "id": "112ae47c-8087-4c4d-8291-df52e7bb2697",
   "metadata": {},
   "outputs": [],
   "source": [
    "fruits=[\"apple\",\"mango\",\"banana\"]\n",
    "fruits.insert(1,\"Praful\")\n",
    "print(fruits)"
   ]
  },
  {
   "cell_type": "code",
   "execution_count": null,
   "id": "9be9a319-026b-418f-a4ab-16d8b1006f41",
   "metadata": {},
   "outputs": [],
   "source": [
    "fruits=[\"apple\",\"Praful\",\"mango\",\"banana\"]\n",
    "fruits.remove(\"Praful\")\n",
    "print(fruits)"
   ]
  },
  {
   "cell_type": "code",
   "execution_count": null,
   "id": "d2d827aa-8b37-4c92-b702-f9df23d66d1a",
   "metadata": {},
   "outputs": [],
   "source": [
    "number=[1,23,5566,778,27]\n",
    "number.sort()\n",
    "print(number)"
   ]
  },
  {
   "cell_type": "code",
   "execution_count": null,
   "id": "85d465d2-6016-40af-88a9-5d87888e399c",
   "metadata": {},
   "outputs": [],
   "source": [
    "number=[1,23,5566,778,27]\n",
    "number.sort(reverse=True)\n",
    "print(number)"
   ]
  },
  {
   "cell_type": "code",
   "execution_count": null,
   "id": "4e0914f2-c34f-452f-bf8f-9a6594f8a6fb",
   "metadata": {},
   "outputs": [],
   "source": [
    "number=[1,23,5566,778,27]\n",
    "number.reverse()\n",
    "print(number)"
   ]
  },
  {
   "cell_type": "code",
   "execution_count": null,
   "id": "a301a5e5-a953-4276-b0b1-fa67f7ed302f",
   "metadata": {},
   "outputs": [],
   "source": [
    "list=[23,566,456,7,54,345]\n",
    "print(len(list))"
   ]
  },
  {
   "cell_type": "code",
   "execution_count": null,
   "id": "6e952121-8dd9-4f64-81a2-1597334f5223",
   "metadata": {},
   "outputs": [],
   "source": [
    "a=\"JAI SHREE RAM\"\n",
    "b = a.lower()\n",
    "print(b)"
   ]
  },
  {
   "cell_type": "code",
   "execution_count": null,
   "id": "be01eb67-f9b8-4654-b68b-dbb71f3ae2aa",
   "metadata": {},
   "outputs": [],
   "source": [
    "a=\"jai shree ram\"\n",
    "b = a.upper()\n",
    "print(b)"
   ]
  },
  {
   "cell_type": "code",
   "execution_count": null,
   "id": "f4a931a8-f24b-454a-88a9-5e89c8a7563a",
   "metadata": {},
   "outputs": [],
   "source": [
    "a=\"JAI SHREE RAM\"\n",
    "b = a.capitalize()\n",
    "print(b)"
   ]
  },
  {
   "cell_type": "code",
   "execution_count": null,
   "id": "fafbfc3a-352e-4f60-81bf-6238c14b0a70",
   "metadata": {},
   "outputs": [],
   "source": [
    "students = {\n",
    "    \"jatin\": {\"name\": \"Jatin\", \"age\": 16, \"grade\": \"a\"},\n",
    "    \"praful\": {\"name\": \"Praful\", \"age\": 15, \"grade\": \"a\"},\n",
    "    \"reetak\": {\"name\": \"Reetak\", \"age\": 17, \"grade\": \"a\"},\n",
    "    \"aditya\": {\"name\": \"Aditya\", \"age\": 19, \"grade\": \"a\"},\n",
    "    \"mohit\": {\"name\": \"Mohit\", \"age\": 34, \"grade\": \"a\"},\n",
    "    \"rohit\": {\"name\": \"Rohit\", \"age\": 23, \"grade\": \"a\"},\n",
    "    \"dixit\": {\"name\": \"Dixit\", \"age\": 17, \"grade\": \"a\"},\n",
    "    \"arav\": {\"name\": \"Arav\", \"age\": 67, \"grade\": \"c\"},\n",
    "    \"piyush\": {\"name\": \"Piyush\", \"age\": 17, \"grade\": \"a\"},\n",
    "    \"dhruv\": {\"name\": \"Dhruv\", \"age\": 19, \"grade\": \"b\"},\n",
    "}\n",
    "\n",
    "j = input(\"ENTER NAME TO GET INFO: \").lower()\n",
    "print(students[j])"
   ]
  },
  {
   "cell_type": "code",
   "execution_count": null,
   "id": "65475653-5bae-4f1b-b8e1-c3a4d620f722",
   "metadata": {},
   "outputs": [],
   "source": [
    "amount=int(input(\"Enter the amount:\"))\n",
    "rate=int(input(\"Enter Rate \"))\n",
    "time=int(input(\"Enter time period \"))\n",
    "simpleintrest=(amount*rate*time)/100\n",
    "print(f\"Simple intrest : {simpleintrest}\") "
   ]
  },
  {
   "cell_type": "markdown",
   "id": "079056fa-4106-446a-8e6e-e1d68b908e9a",
   "metadata": {},
   "source": [
    "## Day 5"
   ]
  },
  {
   "cell_type": "markdown",
   "id": "27191c6d-3d80-40b8-b30a-57f6ae7a5782",
   "metadata": {},
   "source": [
    "### In this we use functions"
   ]
  },
  {
   "cell_type": "code",
   "execution_count": null,
   "id": "bc517c13-f038-4b6f-b507-ef50872b2c1a",
   "metadata": {},
   "outputs": [],
   "source": [
    "def jatin():\n",
    "    print(\"name jatin \\nage 18\")\n",
    "jatin()    "
   ]
  },
  {
   "cell_type": "code",
   "execution_count": null,
   "id": "bc6e8a39-6d16-4e61-89d5-9c8e849cf24e",
   "metadata": {},
   "outputs": [],
   "source": [
    "def my_function(fname):\n",
    "    print(fname + \"refsnes\")\n",
    "my_function(\"email\")\n",
    "my_function(\"tobias\")\n",
    "my_function(\"Linus\")\n"
   ]
  },
  {
   "cell_type": "code",
   "execution_count": null,
   "id": "43967df1-deba-47a6-b88c-5913ae0d76de",
   "metadata": {},
   "outputs": [],
   "source": [
    "#fname and lname is arrgument\n",
    "def my_function(fname,lname):\n",
    "    print(fname+\" \"+ lname)\n",
    "my_function(\"jatin\",\"Dadwal\")    "
   ]
  },
  {
   "cell_type": "code",
   "execution_count": null,
   "id": "9f3bd47d-eb3e-4dc7-a917-e3b356de43a1",
   "metadata": {},
   "outputs": [],
   "source": [
    "# name is the arrgument\n",
    "def hi(name):\n",
    "    print(\"hi \"+ name +\" ,good morning\")\n",
    "name=input(\"enter your name\")\n",
    "hi(name)"
   ]
  },
  {
   "cell_type": "code",
   "execution_count": null,
   "id": "3af74c0d-a357-4035-8c17-f40c1a9cad14",
   "metadata": {},
   "outputs": [],
   "source": [
    "#kid is arrgument and \"*\" use to print all arrgument same time\n",
    "def my_function(*kids):\n",
    "    print(\"the youngest child  is \",kids)\n",
    "my_function(\"reetak 1\",\"reetak 2\",\"reetak 3\")"
   ]
  },
  {
   "cell_type": "code",
   "execution_count": null,
   "id": "b0254776-5ee7-4ae9-bc1d-ae3a85561ea2",
   "metadata": {},
   "outputs": [],
   "source": [
    "# with \"*\" we have to print it individually add arrgument\n",
    "def  my_function(kid1,kid2,kid3):\n",
    "    print(\"the youngest child  is \"+kid1,kid2,kid3)\n",
    "my_function(\"reetak 1\",\"reetak 2\",\"reetak 3\")"
   ]
  },
  {
   "cell_type": "code",
   "execution_count": null,
   "id": "829f23f7-758b-4c8d-aa5b-a8532bd0a00d",
   "metadata": {},
   "outputs": [],
   "source": [
    "# it this we can decide which arrgument we want to print\n",
    "def my_function(child1,child2,child3):\n",
    "    print(\"the youngest child is \"+child3)\n",
    "my_function(child1=\"Shushant\",child2=\"Praful\",child3=\"Reetak\")"
   ]
  },
  {
   "cell_type": "code",
   "execution_count": null,
   "id": "a1ff4b6f-1f72-4506-a201-d7e4c9a34da7",
   "metadata": {},
   "outputs": [],
   "source": [
    "def my_fun(**kid):\n",
    "    print(\"the last name is\",kid[\"lname\"])\n",
    "my_fun(fname=\"Jatin\",lname=\"Dadwal\")    "
   ]
  },
  {
   "cell_type": "code",
   "execution_count": null,
   "id": "4770904a-79b1-49a6-8dcc-9b5bfa1e7e1e",
   "metadata": {},
   "outputs": [],
   "source": [
    "list1=[1,2,3,4,54]\n",
    "\n",
    "b=len(list1)\n",
    "print(f\"length is {b}\")\n",
    "c = b-1\n",
    "print(f\"indexing is {c} \")\n"
   ]
  },
  {
   "cell_type": "code",
   "execution_count": null,
   "id": "dec69827-0402-4ad8-8ce5-1460fa2896f5",
   "metadata": {},
   "outputs": [],
   "source": [
    "Day 6"
   ]
  },
  {
   "cell_type": "markdown",
   "id": "84d023e9-4695-4b79-89c5-162d9cf7ba3b",
   "metadata": {},
   "source": [
    "### Rag Pipeline.\n"
   ]
  },
  {
   "cell_type": "markdown",
   "id": "2372c854-c2bb-4054-bd82-ade672c5e14b",
   "metadata": {},
   "source": [
    "#### RAG: Retrival Argumented gentrated.\n"
   ]
  },
  {
   "cell_type": "markdown",
   "id": "3ef74b89-f9d2-43a9-a770-9723f9dd14f2",
   "metadata": {},
   "source": [
    "- It based on the LLM(Large language model). Chatgpt ,deepseek ,grok are based on the LLM. \n",
    "- It covert input in vector form. and arrange and only convert main prompt into vector form.\n",
    "    "
   ]
  },
  {
   "cell_type": "code",
   "execution_count": 15,
   "id": "a2dee1f4-fbe9-47c5-96a2-12556d30361a",
   "metadata": {},
   "outputs": [],
   "source": [
    "def jatin():\n",
    "    while a==1 :\n",
    "            a=print(input(\"Enter 1 to add name,lastname and enter 2 exit\"))\n",
    "            b=print(input(\"Enter First name:\"))\n",
    "            c=print(input(\"Enter last name:\")) \n",
    "            print(f\"{b} {c}\")\n",
    "            jatin() \n",
    "    else:           \n",
    "            print(\"have a good day\")   "
   ]
  },
  {
   "cell_type": "code",
   "execution_count": null,
   "id": "e73f268d-a203-4ca0-8b93-5fffc7d41a3a",
   "metadata": {},
   "outputs": [],
   "source": []
  }
 ],
 "metadata": {
  "kernelspec": {
   "display_name": "Python 3 (ipykernel)",
   "language": "python",
   "name": "python3"
  },
  "language_info": {
   "codemirror_mode": {
    "name": "ipython",
    "version": 3
   },
   "file_extension": ".py",
   "mimetype": "text/x-python",
   "name": "python",
   "nbconvert_exporter": "python",
   "pygments_lexer": "ipython3",
   "version": "3.13.5"
  }
 },
 "nbformat": 4,
 "nbformat_minor": 5
}
