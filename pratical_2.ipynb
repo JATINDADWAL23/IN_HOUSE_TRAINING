{
 "cells": [
  {
   "cell_type": "markdown",
   "id": "973f181a-6ec3-42b7-a79c-a0c6f1c6a213",
   "metadata": {},
   "source": [
    "### 1. Write a code  to create a tuple with the element 100,200, 300 and print it.\n"
   ]
  },
  {
   "cell_type": "code",
   "execution_count": 2,
   "id": "8a008a01-608b-474d-992c-f6871cd33e3b",
   "metadata": {},
   "outputs": [
    {
     "name": "stdout",
     "output_type": "stream",
     "text": [
      "<class 'tuple'>\n",
      "(100, 200, 300)\n"
     ]
    }
   ],
   "source": [
    "tuple1=(100,200,300)\n",
    "print(type(tuple1))\n",
    "print(tuple1)"
   ]
  },
  {
   "cell_type": "markdown",
   "id": "55c658bc-0b5f-42fb-a98a-a5dc7150d7c2",
   "metadata": {},
   "source": [
    "### 2.Write a code to access the second to last element of the tuple(\"red\",\"green\",\"blue\",\"yellow\").\n"
   ]
  },
  {
   "cell_type": "code",
   "execution_count": 3,
   "id": "9f44fd8a-e2e3-4693-95fb-d1638b503f7c",
   "metadata": {},
   "outputs": [
    {
     "name": "stdout",
     "output_type": "stream",
     "text": [
      "green \n"
     ]
    }
   ],
   "source": [
    "list1=[\"red\",\"green \",\"blue\",\"yellow\"]\n",
    "print(list1[1])"
   ]
  },
  {
   "cell_type": "markdown",
   "id": "de7296fd-4874-40c7-8bc6-7a4e2a336aba",
   "metadata": {},
   "source": [
    "### 3.Write a code to find the minimum number in the tuple(10,20,5,15)  "
   ]
  },
  {
   "cell_type": "code",
   "execution_count": 6,
   "id": "23a684e7-6b8f-4822-9019-09a52c9e7ce2",
   "metadata": {},
   "outputs": [
    {
     "name": "stdout",
     "output_type": "stream",
     "text": [
      "5\n"
     ]
    }
   ],
   "source": [
    "tuple1=(10,20,5,15)\n",
    "print(min(tuple1))"
   ]
  },
  {
   "cell_type": "markdown",
   "id": "7686494a-4cd3-4587-89b2-4d7e5946f61d",
   "metadata": {},
   "source": [
    "### 4. Write a code to find index of the element \"cat\" in the tuple(\"dog\",\"cat\",\"rabbit\")\n"
   ]
  },
  {
   "cell_type": "code",
   "execution_count": 7,
   "id": "e880c73f-60b5-40dc-9c1a-1809306ed415",
   "metadata": {},
   "outputs": [
    {
     "name": "stdout",
     "output_type": "stream",
     "text": [
      "Cat\n"
     ]
    }
   ],
   "source": [
    "tuple1=(\"Dog\",\"Cat\",\"rabbit\")\n",
    "print(tuple1[1])"
   ]
  },
  {
   "cell_type": "markdown",
   "id": "82d3b2bc-6673-4856-b1c9-42d157f768a0",
   "metadata": {},
   "source": [
    "### 5. Write  a code to create a tuple containg three  diffrent fruits and check if \"Kiwi\" is in it."
   ]
  },
  {
   "cell_type": "code",
   "execution_count": 3,
   "id": "0b16c04e-bc64-4fd0-ac23-b10501aa6076",
   "metadata": {},
   "outputs": [
    {
     "name": "stdout",
     "output_type": "stream",
     "text": [
      "True\n"
     ]
    }
   ],
   "source": [
    "tuple1=(\"mango\",\"kiwi\",\"banana\")\n",
    "print(\"kiwi\" in tuple1)"
   ]
  },
  {
   "cell_type": "markdown",
   "id": "e12f6429-49d8-4168-be57-32bf36b9a17a",
   "metadata": {},
   "source": [
    "### 6. Write a code to create a set  with the element 'a','b','c' and print."
   ]
  },
  {
   "cell_type": "code",
   "execution_count": 18,
   "id": "e66057aa-d6f2-4448-b307-3e29eb7ea080",
   "metadata": {},
   "outputs": [
    {
     "name": "stdout",
     "output_type": "stream",
     "text": [
      "<class 'set'>\n",
      "{'c', 'b', 'a'}\n"
     ]
    }
   ],
   "source": [
    "set1={\"a\",\"b\",\"c\"}\n",
    "print(type(set1))\n",
    "\n",
    "print(set1)"
   ]
  },
  {
   "cell_type": "markdown",
   "id": "05d0721b-592f-4979-9293-fac701614bec",
   "metadata": {},
   "source": [
    "### 7. Write  a code to clear all  element from the set {1,2,3,4,5}."
   ]
  },
  {
   "cell_type": "code",
   "execution_count": 19,
   "id": "2affb472-1ea1-4c2d-94b2-35ee0cd3d296",
   "metadata": {},
   "outputs": [
    {
     "name": "stdout",
     "output_type": "stream",
     "text": [
      "set()\n"
     ]
    }
   ],
   "source": [
    "set1={1,2,3,4,5}\n",
    "set1.clear()\n",
    "print(set1)\n"
   ]
  },
  {
   "cell_type": "markdown",
   "id": "4446766f-fd70-4f12-89a1-d766c4114378",
   "metadata": {},
   "source": [
    "### 8. Write to remove the element 4 from the set {1,2,3,4}"
   ]
  },
  {
   "cell_type": "code",
   "execution_count": 16,
   "id": "e0608442-75d3-4d80-b31a-ab2f84c206ed",
   "metadata": {},
   "outputs": [
    {
     "name": "stdout",
     "output_type": "stream",
     "text": [
      "{1, 2, 3}\n"
     ]
    }
   ],
   "source": [
    "set1={1,2,3,4}\n",
    "set1.remove(4)\n",
    "print(set1)"
   ]
  },
  {
   "cell_type": "markdown",
   "id": "1e3839d9-aeb1-4c7f-ad0b-a5a41e5fa805",
   "metadata": {},
   "source": [
    "### 9. Write a to find the union  of two sets {1,2,3,} and {3,4,5}."
   ]
  },
  {
   "cell_type": "code",
   "execution_count": 20,
   "id": "a768e3b7-dfaa-44dc-9803-c313fff8c2ef",
   "metadata": {},
   "outputs": [
    {
     "name": "stdout",
     "output_type": "stream",
     "text": [
      "{1, 2, 3, 4, 5}\n"
     ]
    }
   ],
   "source": [
    "a={1,2,3}\n",
    "b={3,4,5}\n",
    "c=a.union(b)\n",
    "print(c)"
   ]
  },
  {
   "cell_type": "markdown",
   "id": "3536c24d-957c-42dd-8a51-3e6d0df7309b",
   "metadata": {},
   "source": [
    "### 10. Write a code to find the intersection of two sets{1,2,3} and {2,3,4}"
   ]
  },
  {
   "cell_type": "code",
   "execution_count": 38,
   "id": "b0c3c0fd-e58a-4abb-bb03-fec5fba0704e",
   "metadata": {},
   "outputs": [
    {
     "name": "stdout",
     "output_type": "stream",
     "text": [
      "{2, 3}\n"
     ]
    }
   ],
   "source": [
    "set1={1,2,3}\n",
    "set2={2,3,4}\n",
    "c=set1.intersection(set2)\n",
    "print(c)\n"
   ]
  },
  {
   "cell_type": "markdown",
   "id": "37765b10-aa4d-47b9-b022-e8ac6308e363",
   "metadata": {},
   "source": [
    "### 11. Write a code to create a dictionary with the key \"name\",\"age\", and \"city\" ,and print it.\n",
    "    \n",
    "                        "
   ]
  },
  {
   "cell_type": "code",
   "execution_count": 24,
   "id": "209485b0-16a6-4c2a-b2b8-8edac848fc2d",
   "metadata": {},
   "outputs": [
    {
     "name": "stdout",
     "output_type": "stream",
     "text": [
      "{'name': 'Jatin Dadwal', 'age': 19, 'city': 'dada siba'}\n"
     ]
    }
   ],
   "source": [
    "Dic_t={\"name\":\"Jatin Dadwal\",\n",
    "       \"age\":19,\n",
    "       \"city\":\"dada siba\"}\n",
    "print(Dic_t)\n",
    "       "
   ]
  },
  {
   "cell_type": "markdown",
   "id": "10c6bd5e-d9e2-4c25-b0e3-74c5e842fac6",
   "metadata": {},
   "source": [
    "### 12. Write a code to add a new key-value pair \"country\": \"USA\" to the dictionary {'name': 'John', 'age': 25}.\n"
   ]
  },
  {
   "cell_type": "code",
   "execution_count": 29,
   "id": "08426cff-8570-4002-9e48-ccc0789977bc",
   "metadata": {},
   "outputs": [
    {
     "name": "stdout",
     "output_type": "stream",
     "text": [
      "{'Name': 'John', 'age': 25, 'country': 'USA'}\n"
     ]
    }
   ],
   "source": [
    "dic_t={\n",
    "    \"Name\": \"John\",\n",
    "    \"age\": 25\n",
    "}\n",
    "dic_t[\"country\"]=\"USA\"\n",
    "print(dic_t)"
   ]
  },
  {
   "cell_type": "markdown",
   "id": "ec509502-524f-4d96-9692-478418cbca94",
   "metadata": {},
   "source": [
    "### 13. Write a code to access the value associated with the key \"name\" in the dictionary {'name': 'Alice', 'age': 30}."
   ]
  },
  {
   "cell_type": "code",
   "execution_count": 36,
   "id": "d525c45d-40da-4cf1-9ab1-0de3e54d392b",
   "metadata": {},
   "outputs": [
    {
     "name": "stdout",
     "output_type": "stream",
     "text": [
      "Alice\n"
     ]
    }
   ],
   "source": [
    "dic_t={\n",
    "    \"Name\":\"Alice\",\n",
    "    \"Age\": 30\n",
    "}\n",
    "print(dic_t.get(\"Name\"))"
   ]
  },
  {
   "cell_type": "markdown",
   "id": "1b31642e-47cd-4336-ae1d-d213ab0087d3",
   "metadata": {},
   "source": [
    "### 14.  Write a code to remove the key \"age\" from the dictionary ['name': 'Bob', 'age': 22, 'city': 'New York'}.\n"
   ]
  },
  {
   "cell_type": "code",
   "execution_count": 42,
   "id": "4eb06c00-d7bc-44a9-bb1b-41ca4c5ec13d",
   "metadata": {},
   "outputs": [
    {
     "name": "stdout",
     "output_type": "stream",
     "text": [
      "{'Name': 'Bob', 'city': 'New York'}\n"
     ]
    }
   ],
   "source": [
    "di_ct={\n",
    "    \"Name\": \"Bob\",\n",
    "    \"age\": 22,\n",
    "    \"city\": \"New York\"\n",
    "}\n",
    "del di_ct[\"age\"]\n",
    "print(di_ct)"
   ]
  },
  {
   "cell_type": "markdown",
   "id": "c993616b-28d9-4295-9934-fa7299e2889a",
   "metadata": {},
   "source": [
    "### 15. Write a code to check if the key \"city\" exists in the dictionary {'name': 'Alice', 'city': 'Paris'}.\n",
    " "
   ]
  },
  {
   "cell_type": "code",
   "execution_count": 45,
   "id": "3ec84130-f39c-469b-8eba-be699d2a1b76",
   "metadata": {},
   "outputs": [
    {
     "name": "stdout",
     "output_type": "stream",
     "text": [
      "True\n"
     ]
    }
   ],
   "source": [
    "di_ct={\n",
    "    \"name\":\"Alice\",\n",
    "    \"city\":\"paris\"\n",
    "}\n",
    "a= \"city\" in di_ct\n",
    "print(a)"
   ]
  },
  {
   "cell_type": "markdown",
   "id": "3409f4de-fba3-4cfe-a837-d03b3f42c052",
   "metadata": {},
   "source": [
    "### 16. Write a code to create a list, a tuple, and a dictionary, and print them all."
   ]
  },
  {
   "cell_type": "code",
   "execution_count": 61,
   "id": "1b6178d5-d6df-4293-abc6-f504f0f46e62",
   "metadata": {},
   "outputs": [
    {
     "name": "stdout",
     "output_type": "stream",
     "text": [
      "('jatin', 'Praful', 'Reetak', 'Aditya'),\n",
      " [23, 43, 'apple'],\n",
      "{'Name': 'Jatin Dadwal', 'Age': 18, 'relationship': 'Not in re....'})\n",
      "<class 'tuple'>\n",
      "<class 'list'>\n",
      "<class 'dict'>\n"
     ]
    }
   ],
   "source": [
    "tu_ple=(\"jatin\",\"Praful\",\"Reetak\",\"Aditya\")\n",
    "li_st=[23,43,\"apple\"]\n",
    "di_ct={ \"Name\":\"Jatin Dadwal\",\n",
    "        \"Age\":18,\n",
    "        \"relationship\":\"Not in re....\"\n",
    "            }\n",
    "9print(f\"{tu_ple},\\n {li_st},\\n{di_ct})\" )\n",
    "print(type(tu_ple))\n",
    "print(type(li_st))\n",
    "print(type(di_ct))\n",
    "\n"
   ]
  },
  {
   "cell_type": "markdown",
   "id": "61aab6a6-bb99-4576-896f-9b2814f218cc",
   "metadata": {},
   "source": [
    "### 17. Write a code to create a list of 5 random numbers between 1 and 100, sort it in ascending order, and print the result.(replaced)"
   ]
  },
  {
   "cell_type": "code",
   "execution_count": 74,
   "id": "f3922699-432d-4525-8005-29738ea8025d",
   "metadata": {},
   "outputs": [
    {
     "name": "stdout",
     "output_type": "stream",
     "text": [
      "[4, 27, 37, 47, 69]\n"
     ]
    }
   ],
   "source": [
    "\n",
    "import random\n",
    "\n",
    "random_number = []  # Create empty list\n",
    "\n",
    "for _ in range(5):\n",
    "    random_number.append(random.randint(1, 100))  # Add random number to the list\n",
    "\n",
    "random_number.sort()  # Sort after the loop finishes\n",
    "print(random_number)  # Print the sorted list"
   ]
  },
  {
   "cell_type": "markdown",
   "id": "4b636176-2fee-49aa-bfa7-e042ce51c5e8",
   "metadata": {},
   "source": [
    "### 18. Write a code to create a list with strings and print the element at the third index.\n"
   ]
  },
  {
   "cell_type": "code",
   "execution_count": 75,
   "id": "0dd8ace7-c616-4ab6-b9ef-44b0cd82ae0c",
   "metadata": {},
   "outputs": [
    {
     "name": "stdout",
     "output_type": "stream",
     "text": [
      "Reetak\n"
     ]
    }
   ],
   "source": [
    "li_st=[\"jatin\",\"Praful\",\"Reetak\"]\n",
    "print(li_st[2])"
   ]
  },
  {
   "cell_type": "markdown",
   "id": "6defc23f-9273-448d-9e82-e3651e501d13",
   "metadata": {},
   "source": [
    "### 19.  Write a code to combine two dictionaries into one and print the result."
   ]
  },
  {
   "cell_type": "code",
   "execution_count": 80,
   "id": "4ac546af-c760-4bc0-83ba-cdb494e83930",
   "metadata": {},
   "outputs": [
    {
     "name": "stdout",
     "output_type": "stream",
     "text": [
      "[{'Name': 'Jatin', 'age': 18, 'city': 'dada siba'}, {'Name': 'reetak', 'age': 19, 'city': 'thural'}]\n"
     ]
    }
   ],
   "source": [
    "dict1={\"Name\":\"Jatin\",\n",
    "       \"age\":18,\n",
    "       \"city\":\"dada siba\"}\n",
    "dict2={\"Name\":\"reetak\",\n",
    "       \"age\":19,\n",
    "       \"city\":\"thural\"}\n",
    "main_dict=[dict1,dict2]\n",
    "print(main_dict)"
   ]
  },
  {
   "cell_type": "markdown",
   "id": "de052d83-bfa9-4d9f-999c-84ca30344a72",
   "metadata": {},
   "source": [
    "### 20.  Write a code to convert a list of strings into a set."
   ]
  },
  {
   "cell_type": "code",
   "execution_count": 81,
   "id": "5e32cbef-a4f6-4667-9959-e20e5ef78ea6",
   "metadata": {},
   "outputs": [
    {
     "name": "stdout",
     "output_type": "stream",
     "text": [
      "<class 'list'>\n",
      "['Apple', 'Banana', 'Mango', 'Kiwi']\n",
      "<class 'set'>\n",
      "{'Kiwi', 'Mango', 'Apple', 'Banana'}\n"
     ]
    }
   ],
   "source": [
    "lis_t=[\"Apple\",\"Banana\",\"Mango\",\"Kiwi\"]\n",
    "print(type(lis_t))\n",
    "print(lis_t)\n",
    "set1=set(lis_t)\n",
    "print(type(set1))\n",
    "print(set1)"
   ]
  },
  {
   "cell_type": "code",
   "execution_count": null,
   "id": "d7096a18-a66d-41cf-98aa-22f0057731a3",
   "metadata": {},
   "outputs": [],
   "source": []
  }
 ],
 "metadata": {
  "kernelspec": {
   "display_name": "Python 3 (ipykernel)",
   "language": "python",
   "name": "python3"
  },
  "language_info": {
   "codemirror_mode": {
    "name": "ipython",
    "version": 3
   },
   "file_extension": ".py",
   "mimetype": "text/x-python",
   "name": "python",
   "nbconvert_exporter": "python",
   "pygments_lexer": "ipython3",
   "version": "3.13.5"
  }
 },
 "nbformat": 4,
 "nbformat_minor": 5
}
