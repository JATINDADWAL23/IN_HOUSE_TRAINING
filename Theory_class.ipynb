{
 "cells": [
  {
   "cell_type": "code",
   "execution_count": 1,
   "id": "f4d92cc6-11ed-48e8-965d-80e276fc7431",
   "metadata": {},
   "outputs": [
    {
     "name": "stdin",
     "output_type": "stream",
     "text": [
      "Enter name :  jatin\n",
      "Enter age :  19\n",
      " Enter address:  chanour\n"
     ]
    },
    {
     "name": "stdout",
     "output_type": "stream",
     "text": [
      "person is adult true or False\n",
      "True\n"
     ]
    }
   ],
   "source": [
    "a=input(\"Enter name : \")\n",
    "b=int(input(\"Enter age : \"))\n",
    "c=input(\" Enter address: \")\n",
    "print(\"person is adult true or False\")\n",
    "print( b>=18) "
   ]
  },
  {
   "cell_type": "code",
   "execution_count": 2,
   "id": "205c9f94-72ed-476d-a1b1-adb0b88dffbe",
   "metadata": {},
   "outputs": [
    {
     "name": "stdout",
     "output_type": "stream",
     "text": [
      "<class 'set'>\n"
     ]
    }
   ],
   "source": [
    "x={\"apple\",\"jatin\"}\n",
    "print(type(x))"
   ]
  },
  {
   "cell_type": "code",
   "execution_count": 3,
   "id": "8a6ee30a-ab72-43af-bf44-477947014358",
   "metadata": {},
   "outputs": [
    {
     "name": "stdin",
     "output_type": "stream",
     "text": [
      "Enter your name: jatin\n"
     ]
    },
    {
     "name": "stdout",
     "output_type": "stream",
     "text": [
      " HI jatin ,Good Morning\n"
     ]
    }
   ],
   "source": [
    "a=input(\"Enter your name:\")\n",
    "print(f\" HI {a} ,Good Morning\")"
   ]
  },
  {
   "cell_type": "code",
   "execution_count": 4,
   "id": "9eee108d-bb51-468a-b395-6fbe7c476ad1",
   "metadata": {},
   "outputs": [
    {
     "name": "stdout",
     "output_type": "stream",
     "text": [
      "True\n"
     ]
    }
   ],
   "source": [
    "list=[1,2,3,45]\n",
    "print(45 in list)"
   ]
  },
  {
   "cell_type": "code",
   "execution_count": 5,
   "id": "bf83b86c-2c91-4779-9c3f-e905a733e356",
   "metadata": {},
   "outputs": [
    {
     "name": "stdin",
     "output_type": "stream",
     "text": [
      "enter the value: 2\n"
     ]
    },
    {
     "name": "stdout",
     "output_type": "stream",
     "text": [
      "a is less than 10\n"
     ]
    }
   ],
   "source": [
    "a=int(input(\"enter the value:\"))\n",
    "      \n",
    "if a>10:\n",
    "      print(\"number is greater than 10\")\n",
    "elif a<10  :\n",
    "      print(\"a is less than 10\")\n",
    "else :\n",
    "       print(\"a  is equal to 10\")\n",
    "    "
   ]
  },
  {
   "cell_type": "code",
   "execution_count": 6,
   "id": "112ae47c-8087-4c4d-8291-df52e7bb2697",
   "metadata": {},
   "outputs": [
    {
     "name": "stdout",
     "output_type": "stream",
     "text": [
      "['apple', 'Praful', 'mango', 'banana']\n"
     ]
    }
   ],
   "source": [
    "fruits=[\"apple\",\"mango\",\"banana\"]\n",
    "fruits.insert(1,\"Praful\")\n",
    "print(fruits)"
   ]
  },
  {
   "cell_type": "code",
   "execution_count": 7,
   "id": "9be9a319-026b-418f-a4ab-16d8b1006f41",
   "metadata": {},
   "outputs": [
    {
     "name": "stdout",
     "output_type": "stream",
     "text": [
      "['apple', 'mango', 'banana']\n"
     ]
    }
   ],
   "source": [
    "fruits=[\"apple\",\"Praful\",\"mango\",\"banana\"]\n",
    "fruits.remove(\"Praful\")\n",
    "print(fruits)"
   ]
  },
  {
   "cell_type": "code",
   "execution_count": 8,
   "id": "d2d827aa-8b37-4c92-b702-f9df23d66d1a",
   "metadata": {},
   "outputs": [
    {
     "name": "stdout",
     "output_type": "stream",
     "text": [
      "[1, 23, 27, 778, 5566]\n"
     ]
    }
   ],
   "source": [
    "number=[1,23,5566,778,27]\n",
    "number.sort()\n",
    "print(number)"
   ]
  },
  {
   "cell_type": "code",
   "execution_count": 9,
   "id": "85d465d2-6016-40af-88a9-5d87888e399c",
   "metadata": {},
   "outputs": [
    {
     "name": "stdout",
     "output_type": "stream",
     "text": [
      "[5566, 778, 27, 23, 1]\n"
     ]
    }
   ],
   "source": [
    "number=[1,23,5566,778,27]\n",
    "number.sort(reverse=True)\n",
    "print(number)"
   ]
  },
  {
   "cell_type": "code",
   "execution_count": 10,
   "id": "4e0914f2-c34f-452f-bf8f-9a6594f8a6fb",
   "metadata": {},
   "outputs": [
    {
     "name": "stdout",
     "output_type": "stream",
     "text": [
      "[27, 778, 5566, 23, 1]\n"
     ]
    }
   ],
   "source": [
    "number=[1,23,5566,778,27]\n",
    "number.reverse()\n",
    "print(number)"
   ]
  },
  {
   "cell_type": "code",
   "execution_count": 11,
   "id": "a301a5e5-a953-4276-b0b1-fa67f7ed302f",
   "metadata": {},
   "outputs": [
    {
     "name": "stdout",
     "output_type": "stream",
     "text": [
      "6\n"
     ]
    }
   ],
   "source": [
    "list=[23,566,456,7,54,345]\n",
    "print(len(list))"
   ]
  },
  {
   "cell_type": "code",
   "execution_count": 12,
   "id": "6e952121-8dd9-4f64-81a2-1597334f5223",
   "metadata": {},
   "outputs": [
    {
     "name": "stdout",
     "output_type": "stream",
     "text": [
      "jai shree ram\n"
     ]
    }
   ],
   "source": [
    "a=\"JAI SHREE RAM\"\n",
    "b = a.lower()\n",
    "print(b)"
   ]
  },
  {
   "cell_type": "code",
   "execution_count": 13,
   "id": "be01eb67-f9b8-4654-b68b-dbb71f3ae2aa",
   "metadata": {},
   "outputs": [
    {
     "name": "stdout",
     "output_type": "stream",
     "text": [
      "JAI SHREE RAM\n"
     ]
    }
   ],
   "source": [
    "a=\"jai shree ram\"\n",
    "b = a.upper()\n",
    "print(b)"
   ]
  },
  {
   "cell_type": "code",
   "execution_count": 14,
   "id": "f4a931a8-f24b-454a-88a9-5e89c8a7563a",
   "metadata": {},
   "outputs": [
    {
     "name": "stdout",
     "output_type": "stream",
     "text": [
      "Jai shree ram\n"
     ]
    }
   ],
   "source": [
    "a=\"JAI SHREE RAM\"\n",
    "b = a.capitalize()\n",
    "print(b)"
   ]
  },
  {
   "cell_type": "code",
   "execution_count": 15,
   "id": "fafbfc3a-352e-4f60-81bf-6238c14b0a70",
   "metadata": {},
   "outputs": [
    {
     "name": "stdin",
     "output_type": "stream",
     "text": [
      "ENTER NAME TO GET INFO:  DIXIT\n"
     ]
    },
    {
     "name": "stdout",
     "output_type": "stream",
     "text": [
      "{'name': 'Dixit', 'age': 17, 'grade': 'a'}\n"
     ]
    }
   ],
   "source": [
    "students = {\n",
    "    \"jatin\": {\"name\": \"Jatin\", \"age\": 16, \"grade\": \"a\"},\n",
    "    \"praful\": {\"name\": \"Praful\", \"age\": 15, \"grade\": \"a\"},\n",
    "    \"reetak\": {\"name\": \"Reetak\", \"age\": 17, \"grade\": \"a\"},\n",
    "    \"aditya\": {\"name\": \"Aditya\", \"age\": 19, \"grade\": \"a\"},\n",
    "    \"mohit\": {\"name\": \"Mohit\", \"age\": 34, \"grade\": \"a\"},\n",
    "    \"rohit\": {\"name\": \"Rohit\", \"age\": 23, \"grade\": \"a\"},\n",
    "    \"dixit\": {\"name\": \"Dixit\", \"age\": 17, \"grade\": \"a\"},\n",
    "    \"arav\": {\"name\": \"Arav\", \"age\": 67, \"grade\": \"c\"},\n",
    "    \"piyush\": {\"name\": \"Piyush\", \"age\": 17, \"grade\": \"a\"},\n",
    "    \"dhruv\": {\"name\": \"Dhruv\", \"age\": 19, \"grade\": \"b\"},\n",
    "}\n",
    "\n",
    "j = input(\"ENTER NAME TO GET INFO: \").lower()\n",
    "print(students[j])"
   ]
  },
  {
   "cell_type": "code",
   "execution_count": 16,
   "id": "65475653-5bae-4f1b-b8e1-c3a4d620f722",
   "metadata": {},
   "outputs": [
    {
     "name": "stdin",
     "output_type": "stream",
     "text": [
      "Enter the amount: 20000\n",
      "Enter Rate  11\n",
      "Enter time period  2\n"
     ]
    },
    {
     "name": "stdout",
     "output_type": "stream",
     "text": [
      "Simple intrest : 4400.0\n"
     ]
    }
   ],
   "source": [
    "amount=int(input(\"Enter the amount:\"))\n",
    "rate=int(input(\"Enter Rate \"))\n",
    "time=int(input(\"Enter time period \"))\n",
    "simpleintrest=(amount*rate*time)/100\n",
    "print(f\"Simple intrest : {simpleintrest}\") "
   ]
  },
  {
   "cell_type": "code",
   "execution_count": null,
   "id": "bc517c13-f038-4b6f-b507-ef50872b2c1a",
   "metadata": {},
   "outputs": [],
   "source": []
  }
 ],
 "metadata": {
  "kernelspec": {
   "display_name": "Python 3 (ipykernel)",
   "language": "python",
   "name": "python3"
  },
  "language_info": {
   "codemirror_mode": {
    "name": "ipython",
    "version": 3
   },
   "file_extension": ".py",
   "mimetype": "text/x-python",
   "name": "python",
   "nbconvert_exporter": "python",
   "pygments_lexer": "ipython3",
   "version": "3.13.5"
  }
 },
 "nbformat": 4,
 "nbformat_minor": 5
}
