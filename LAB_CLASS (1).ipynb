{
 "cells": [
  {
   "cell_type": "markdown",
   "id": "37ed1cb0-94a6-41a9-8d37-3dea91e1cd9b",
   "metadata": {},
   "source": [
    "### Day 2"
   ]
  },
  {
   "cell_type": "code",
   "execution_count": 1,
   "id": "e86f76af-909e-4bbe-96b0-341687f7a2c8",
   "metadata": {},
   "outputs": [
    {
     "name": "stdout",
     "output_type": "stream",
     "text": [
      "d\n",
      " \n"
     ]
    }
   ],
   "source": [
    "a=\"jatin Dadwal\"\n",
    "print(a[-4])\n",
    "print(a[5])"
   ]
  },
  {
   "cell_type": "code",
   "execution_count": 2,
   "id": "c14cbf1a-d093-4641-b320-4d4bb038a50a",
   "metadata": {},
   "outputs": [
    {
     "name": "stdout",
     "output_type": "stream",
     "text": [
      "['dadwal']\n",
      "['jatin', 'dadwal', 'reetak']\n",
      "['dadwal', 'reetak', 'Praful', 'aditya', 'dixit']\n",
      "['dadwal', 'Praful', 'dixit']\n"
     ]
    }
   ],
   "source": [
    "a=[\"jatin\",\"dadwal\",\"reetak\",\"Praful\",\"aditya\",\"dixit\"]\n",
    "print(a[1:2])\n",
    "print(a[:3])\n",
    "print(a[1:])\n",
    "print(a[1:6:2])"
   ]
  },
  {
   "cell_type": "code",
   "execution_count": 3,
   "id": "2be10c54-3bf6-4fae-a857-0f912f0cbed7",
   "metadata": {},
   "outputs": [
    {
     "name": "stdout",
     "output_type": "stream",
     "text": [
      "<class 'list'>\n",
      "['Praful', 'Reetak', 'Aditya', 3, 2, 1, 0]\n"
     ]
    }
   ],
   "source": [
    "a=[\"Jatin\",\"Praful\",\"Reetak\",\"Aditya\",3,2,1,0]\n",
    "print(type(a))\n",
    "print(a[1:8:1])\n"
   ]
  },
  {
   "cell_type": "code",
   "execution_count": 4,
   "id": "97c4180c-f49f-4f4a-abd7-badb9ce0188e",
   "metadata": {},
   "outputs": [
    {
     "name": "stdout",
     "output_type": "stream",
     "text": [
      "6\n",
      "<class 'list'>\n"
     ]
    }
   ],
   "source": [
    "a=[2,4,\"Apple\",6,[2,4],\"ram\"]\n",
    "print(len(a))\n",
    "print(type(a))      \n"
   ]
  },
  {
   "cell_type": "code",
   "execution_count": 5,
   "id": "e1f29b9e-4b15-4a0f-b721-bdd2ae3dad70",
   "metadata": {},
   "outputs": [
    {
     "name": "stdout",
     "output_type": "stream",
     "text": [
      "5\n",
      "<class 'list'>\n"
     ]
    }
   ],
   "source": [
    "a=[2,\"jatin\",3.5,[5,7,8],(4,6)]\n",
    "print(len(a))\n",
    "print(type(a))\n"
   ]
  },
  {
   "cell_type": "code",
   "execution_count": 6,
   "id": "05a8d2f2-aefd-4df2-8804-33e5c779a937",
   "metadata": {},
   "outputs": [
    {
     "name": "stdout",
     "output_type": "stream",
     "text": [
      "8\n",
      "<class 'list'>\n"
     ]
    }
   ],
   "source": [
    "a=[1,2,3,4,5,\"Rahul\",[2,5,45,5],(3,5)]\n",
    "print(len(a))\n",
    "print(type(a))"
   ]
  },
  {
   "cell_type": "code",
   "execution_count": 7,
   "id": "34bbfcf2-ccd2-43a2-b766-2bece41f8882",
   "metadata": {},
   "outputs": [
    {
     "name": "stdout",
     "output_type": "stream",
     "text": [
      "12\n",
      "ilearnpython\n",
      "\n"
     ]
    }
   ],
   "source": [
    "a=\"ilearnpython\"\n",
    "print(len(a))\n",
    "b=a[6:10:-1]\n",
    "print(a)\n",
    "print(b)"
   ]
  },
  {
   "cell_type": "code",
   "execution_count": 8,
   "id": "11c52e4a-f00f-4d0d-aad7-01d4a2171f0a",
   "metadata": {},
   "outputs": [
    {
     "name": "stdout",
     "output_type": "stream",
     "text": [
      "<class 'list'>\n",
      "<class 'str'>\n",
      "<class 'float'>\n"
     ]
    }
   ],
   "source": [
    "num=[1,2,3,4,5,\"String\",6.9]\n",
    "print(type(num))\n",
    "print(type(num[5]))\n",
    "print(type(num[-1]))"
   ]
  },
  {
   "cell_type": "code",
   "execution_count": 9,
   "id": "b8934707-7dda-445a-b46f-d144c4cd7cf2",
   "metadata": {},
   "outputs": [
    {
     "name": "stdout",
     "output_type": "stream",
     "text": [
      "[[7, 8, 9], 'banana', 'cherry']\n"
     ]
    }
   ],
   "source": [
    "this=[\"apple\", \"banana\",\"cherry\"]\n",
    "this[0]=[7,8,9]\n",
    "print(this)"
   ]
  },
  {
   "cell_type": "markdown",
   "id": "b1d8b87d-cfbe-4b38-87e2-4750223add23",
   "metadata": {},
   "source": [
    "### Day 3"
   ]
  },
  {
   "cell_type": "code",
   "execution_count": 10,
   "id": "9916c54e-83b2-41e3-9ca9-b563966698d1",
   "metadata": {},
   "outputs": [
    {
     "name": "stdout",
     "output_type": "stream",
     "text": [
      "[2, 3, 4, 5, 4, 'Jatin']\n",
      "6\n"
     ]
    }
   ],
   "source": [
    "a=[2,3,4,5]\n",
    "a.append(4)\n",
    "a.append(\"Jatin\")\n",
    "print(a)\n",
    "print(len(a))"
   ]
  },
  {
   "cell_type": "code",
   "execution_count": 11,
   "id": "908d074f-389b-4dc9-b6c8-9fef1606bc0d",
   "metadata": {},
   "outputs": [
    {
     "name": "stdout",
     "output_type": "stream",
     "text": [
      "[2, 4, 5, 6, 7, 21, 3]\n"
     ]
    }
   ],
   "source": [
    "a=[2,4,5,6,7]\n",
    "a.extend([21,3])\n",
    "print(a)"
   ]
  },
  {
   "cell_type": "code",
   "execution_count": 12,
   "id": "dc8e8d3d-d5c5-464b-9b30-f831a4693350",
   "metadata": {},
   "outputs": [
    {
     "name": "stdout",
     "output_type": "stream",
     "text": [
      "[40, 50, 60, [10.2, 30]]\n"
     ]
    }
   ],
   "source": [
    "l1=[10.20,30]\n",
    "l2=[40,50,60]\n",
    "l2.append(l1)\n",
    "print(l2)"
   ]
  },
  {
   "cell_type": "code",
   "execution_count": 13,
   "id": "37ab889c-af20-4935-a823-7bc3db8d62a5",
   "metadata": {},
   "outputs": [
    {
     "name": "stdout",
     "output_type": "stream",
     "text": [
      "['apple', 'banana', 'cherry']\n",
      "['apple', 'herry1', 'banana', 'cherry']\n"
     ]
    }
   ],
   "source": [
    "fruit=[\"apple\",\"banana\",\"cherry\"]\n",
    "print(fruit)\n",
    "fruit.insert(1,\"herry1\")\n",
    "print(fruit)"
   ]
  },
  {
   "cell_type": "code",
   "execution_count": 14,
   "id": "45d89782-c520-40d9-b7d6-1b612c2efd4d",
   "metadata": {},
   "outputs": [
    {
     "name": "stdout",
     "output_type": "stream",
     "text": [
      "144\n"
     ]
    }
   ],
   "source": [
    "fruits=[\"apple\",\"banana\",\"cherry\",144]\n",
    "last_fruit = fruits.pop()\n",
    "print(last_fruit)\n"
   ]
  },
  {
   "cell_type": "code",
   "execution_count": 15,
   "id": "ace33a35-535f-4ce2-9821-1fa934ccf73a",
   "metadata": {},
   "outputs": [
    {
     "name": "stdout",
     "output_type": "stream",
     "text": [
      "[99, 77, 6, 4, 3, 2, 1]\n"
     ]
    }
   ],
   "source": [
    "#sort\n",
    "#count\n",
    "num=[1,2,3,4,99,6,77]\n",
    "num.sort(reverse=True)\n",
    "print(num)"
   ]
  },
  {
   "cell_type": "code",
   "execution_count": 16,
   "id": "33d4457b-8a3b-4e4c-a58b-8b5bca5f9733",
   "metadata": {},
   "outputs": [
    {
     "name": "stdout",
     "output_type": "stream",
     "text": [
      "[]\n"
     ]
    }
   ],
   "source": [
    "fruit=[\"aapple\",\"jatin\",\"Praful\"]\n",
    "fruit.clear()\n",
    "print(fruit)\n"
   ]
  },
  {
   "cell_type": "code",
   "execution_count": 17,
   "id": "ff63a138-abf9-41d2-9f97-2b3cdf6169f0",
   "metadata": {},
   "outputs": [
    {
     "name": "stdout",
     "output_type": "stream",
     "text": [
      "before swaping a=4 , b=5\n",
      "after swaping a=5 and b=4\n"
     ]
    }
   ],
   "source": [
    "a=4\n",
    "b=5\n",
    "print(f\"before swaping a={a} , b={b}\")\n",
    "a=a+b\n",
    "b=a-b\n",
    "a=a-b\n",
    "print(f\"after swaping a={a} and b={b}\")"
   ]
  },
  {
   "cell_type": "code",
   "execution_count": 18,
   "id": "99af4c42-e74b-4269-9f0f-1234cf8d8450",
   "metadata": {},
   "outputs": [
    {
     "name": "stdout",
     "output_type": "stream",
     "text": [
      "jatin   jatin   jatin   jatin   jatin   jatin   jatin   jatin   jatin   jatin   jatin   jatin   \n"
     ]
    }
   ],
   "source": [
    "a=(\"jatin   \")*12\n",
    "print(a)"
   ]
  },
  {
   "cell_type": "code",
   "execution_count": 19,
   "id": "f9a69e1c-414d-4d67-93c7-f04914c44332",
   "metadata": {},
   "outputs": [
    {
     "name": "stdout",
     "output_type": "stream",
     "text": [
      "<class 'dict'>\n"
     ]
    }
   ],
   "source": [
    "d={1:2,6:7,8:\"hurry \",8:\"abhishek\"}\n",
    "print(type(d))"
   ]
  },
  {
   "cell_type": "code",
   "execution_count": 20,
   "id": "0f38f51b-88aa-4315-9260-ec421b0a2245",
   "metadata": {},
   "outputs": [
    {
     "name": "stdin",
     "output_type": "stream",
     "text": [
      "Enter the amount: 20000\n",
      "Enter Rate  2\n",
      "Enter time period  2\n"
     ]
    },
    {
     "name": "stdout",
     "output_type": "stream",
     "text": [
      "Simple intrest : 800.0\n"
     ]
    }
   ],
   "source": [
    "amount=int(input(\"Enter the amount:\"))\n",
    "rate=int(input(\"Enter Rate \"))\n",
    "time=int(input(\"Enter time period \"))\n",
    "simpleintrest=(amount*rate*time)/100\n",
    "print(f\"Simple intrest : {simpleintrest}\")    "
   ]
  },
  {
   "cell_type": "code",
   "execution_count": 21,
   "id": "05da9a42-13ba-42da-b6f0-87ce5cfb174a",
   "metadata": {},
   "outputs": [
    {
     "name": "stdout",
     "output_type": "stream",
     "text": [
      "[66, 56, 445, 23]\n"
     ]
    }
   ],
   "source": [
    "list1=[23,445,56,66]\n",
    "list1.reverse()\n",
    "print(list1)"
   ]
  },
  {
   "cell_type": "markdown",
   "id": "d8958f27-2909-4919-ae87-45b655954e94",
   "metadata": {},
   "source": [
    "### day 4"
   ]
  },
  {
   "cell_type": "markdown",
   "id": "673daa99-f9cb-416c-8e72-4f06726f1e9b",
   "metadata": {},
   "source": [
    "## Control structure\n"
   ]
  },
  {
   "cell_type": "code",
   "execution_count": 22,
   "id": "ac03849c-fe1d-45e0-9029-c71edcd31e0d",
   "metadata": {},
   "outputs": [
    {
     "name": "stdin",
     "output_type": "stream",
     "text": [
      "enter first  value : 34\n",
      "enter second value : 5\n"
     ]
    },
    {
     "name": "stdout",
     "output_type": "stream",
     "text": [
      "34 is greater than 5\n"
     ]
    }
   ],
   "source": [
    "a=int(input(\"enter first  value :\"))\n",
    "b=int(input(\"enter second value :\") )    \n",
    "      \n",
    "if a>b:\n",
    "      print(f\"{a} is greater than {b}\")\n",
    "elif  b>a:\n",
    "      print(f\"{b} is greater than {a}\")\n",
    "else :\n",
    "      print(f\"{a} is equal to {b}\")"
   ]
  },
  {
   "cell_type": "code",
   "execution_count": 23,
   "id": "eec218b2-b384-44af-b887-b218251a1302",
   "metadata": {},
   "outputs": [
    {
     "name": "stdin",
     "output_type": "stream",
     "text": [
      "enter your age : 554\n"
     ]
    },
    {
     "name": "stdout",
     "output_type": "stream",
     "text": [
      " you are eligible to vote\n"
     ]
    }
   ],
   "source": [
    "a=int(input(\"enter your age :\"))\n",
    "if a>=18:\n",
    "   print(\" you are eligible to vote\")\n",
    "else :\n",
    "   print(\"you are eligible to vote\")\n"
   ]
  },
  {
   "cell_type": "code",
   "execution_count": 24,
   "id": "7c668ab1-b976-4a8a-bc7e-ce9b47fe7e23",
   "metadata": {},
   "outputs": [
    {
     "name": "stdin",
     "output_type": "stream",
     "text": [
      "enter to check even or odd : 54\n"
     ]
    },
    {
     "name": "stdout",
     "output_type": "stream",
     "text": [
      "54 is even\n"
     ]
    }
   ],
   "source": [
    "number=int(input(\"enter to check even or odd :\"))\n",
    "if number%2==0:\n",
    "    print(f\"{number} is even\")\n",
    "else:\n",
    "    print(f\"{number} is odd\")\n",
    "    "
   ]
  },
  {
   "cell_type": "code",
   "execution_count": 25,
   "id": "5b016752-0b47-4a70-8b32-b139ed367e0f",
   "metadata": {},
   "outputs": [
    {
     "name": "stdin",
     "output_type": "stream",
     "text": [
      "Enter the year to check leap year or not 3\n"
     ]
    },
    {
     "name": "stdout",
     "output_type": "stream",
     "text": [
      "3 is not leap year\n"
     ]
    }
   ],
   "source": [
    "year=int(input(\"Enter the year to check leap year or not\"))\n",
    "if year%100==0:\n",
    "    if year%400==0:\n",
    "        print(f\"{year} is leap year\")\n",
    "    else :\n",
    "         print(f\"{year} is not leap year\")\n",
    "else:\n",
    "         if year%4==0:\n",
    "            print(f\"{year} is leap year\")\n",
    "         else :\n",
    "            print(f\"{year} is not leap year\")"
   ]
  },
  {
   "cell_type": "markdown",
   "id": "c1b64040-21ef-4371-84ed-211fc6767025",
   "metadata": {},
   "source": [
    "#### num=int(input(\"Enter number\"))\n",
    "if num >=1:\n",
    "    print(f\"{num} is positive\")\n",
    "elif num == 0 : \n",
    "    print(f\"{num} is Zero\")\n",
    "else:\n",
    "    print(f\"{num} is negative\")"
   ]
  },
  {
   "cell_type": "markdown",
   "id": "c0c180d4-fda2-4c3b-8816-e7ba374479a8",
   "metadata": {},
   "source": [
    "# LOOPS IN PYTHON"
   ]
  },
  {
   "cell_type": "markdown",
   "id": "1c4c7367-6a53-4a43-bf64-8fe15066c8ef",
   "metadata": {},
   "source": [
    "- A loop is use to iterate over a sequence"
   ]
  },
  {
   "cell_type": "code",
   "execution_count": 27,
   "id": "ebfb6bae-0919-4c02-b389-46a2a46fae53",
   "metadata": {},
   "outputs": [
    {
     "name": "stdout",
     "output_type": "stream",
     "text": [
      "Apple\n",
      "Banana\n",
      "Mango\n"
     ]
    }
   ],
   "source": [
    "fruits=[\"Apple\",\"Banana\",\"Mango\"]\n",
    "for i in fruits:\n",
    "    print(i)"
   ]
  },
  {
   "cell_type": "code",
   "execution_count": 28,
   "id": "18d52bf5-fcb7-4116-91b1-0c2a6a4e4d05",
   "metadata": {},
   "outputs": [
    {
     "name": "stdout",
     "output_type": "stream",
     "text": [
      "Jatin Dadwal\n",
      "Jatin Dadwal\n",
      "Jatin Dadwal\n",
      "Jatin Dadwal\n",
      "Jatin Dadwal\n",
      "Jatin Dadwal\n",
      "Jatin Dadwal\n",
      "Jatin Dadwal\n",
      "Jatin Dadwal\n"
     ]
    }
   ],
   "source": [
    "for i in range(1,10):\n",
    " print(\"Jatin Dadwal\")"
   ]
  },
  {
   "cell_type": "code",
   "execution_count": 29,
   "id": "d72d07e7-1c56-4017-a210-1652bd8368c7",
   "metadata": {},
   "outputs": [
    {
     "name": "stdout",
     "output_type": "stream",
     "text": [
      "35 number is divisible by 7 and multipy by 5\n",
      "70 number is divisible by 7 and multipy by 5\n",
      "105 number is divisible by 7 and multipy by 5\n",
      "140 number is divisible by 7 and multipy by 5\n",
      "175 number is divisible by 7 and multipy by 5\n",
      "210 number is divisible by 7 and multipy by 5\n",
      "245 number is divisible by 7 and multipy by 5\n",
      "280 number is divisible by 7 and multipy by 5\n",
      "315 number is divisible by 7 and multipy by 5\n",
      "350 number is divisible by 7 and multipy by 5\n",
      "385 number is divisible by 7 and multipy by 5\n",
      "420 number is divisible by 7 and multipy by 5\n",
      "455 number is divisible by 7 and multipy by 5\n",
      "490 number is divisible by 7 and multipy by 5\n"
     ]
    }
   ],
   "source": [
    "# find those number divisible by 7 and multiuply by 5. \n",
    "for i in range(1,500):\n",
    " if i%7==0:\n",
    "    if i%5==0:\n",
    "        print(f\"{i} number is divisible by 7 and multipy by 5\")\n",
    "        \n"
   ]
  },
  {
   "cell_type": "code",
   "execution_count": 30,
   "id": "b0d2a888-2e13-49a3-8cab-264ff7a3462b",
   "metadata": {},
   "outputs": [
    {
     "name": "stdout",
     "output_type": "stream",
     "text": [
      "total number of even is 49\n",
      "total number of odd is 50\n"
     ]
    }
   ],
   "source": [
    "even=0\n",
    "odd=0\n",
    "for i in range(1,100):\n",
    "    if i%2==0:\n",
    "        even+=1\n",
    "    else:\n",
    "        odd+=1\n",
    "print(f\"total number of even is {even}\")\n",
    "print(f\"total number of odd is {odd}\")"
   ]
  },
  {
   "cell_type": "code",
   "execution_count": 31,
   "id": "484338dc-f839-487c-b2ee-c7be45a1760a",
   "metadata": {},
   "outputs": [
    {
     "name": "stdout",
     "output_type": "stream",
     "text": [
      "total number of even is 601\n",
      "total number of odd is 600\n"
     ]
    }
   ],
   "source": [
    "even=0\n",
    "odd=0\n",
    "for i in range(1500,2701):\n",
    "    if i%2==0:\n",
    "        even+=1\n",
    "    else:\n",
    "        odd+=1\n",
    "print(f\"total number of even is {even}\")\n",
    "print(f\"total number of odd is {odd}\")"
   ]
  },
  {
   "cell_type": "code",
   "execution_count": 32,
   "id": "41ddfad8-4faf-4517-9689-e3c786e4a358",
   "metadata": {},
   "outputs": [
    {
     "name": "stdout",
     "output_type": "stream",
     "text": [
      "*\n",
      "**\n",
      "***\n",
      "****\n",
      "*****\n",
      "******\n",
      "*******\n",
      "********\n",
      "*********\n"
     ]
    }
   ],
   "source": [
    "for i in range(1,10):\n",
    "    print((\"*\")*i)"
   ]
  },
  {
   "cell_type": "code",
   "execution_count": 33,
   "id": "e86ea087-a275-401a-94e3-67c4b361b3dc",
   "metadata": {},
   "outputs": [
    {
     "name": "stdin",
     "output_type": "stream",
     "text": [
      "Enter a number to print table 44\n"
     ]
    },
    {
     "name": "stdout",
     "output_type": "stream",
     "text": [
      "44 x 1 = 44\n",
      "44 x 2 = 88\n",
      "44 x 3 = 132\n",
      "44 x 4 = 176\n",
      "44 x 5 = 220\n",
      "44 x 6 = 264\n",
      "44 x 7 = 308\n",
      "44 x 8 = 352\n",
      "44 x 9 = 396\n",
      "44 x 10 = 440\n"
     ]
    }
   ],
   "source": [
    "a=int(input(\"Enter a number to print table\"))\n",
    "for i in range(1,11):\n",
    "    print(a,\"x\",i,'=',a*i,end=\"\\n\")"
   ]
  },
  {
   "cell_type": "markdown",
   "id": "b855750a-d1da-4458-a6ff-c02f49612618",
   "metadata": {},
   "source": [
    "### Day 5"
   ]
  },
  {
   "cell_type": "markdown",
   "id": "4ae80d1c-67cc-4070-9810-d4d0983056dc",
   "metadata": {},
   "source": [
    "## While loop"
   ]
  },
  {
   "cell_type": "markdown",
   "id": "d8205caa-d4ad-464e-876d-894ab88d399f",
   "metadata": {},
   "source": [
    "inisitialization\n",
    "codition\n",
    "inc/dec"
   ]
  },
  {
   "cell_type": "code",
   "execution_count": null,
   "id": "e2787e3f-f86b-4d1a-a3ad-0cf0a2d7e822",
   "metadata": {},
   "outputs": [],
   "source": [
    "a=90\n",
    "a=90-5\n",
    "print(a)"
   ]
  },
  {
   "cell_type": "code",
   "execution_count": null,
   "id": "57109903-4fa1-4740-8a05-2aef7aa2fbb4",
   "metadata": {},
   "outputs": [],
   "source": [
    "for i in range(10):\n",
    "    print(\"Jatin Dadwal\")"
   ]
  },
  {
   "cell_type": "code",
   "execution_count": null,
   "id": "97a306e8-583e-4f10-8612-0e039e6677b1",
   "metadata": {},
   "outputs": [],
   "source": [
    "l=[6,7,9]\n",
    "for i in range(len(l)):\n",
    "    print(i)"
   ]
  },
  {
   "cell_type": "markdown",
   "id": "7701daf1-904a-46f8-9795-4ddfccbd7bcf",
   "metadata": {},
   "source": [
    "### Nested While loop"
   ]
  },
  {
   "cell_type": "code",
   "execution_count": 1,
   "id": "82783727-cfac-42cc-b9da-1017f9a08fba",
   "metadata": {},
   "outputs": [
    {
     "name": "stdout",
     "output_type": "stream",
     "text": [
      "0 0\n",
      "0 1\n",
      "0 2\n",
      "1 0\n",
      "1 1\n",
      "1 2\n",
      "2 0\n",
      "2 1\n",
      "2 2\n"
     ]
    }
   ],
   "source": [
    "i = 0\n",
    "\n",
    "while i < 3:  \n",
    "    j=0\n",
    "    while j < 3:   \n",
    "        print(i, j) \n",
    "        j += 1  \n",
    "    i+=1"
   ]
  },
  {
   "cell_type": "code",
   "execution_count": 6,
   "id": "c0b72edb-97be-4bb7-9436-da13f4589e5c",
   "metadata": {},
   "outputs": [
    {
     "name": "stdout",
     "output_type": "stream",
     "text": [
      "120\n"
     ]
    }
   ],
   "source": [
    "l=[1,2,3,4,5]\n",
    "sum=1\n",
    "for i in l:\n",
    "    sum=sum*i\n",
    "print(sum)"
   ]
  },
  {
   "cell_type": "markdown",
   "id": "71a22442-7db6-4c4a-babd-bf8a6da0c732",
   "metadata": {},
   "source": [
    "### write a program negative number in list"
   ]
  },
  {
   "cell_type": "code",
   "execution_count": 20,
   "id": "18c78589-338d-4e25-8be4-c92dc2d3c81d",
   "metadata": {},
   "outputs": [
    {
     "name": "stdout",
     "output_type": "stream",
     "text": [
      "-5\n",
      "-4\n",
      "-3\n",
      "-2\n",
      "-1\n"
     ]
    }
   ],
   "source": [
    "for i in range(-5,0):\n",
    "    print(i)"
   ]
  },
  {
   "cell_type": "markdown",
   "id": "ea936f89-b18b-4f38-8976-b1ff2f73d109",
   "metadata": {},
   "source": [
    "### write a program to print sum of number in a list"
   ]
  },
  {
   "cell_type": "code",
   "execution_count": 18,
   "id": "4998ac6c-43b7-4f5e-bdd2-975e189c3af1",
   "metadata": {},
   "outputs": [
    {
     "name": "stdout",
     "output_type": "stream",
     "text": [
      "15\n"
     ]
    }
   ],
   "source": [
    "l=[1,2,3,4,5]\n",
    "sum=0\n",
    "for i in l:\n",
    "    sum=sum+i\n",
    "print(sum)"
   ]
  },
  {
   "cell_type": "markdown",
   "id": "3dd9a3bc-b54a-4efe-ba97-db0aed0877f8",
   "metadata": {},
   "source": [
    "### Write a code to print table by using  while loop "
   ]
  },
  {
   "cell_type": "code",
   "execution_count": null,
   "id": "fa6b699c-3029-45a4-9d9b-799864d19e23",
   "metadata": {},
   "outputs": [],
   "source": []
  },
  {
   "cell_type": "code",
   "execution_count": 23,
   "id": "4cc23335-d21c-4bab-9231-bc5e5e08fb81",
   "metadata": {},
   "outputs": [
    {
     "name": "stdout",
     "output_type": "stream",
     "text": [
      "10\n",
      "9\n",
      "8\n",
      "7\n",
      "6\n",
      "5\n",
      "4\n",
      "3\n",
      "2\n",
      "1\n"
     ]
    }
   ],
   "source": [
    "i=10\n",
    "while(i>=1):\n",
    "    print(i)\n",
    "    i=i-1"
   ]
  },
  {
   "cell_type": "code",
   "execution_count": null,
   "id": "b03577ac-4c41-4603-8400-8b58fd65740b",
   "metadata": {},
   "outputs": [],
   "source": [
    "# even number \n",
    "i=1\n",
    "while(i<1)"
   ]
  },
  {
   "cell_type": "markdown",
   "id": "c82ada80-7fae-48fb-bc13-e8f4e3fe12be",
   "metadata": {},
   "source": [
    "### Write a program to print sum to even number in range 1 to 100 using while or for loop"
   ]
  },
  {
   "cell_type": "code",
   "execution_count": 34,
   "id": "f289c067-1bbf-4d58-9866-c6e91667dc95",
   "metadata": {},
   "outputs": [
    {
     "name": "stdout",
     "output_type": "stream",
     "text": [
      "2550\n"
     ]
    }
   ],
   "source": [
    "# using while loop\n",
    "i=1\n",
    "sum=0\n",
    "while(i<=100):\n",
    "    if i%2==0:\n",
    "     sum=sum+i\n",
    "    i+=1\n",
    "print(sum)\n",
    "        "
   ]
  },
  {
   "cell_type": "code",
   "execution_count": 41,
   "id": "35b3791b-b76c-4c53-8d61-868901158671",
   "metadata": {},
   "outputs": [
    {
     "name": "stdout",
     "output_type": "stream",
     "text": [
      "2550\n"
     ]
    }
   ],
   "source": [
    "# using for loop\n",
    "sum=0\n",
    "for i in range(1,101):\n",
    "    if i%2==0:\n",
    "     sum=sum+i\n",
    "print(sum)"
   ]
  },
  {
   "cell_type": "markdown",
   "id": "40a64962-6977-4525-9bbd-cc06e46ce4dc",
   "metadata": {},
   "source": [
    "### write a program to print charater at even position."
   ]
  },
  {
   "cell_type": "code",
   "execution_count": 59,
   "id": "a50709d2-00e3-4229-9ab7-f4ba12ba782f",
   "metadata": {},
   "outputs": [
    {
     "name": "stdout",
     "output_type": "stream",
     "text": [
      "J\n",
      "t\n",
      "n\n",
      "D\n",
      "d\n",
      "a\n"
     ]
    }
   ],
   "source": [
    "\n",
    "a=\"Jatin Dadwal\"\n",
    "i=0\n",
    "while(i<=11):\n",
    "    print(a[i])\n",
    "    i+=2"
   ]
  },
  {
   "cell_type": "code",
   "execution_count": 44,
   "id": "f41e0851-ae92-4267-ba5e-757ce48e6b21",
   "metadata": {},
   "outputs": [
    {
     "name": "stdout",
     "output_type": "stream",
     "text": [
      "0 0\n",
      "0 1\n",
      "0 2\n",
      "1 0\n",
      "1 1\n",
      "1 2\n",
      "2 0\n",
      "2 1\n",
      "2 2\n"
     ]
    }
   ],
   "source": [
    "i=0\n",
    "j=0\n",
    "while i<3:\n",
    "    j=0\n",
    "    while j<3:\n",
    "        print(i,j)\n",
    "        j +=1\n",
    "    i+=1\n",
    "    "
   ]
  },
  {
   "cell_type": "markdown",
   "id": "87b3ba4b-bcd7-4c0f-a013-95386e5c84f8",
   "metadata": {},
   "source": [
    "## iterrative statement"
   ]
  },
  {
   "cell_type": "markdown",
   "id": "11e11597-585f-4c6f-9d9c-f12db7098668",
   "metadata": {},
   "source": [
    "- Break , Pass, and Continue\n",
    "\n"
   ]
  },
  {
   "cell_type": "markdown",
   "id": "e97e30c0-6d76-4231-8ad7-298c661a3e5c",
   "metadata": {},
   "source": [
    " #### 1. Break : use to exit the loop  before the conditon is made.\n",
    " "
   ]
  },
  {
   "cell_type": "code",
   "execution_count": 53,
   "id": "73fac2db-8d93-4e37-9647-9e268f94aafb",
   "metadata": {},
   "outputs": [
    {
     "name": "stdout",
     "output_type": "stream",
     "text": [
      "1\n",
      "2\n",
      "3\n"
     ]
    }
   ],
   "source": [
    "for i in range(1,100):\n",
    "    if i == 4:\n",
    "      break\n",
    "    print(i)\n",
    "      "
   ]
  },
  {
   "cell_type": "markdown",
   "id": "4c0f704b-983a-4c1f-8d65-f1586fc4fc3e",
   "metadata": {},
   "source": [
    "#### 2.Continue : value skip the current next iteration loop and move on the next one."
   ]
  },
  {
   "cell_type": "code",
   "execution_count": 49,
   "id": "7572e12b-9a3a-46b4-a51f-ed7e3d8cb3f4",
   "metadata": {},
   "outputs": [
    {
     "name": "stdout",
     "output_type": "stream",
     "text": [
      "1\n",
      "3\n",
      "5\n",
      "7\n",
      "9\n",
      "11\n"
     ]
    }
   ],
   "source": [
    "for i in range(12):\n",
    "    if i%2==0:\n",
    "        continue\n",
    "    print(i)"
   ]
  },
  {
   "cell_type": "markdown",
   "id": "cd03e0a8-8317-47c2-8da3-ee5e4e98ca46",
   "metadata": {},
   "source": [
    "#### 3. Pass : function avoiding indentation error in python"
   ]
  },
  {
   "cell_type": "code",
   "execution_count": 56,
   "id": "b3804307-0d52-4f6f-9c8b-315905b3daf6",
   "metadata": {},
   "outputs": [
    {
     "name": "stdout",
     "output_type": "stream",
     "text": [
      "hello world\n"
     ]
    }
   ],
   "source": [
    "for i in range(10):\n",
    "    pass\n",
    "print(\"hello world\")"
   ]
  },
  {
   "cell_type": "markdown",
   "id": "a59ecb6a-a018-44ef-bd19-508210f20662",
   "metadata": {},
   "source": [
    "## Function"
   ]
  },
  {
   "cell_type": "markdown",
   "id": "1833a4db-af98-43c2-9a09-0eb14612592e",
   "metadata": {},
   "source": [
    "- Function is the block of code use to make a code shorter and more efficient."
   ]
  },
  {
   "cell_type": "markdown",
   "id": "5bda936f-d33b-444a-8d19-95120df6943a",
   "metadata": {},
   "source": [
    "### There is two type of function"
   ]
  },
  {
   "cell_type": "markdown",
   "id": "84fcf240-2cdf-4f9b-98a0-9d056a933970",
   "metadata": {},
   "source": [
    "- User define function :user define is a custom function created by the a programmer to perform specific tasks within a program.\n",
    "    \n",
    "- Built in function : Built in  function  are similar to operation codes in that in that they perform operations on dta you specify"
   ]
  },
  {
   "cell_type": "code",
   "execution_count": null,
   "id": "5ea3c7b2-0ac9-4413-9ee5-caacb5592471",
   "metadata": {},
   "outputs": [],
   "source": []
  }
 ],
 "metadata": {
  "kernelspec": {
   "display_name": "Python 3 (ipykernel)",
   "language": "python",
   "name": "python3"
  },
  "language_info": {
   "codemirror_mode": {
    "name": "ipython",
    "version": 3
   },
   "file_extension": ".py",
   "mimetype": "text/x-python",
   "name": "python",
   "nbconvert_exporter": "python",
   "pygments_lexer": "ipython3",
   "version": "3.13.5"
  }
 },
 "nbformat": 4,
 "nbformat_minor": 5
}
