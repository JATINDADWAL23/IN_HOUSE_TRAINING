{
 "cells": [
  {
   "cell_type": "markdown",
   "id": "37ed1cb0-94a6-41a9-8d37-3dea91e1cd9b",
   "metadata": {},
   "source": [
    "### Day 2"
   ]
  },
  {
   "cell_type": "code",
   "execution_count": 1,
   "id": "e86f76af-909e-4bbe-96b0-341687f7a2c8",
   "metadata": {},
   "outputs": [
    {
     "name": "stdout",
     "output_type": "stream",
     "text": [
      "d\n",
      " \n"
     ]
    }
   ],
   "source": [
    "a=\"jatin Dadwal\"\n",
    "print(a[-4])\n",
    "print(a[5])"
   ]
  },
  {
   "cell_type": "code",
   "execution_count": 2,
   "id": "c14cbf1a-d093-4641-b320-4d4bb038a50a",
   "metadata": {},
   "outputs": [
    {
     "name": "stdout",
     "output_type": "stream",
     "text": [
      "['dadwal']\n",
      "['jatin', 'dadwal', 'reetak']\n",
      "['dadwal', 'reetak', 'Praful', 'aditya', 'dixit']\n",
      "['dadwal', 'Praful', 'dixit']\n"
     ]
    }
   ],
   "source": [
    "a=[\"jatin\",\"dadwal\",\"reetak\",\"Praful\",\"aditya\",\"dixit\"]\n",
    "print(a[1:2])\n",
    "print(a[:3])\n",
    "print(a[1:])\n",
    "print(a[1:6:2])"
   ]
  },
  {
   "cell_type": "code",
   "execution_count": 3,
   "id": "2be10c54-3bf6-4fae-a857-0f912f0cbed7",
   "metadata": {},
   "outputs": [
    {
     "name": "stdout",
     "output_type": "stream",
     "text": [
      "<class 'list'>\n",
      "['Praful', 'Reetak', 'Aditya', 3, 2, 1, 0]\n"
     ]
    }
   ],
   "source": [
    "a=[\"Jatin\",\"Praful\",\"Reetak\",\"Aditya\",3,2,1,0]\n",
    "print(type(a))\n",
    "print(a[1:8:1])\n"
   ]
  },
  {
   "cell_type": "code",
   "execution_count": 4,
   "id": "97c4180c-f49f-4f4a-abd7-badb9ce0188e",
   "metadata": {},
   "outputs": [
    {
     "name": "stdout",
     "output_type": "stream",
     "text": [
      "6\n",
      "<class 'list'>\n"
     ]
    }
   ],
   "source": [
    "a=[2,4,\"Apple\",6,[2,4],\"ram\"]\n",
    "print(len(a))\n",
    "print(type(a))      \n"
   ]
  },
  {
   "cell_type": "code",
   "execution_count": 5,
   "id": "e1f29b9e-4b15-4a0f-b721-bdd2ae3dad70",
   "metadata": {},
   "outputs": [
    {
     "name": "stdout",
     "output_type": "stream",
     "text": [
      "5\n",
      "<class 'list'>\n"
     ]
    }
   ],
   "source": [
    "a=[2,\"jatin\",3.5,[5,7,8],(4,6)]\n",
    "print(len(a))\n",
    "print(type(a))\n"
   ]
  },
  {
   "cell_type": "code",
   "execution_count": 6,
   "id": "05a8d2f2-aefd-4df2-8804-33e5c779a937",
   "metadata": {},
   "outputs": [
    {
     "name": "stdout",
     "output_type": "stream",
     "text": [
      "8\n",
      "<class 'list'>\n"
     ]
    }
   ],
   "source": [
    "a=[1,2,3,4,5,\"Rahul\",[2,5,45,5],(3,5)]\n",
    "print(len(a))\n",
    "print(type(a))"
   ]
  },
  {
   "cell_type": "code",
   "execution_count": 7,
   "id": "34bbfcf2-ccd2-43a2-b766-2bece41f8882",
   "metadata": {},
   "outputs": [
    {
     "name": "stdout",
     "output_type": "stream",
     "text": [
      "12\n",
      "ilearnpython\n",
      "\n"
     ]
    }
   ],
   "source": [
    "a=\"ilearnpython\"\n",
    "print(len(a))\n",
    "b=a[6:10:-1]\n",
    "print(a)\n",
    "print(b)"
   ]
  },
  {
   "cell_type": "code",
   "execution_count": 8,
   "id": "11c52e4a-f00f-4d0d-aad7-01d4a2171f0a",
   "metadata": {},
   "outputs": [
    {
     "name": "stdout",
     "output_type": "stream",
     "text": [
      "<class 'list'>\n",
      "<class 'str'>\n",
      "<class 'float'>\n"
     ]
    }
   ],
   "source": [
    "num=[1,2,3,4,5,\"String\",6.9]\n",
    "print(type(num))\n",
    "print(type(num[5]))\n",
    "print(type(num[-1]))"
   ]
  },
  {
   "cell_type": "code",
   "execution_count": 9,
   "id": "b8934707-7dda-445a-b46f-d144c4cd7cf2",
   "metadata": {},
   "outputs": [
    {
     "name": "stdout",
     "output_type": "stream",
     "text": [
      "[[7, 8, 9], 'banana', 'cherry']\n"
     ]
    }
   ],
   "source": [
    "this=[\"apple\", \"banana\",\"cherry\"]\n",
    "this[0]=[7,8,9]\n",
    "print(this)"
   ]
  },
  {
   "cell_type": "markdown",
   "id": "b1d8b87d-cfbe-4b38-87e2-4750223add23",
   "metadata": {},
   "source": [
    "### Day 3"
   ]
  },
  {
   "cell_type": "code",
   "execution_count": 10,
   "id": "9916c54e-83b2-41e3-9ca9-b563966698d1",
   "metadata": {},
   "outputs": [
    {
     "name": "stdout",
     "output_type": "stream",
     "text": [
      "[2, 3, 4, 5, 4, 'Jatin']\n",
      "6\n"
     ]
    }
   ],
   "source": [
    "a=[2,3,4,5]\n",
    "a.append(4)\n",
    "a.append(\"Jatin\")\n",
    "print(a)\n",
    "print(len(a))"
   ]
  },
  {
   "cell_type": "code",
   "execution_count": 11,
   "id": "908d074f-389b-4dc9-b6c8-9fef1606bc0d",
   "metadata": {},
   "outputs": [
    {
     "name": "stdout",
     "output_type": "stream",
     "text": [
      "[2, 4, 5, 6, 7, 21, 3]\n"
     ]
    }
   ],
   "source": [
    "a=[2,4,5,6,7]\n",
    "a.extend([21,3])\n",
    "print(a)"
   ]
  },
  {
   "cell_type": "code",
   "execution_count": 12,
   "id": "dc8e8d3d-d5c5-464b-9b30-f831a4693350",
   "metadata": {},
   "outputs": [
    {
     "name": "stdout",
     "output_type": "stream",
     "text": [
      "[40, 50, 60, [10.2, 30]]\n"
     ]
    }
   ],
   "source": [
    "l1=[10.20,30]\n",
    "l2=[40,50,60]\n",
    "l2.append(l1)\n",
    "print(l2)"
   ]
  },
  {
   "cell_type": "code",
   "execution_count": 13,
   "id": "37ab889c-af20-4935-a823-7bc3db8d62a5",
   "metadata": {},
   "outputs": [
    {
     "name": "stdout",
     "output_type": "stream",
     "text": [
      "['apple', 'banana', 'cherry']\n",
      "['apple', 'herry1', 'banana', 'cherry']\n"
     ]
    }
   ],
   "source": [
    "fruit=[\"apple\",\"banana\",\"cherry\"]\n",
    "print(fruit)\n",
    "fruit.insert(1,\"herry1\")\n",
    "print(fruit)"
   ]
  },
  {
   "cell_type": "code",
   "execution_count": 14,
   "id": "45d89782-c520-40d9-b7d6-1b612c2efd4d",
   "metadata": {},
   "outputs": [
    {
     "name": "stdout",
     "output_type": "stream",
     "text": [
      "144\n"
     ]
    }
   ],
   "source": [
    "fruits=[\"apple\",\"banana\",\"cherry\",144]\n",
    "last_fruit = fruits.pop()\n",
    "print(last_fruit)\n"
   ]
  },
  {
   "cell_type": "code",
   "execution_count": 15,
   "id": "ace33a35-535f-4ce2-9821-1fa934ccf73a",
   "metadata": {},
   "outputs": [
    {
     "name": "stdout",
     "output_type": "stream",
     "text": [
      "[99, 77, 6, 4, 3, 2, 1]\n"
     ]
    }
   ],
   "source": [
    "#sort\n",
    "#count\n",
    "num=[1,2,3,4,99,6,77]\n",
    "num.sort(reverse=True)\n",
    "print(num)"
   ]
  },
  {
   "cell_type": "code",
   "execution_count": 16,
   "id": "33d4457b-8a3b-4e4c-a58b-8b5bca5f9733",
   "metadata": {},
   "outputs": [
    {
     "name": "stdout",
     "output_type": "stream",
     "text": [
      "[]\n"
     ]
    }
   ],
   "source": [
    "fruit=[\"aapple\",\"jatin\",\"Praful\"]\n",
    "fruit.clear()\n",
    "print(fruit)\n"
   ]
  },
  {
   "cell_type": "code",
   "execution_count": 17,
   "id": "ff63a138-abf9-41d2-9f97-2b3cdf6169f0",
   "metadata": {},
   "outputs": [
    {
     "name": "stdout",
     "output_type": "stream",
     "text": [
      "before swaping a=4 , b=5\n",
      "after swaping a=5 and b=4\n"
     ]
    }
   ],
   "source": [
    "a=4\n",
    "b=5\n",
    "print(f\"before swaping a={a} , b={b}\")\n",
    "a=a+b\n",
    "b=a-b\n",
    "a=a-b\n",
    "print(f\"after swaping a={a} and b={b}\")"
   ]
  },
  {
   "cell_type": "code",
   "execution_count": 18,
   "id": "99af4c42-e74b-4269-9f0f-1234cf8d8450",
   "metadata": {},
   "outputs": [
    {
     "name": "stdout",
     "output_type": "stream",
     "text": [
      "jatin   jatin   jatin   jatin   jatin   jatin   jatin   jatin   jatin   jatin   jatin   jatin   \n"
     ]
    }
   ],
   "source": [
    "a=(\"jatin   \")*12\n",
    "print(a)"
   ]
  },
  {
   "cell_type": "code",
   "execution_count": 19,
   "id": "f9a69e1c-414d-4d67-93c7-f04914c44332",
   "metadata": {},
   "outputs": [
    {
     "name": "stdout",
     "output_type": "stream",
     "text": [
      "<class 'dict'>\n"
     ]
    }
   ],
   "source": [
    "d={1:2,6:7,8:\"hurry \",8:\"abhishek\"}\n",
    "print(type(d))"
   ]
  },
  {
   "cell_type": "code",
   "execution_count": 20,
   "id": "0f38f51b-88aa-4315-9260-ec421b0a2245",
   "metadata": {},
   "outputs": [
    {
     "name": "stdin",
     "output_type": "stream",
     "text": [
      "Enter the amount: 20000\n",
      "Enter Rate  2\n",
      "Enter time period  2\n"
     ]
    },
    {
     "name": "stdout",
     "output_type": "stream",
     "text": [
      "Simple intrest : 800.0\n"
     ]
    }
   ],
   "source": [
    "amount=int(input(\"Enter the amount:\"))\n",
    "rate=int(input(\"Enter Rate \"))\n",
    "time=int(input(\"Enter time period \"))\n",
    "simpleintrest=(amount*rate*time)/100\n",
    "print(f\"Simple intrest : {simpleintrest}\")    "
   ]
  },
  {
   "cell_type": "code",
   "execution_count": 21,
   "id": "05da9a42-13ba-42da-b6f0-87ce5cfb174a",
   "metadata": {},
   "outputs": [
    {
     "name": "stdout",
     "output_type": "stream",
     "text": [
      "[66, 56, 445, 23]\n"
     ]
    }
   ],
   "source": [
    "list1=[23,445,56,66]\n",
    "list1.reverse()\n",
    "print(list1)"
   ]
  },
  {
   "cell_type": "markdown",
   "id": "d8958f27-2909-4919-ae87-45b655954e94",
   "metadata": {},
   "source": [
    "### Day 4"
   ]
  },
  {
   "cell_type": "markdown",
   "id": "673daa99-f9cb-416c-8e72-4f06726f1e9b",
   "metadata": {},
   "source": [
    "## Control structure\n"
   ]
  },
  {
   "cell_type": "code",
   "execution_count": 22,
   "id": "ac03849c-fe1d-45e0-9029-c71edcd31e0d",
   "metadata": {},
   "outputs": [
    {
     "name": "stdin",
     "output_type": "stream",
     "text": [
      "enter first  value : 34\n",
      "enter second value : 5\n"
     ]
    },
    {
     "name": "stdout",
     "output_type": "stream",
     "text": [
      "34 is greater than 5\n"
     ]
    }
   ],
   "source": [
    "a=int(input(\"enter first  value :\"))\n",
    "b=int(input(\"enter second value :\") )    \n",
    "      \n",
    "if a>b:\n",
    "      print(f\"{a} is greater than {b}\")\n",
    "elif  b>a:\n",
    "      print(f\"{b} is greater than {a}\")\n",
    "else :\n",
    "      print(f\"{a} is equal to {b}\")"
   ]
  },
  {
   "cell_type": "code",
   "execution_count": 23,
   "id": "eec218b2-b384-44af-b887-b218251a1302",
   "metadata": {},
   "outputs": [
    {
     "name": "stdin",
     "output_type": "stream",
     "text": [
      "enter your age : 554\n"
     ]
    },
    {
     "name": "stdout",
     "output_type": "stream",
     "text": [
      " you are eligible to vote\n"
     ]
    }
   ],
   "source": [
    "a=int(input(\"enter your age :\"))\n",
    "if a>=18:\n",
    "   print(\" you are eligible to vote\")\n",
    "else :\n",
    "   print(\"you are eligible to vote\")\n"
   ]
  },
  {
   "cell_type": "code",
   "execution_count": 24,
   "id": "7c668ab1-b976-4a8a-bc7e-ce9b47fe7e23",
   "metadata": {},
   "outputs": [
    {
     "name": "stdin",
     "output_type": "stream",
     "text": [
      "enter to check even or odd : 54\n"
     ]
    },
    {
     "name": "stdout",
     "output_type": "stream",
     "text": [
      "54 is even\n"
     ]
    }
   ],
   "source": [
    "number=int(input(\"enter to check even or odd :\"))\n",
    "if number%2==0:\n",
    "    print(f\"{number} is even\")\n",
    "else:\n",
    "    print(f\"{number} is odd\")\n",
    "    "
   ]
  },
  {
   "cell_type": "code",
   "execution_count": 25,
   "id": "5b016752-0b47-4a70-8b32-b139ed367e0f",
   "metadata": {},
   "outputs": [
    {
     "name": "stdin",
     "output_type": "stream",
     "text": [
      "Enter the year to check leap year or not 3\n"
     ]
    },
    {
     "name": "stdout",
     "output_type": "stream",
     "text": [
      "3 is not leap year\n"
     ]
    }
   ],
   "source": [
    "year=int(input(\"Enter the year to check leap year or not\"))\n",
    "if year%100==0:\n",
    "    if year%400==0:\n",
    "        print(f\"{year} is leap year\")\n",
    "    else :\n",
    "         print(f\"{year} is not leap year\")\n",
    "else:\n",
    "         if year%4==0:\n",
    "            print(f\"{year} is leap year\")\n",
    "         else :\n",
    "            print(f\"{year} is not leap year\")"
   ]
  },
  {
   "cell_type": "markdown",
   "id": "c1b64040-21ef-4371-84ed-211fc6767025",
   "metadata": {},
   "source": [
    "#### num=int(input(\"Enter number\"))\n",
    "if num >=1:\n",
    "    print(f\"{num} is positive\")\n",
    "elif num == 0 : \n",
    "    print(f\"{num} is Zero\")\n",
    "else:\n",
    "    print(f\"{num} is negative\")"
   ]
  },
  {
   "cell_type": "markdown",
   "id": "c0c180d4-fda2-4c3b-8816-e7ba374479a8",
   "metadata": {},
   "source": [
    "# LOOPS IN PYTHON"
   ]
  },
  {
   "cell_type": "markdown",
   "id": "1c4c7367-6a53-4a43-bf64-8fe15066c8ef",
   "metadata": {},
   "source": [
    "- A loop is use to iterate over a sequence"
   ]
  },
  {
   "cell_type": "code",
   "execution_count": 27,
   "id": "ebfb6bae-0919-4c02-b389-46a2a46fae53",
   "metadata": {},
   "outputs": [
    {
     "name": "stdout",
     "output_type": "stream",
     "text": [
      "Apple\n",
      "Banana\n",
      "Mango\n"
     ]
    }
   ],
   "source": [
    "fruits=[\"Apple\",\"Banana\",\"Mango\"]\n",
    "for i in fruits:\n",
    "    print(i)"
   ]
  },
  {
   "cell_type": "code",
   "execution_count": 28,
   "id": "18d52bf5-fcb7-4116-91b1-0c2a6a4e4d05",
   "metadata": {},
   "outputs": [
    {
     "name": "stdout",
     "output_type": "stream",
     "text": [
      "Jatin Dadwal\n",
      "Jatin Dadwal\n",
      "Jatin Dadwal\n",
      "Jatin Dadwal\n",
      "Jatin Dadwal\n",
      "Jatin Dadwal\n",
      "Jatin Dadwal\n",
      "Jatin Dadwal\n",
      "Jatin Dadwal\n"
     ]
    }
   ],
   "source": [
    "for i in range(1,10):\n",
    " print(\"Jatin Dadwal\")"
   ]
  },
  {
   "cell_type": "code",
   "execution_count": 29,
   "id": "d72d07e7-1c56-4017-a210-1652bd8368c7",
   "metadata": {},
   "outputs": [
    {
     "name": "stdout",
     "output_type": "stream",
     "text": [
      "35 number is divisible by 7 and multipy by 5\n",
      "70 number is divisible by 7 and multipy by 5\n",
      "105 number is divisible by 7 and multipy by 5\n",
      "140 number is divisible by 7 and multipy by 5\n",
      "175 number is divisible by 7 and multipy by 5\n",
      "210 number is divisible by 7 and multipy by 5\n",
      "245 number is divisible by 7 and multipy by 5\n",
      "280 number is divisible by 7 and multipy by 5\n",
      "315 number is divisible by 7 and multipy by 5\n",
      "350 number is divisible by 7 and multipy by 5\n",
      "385 number is divisible by 7 and multipy by 5\n",
      "420 number is divisible by 7 and multipy by 5\n",
      "455 number is divisible by 7 and multipy by 5\n",
      "490 number is divisible by 7 and multipy by 5\n"
     ]
    }
   ],
   "source": [
    "# find those number divisible by 7 and multiuply by 5. \n",
    "for i in range(1,500):\n",
    " if i%7==0:\n",
    "    if i%5==0:\n",
    "        print(f\"{i} number is divisible by 7 and multipy by 5\")\n",
    "        \n"
   ]
  },
  {
   "cell_type": "code",
   "execution_count": 30,
   "id": "b0d2a888-2e13-49a3-8cab-264ff7a3462b",
   "metadata": {},
   "outputs": [
    {
     "name": "stdout",
     "output_type": "stream",
     "text": [
      "total number of even is 49\n",
      "total number of odd is 50\n"
     ]
    }
   ],
   "source": [
    "even=0\n",
    "odd=0\n",
    "for i in range(1,100):\n",
    "    if i%2==0:\n",
    "        even+=1\n",
    "    else:\n",
    "        odd+=1\n",
    "print(f\"total number of even is {even}\")\n",
    "print(f\"total number of odd is {odd}\")"
   ]
  },
  {
   "cell_type": "code",
   "execution_count": 31,
   "id": "484338dc-f839-487c-b2ee-c7be45a1760a",
   "metadata": {},
   "outputs": [
    {
     "name": "stdout",
     "output_type": "stream",
     "text": [
      "total number of even is 601\n",
      "total number of odd is 600\n"
     ]
    }
   ],
   "source": [
    "even=0\n",
    "odd=0\n",
    "for i in range(1500,2701):\n",
    "    if i%2==0:\n",
    "        even+=1\n",
    "    else:\n",
    "        odd+=1\n",
    "print(f\"total number of even is {even}\")\n",
    "print(f\"total number of odd is {odd}\")"
   ]
  },
  {
   "cell_type": "code",
   "execution_count": 32,
   "id": "41ddfad8-4faf-4517-9689-e3c786e4a358",
   "metadata": {},
   "outputs": [
    {
     "name": "stdout",
     "output_type": "stream",
     "text": [
      "*\n",
      "**\n",
      "***\n",
      "****\n",
      "*****\n",
      "******\n",
      "*******\n",
      "********\n",
      "*********\n"
     ]
    }
   ],
   "source": [
    "for i in range(1,10):\n",
    "    print((\"*\")*i)"
   ]
  },
  {
   "cell_type": "code",
   "execution_count": 33,
   "id": "e86ea087-a275-401a-94e3-67c4b361b3dc",
   "metadata": {},
   "outputs": [
    {
     "name": "stdin",
     "output_type": "stream",
     "text": [
      "Enter a number to print table 44\n"
     ]
    },
    {
     "name": "stdout",
     "output_type": "stream",
     "text": [
      "44 x 1 = 44\n",
      "44 x 2 = 88\n",
      "44 x 3 = 132\n",
      "44 x 4 = 176\n",
      "44 x 5 = 220\n",
      "44 x 6 = 264\n",
      "44 x 7 = 308\n",
      "44 x 8 = 352\n",
      "44 x 9 = 396\n",
      "44 x 10 = 440\n"
     ]
    }
   ],
   "source": [
    "a=int(input(\"Enter a number to print table\"))\n",
    "for i in range(1,11):\n",
    "    print(a,\"x\",i,'=',a*i,end=\"\\n\")"
   ]
  },
  {
   "cell_type": "markdown",
   "id": "b855750a-d1da-4458-a6ff-c02f49612618",
   "metadata": {},
   "source": [
    "### Day 5"
   ]
  },
  {
   "cell_type": "markdown",
   "id": "4ae80d1c-67cc-4070-9810-d4d0983056dc",
   "metadata": {},
   "source": [
    "## While loop"
   ]
  },
  {
   "cell_type": "markdown",
   "id": "d8205caa-d4ad-464e-876d-894ab88d399f",
   "metadata": {},
   "source": [
    "inisitialization\n",
    "codition\n",
    "inc/dec"
   ]
  },
  {
   "cell_type": "code",
   "execution_count": null,
   "id": "e2787e3f-f86b-4d1a-a3ad-0cf0a2d7e822",
   "metadata": {},
   "outputs": [],
   "source": [
    "a=90\n",
    "a=90-5\n",
    "print(a)"
   ]
  },
  {
   "cell_type": "code",
   "execution_count": null,
   "id": "57109903-4fa1-4740-8a05-2aef7aa2fbb4",
   "metadata": {},
   "outputs": [],
   "source": [
    "for i in range(10):\n",
    "    print(\"Jatin Dadwal\")"
   ]
  },
  {
   "cell_type": "code",
   "execution_count": null,
   "id": "97a306e8-583e-4f10-8612-0e039e6677b1",
   "metadata": {},
   "outputs": [],
   "source": [
    "l=[6,7,9]\n",
    "for i in range(len(l)):\n",
    "    print(i)"
   ]
  },
  {
   "cell_type": "markdown",
   "id": "7701daf1-904a-46f8-9795-4ddfccbd7bcf",
   "metadata": {},
   "source": [
    "### Nested While loop"
   ]
  },
  {
   "cell_type": "code",
   "execution_count": 1,
   "id": "82783727-cfac-42cc-b9da-1017f9a08fba",
   "metadata": {},
   "outputs": [
    {
     "name": "stdout",
     "output_type": "stream",
     "text": [
      "0 0\n",
      "0 1\n",
      "0 2\n",
      "1 0\n",
      "1 1\n",
      "1 2\n",
      "2 0\n",
      "2 1\n",
      "2 2\n"
     ]
    }
   ],
   "source": [
    "i = 0\n",
    "\n",
    "while i < 3:  \n",
    "    j=0\n",
    "    while j < 3:   \n",
    "        print(i, j) \n",
    "        j += 1  \n",
    "    i+=1"
   ]
  },
  {
   "cell_type": "code",
   "execution_count": 6,
   "id": "c0b72edb-97be-4bb7-9436-da13f4589e5c",
   "metadata": {},
   "outputs": [
    {
     "name": "stdout",
     "output_type": "stream",
     "text": [
      "120\n"
     ]
    }
   ],
   "source": [
    "l=[1,2,3,4,5]\n",
    "sum=1\n",
    "for i in l:\n",
    "    sum=sum*i\n",
    "print(sum)"
   ]
  },
  {
   "cell_type": "markdown",
   "id": "71a22442-7db6-4c4a-babd-bf8a6da0c732",
   "metadata": {},
   "source": [
    "### write a program negative number in list"
   ]
  },
  {
   "cell_type": "code",
   "execution_count": 20,
   "id": "18c78589-338d-4e25-8be4-c92dc2d3c81d",
   "metadata": {},
   "outputs": [
    {
     "name": "stdout",
     "output_type": "stream",
     "text": [
      "-5\n",
      "-4\n",
      "-3\n",
      "-2\n",
      "-1\n"
     ]
    }
   ],
   "source": [
    "for i in range(-5,0):\n",
    "    print(i)"
   ]
  },
  {
   "cell_type": "markdown",
   "id": "ea936f89-b18b-4f38-8976-b1ff2f73d109",
   "metadata": {},
   "source": [
    "### write a program to print sum of number in a list"
   ]
  },
  {
   "cell_type": "code",
   "execution_count": 18,
   "id": "4998ac6c-43b7-4f5e-bdd2-975e189c3af1",
   "metadata": {},
   "outputs": [
    {
     "name": "stdout",
     "output_type": "stream",
     "text": [
      "15\n"
     ]
    }
   ],
   "source": [
    "l=[1,2,3,4,5]\n",
    "sum=0\n",
    "for i in l:\n",
    "    sum=sum+i\n",
    "print(sum)"
   ]
  },
  {
   "cell_type": "markdown",
   "id": "3dd9a3bc-b54a-4efe-ba97-db0aed0877f8",
   "metadata": {},
   "source": [
    "### Write a code to print table by using  while loop "
   ]
  },
  {
   "cell_type": "code",
   "execution_count": null,
   "id": "fa6b699c-3029-45a4-9d9b-799864d19e23",
   "metadata": {},
   "outputs": [],
   "source": []
  },
  {
   "cell_type": "code",
   "execution_count": 23,
   "id": "4cc23335-d21c-4bab-9231-bc5e5e08fb81",
   "metadata": {},
   "outputs": [
    {
     "name": "stdout",
     "output_type": "stream",
     "text": [
      "10\n",
      "9\n",
      "8\n",
      "7\n",
      "6\n",
      "5\n",
      "4\n",
      "3\n",
      "2\n",
      "1\n"
     ]
    }
   ],
   "source": [
    "i=10\n",
    "while(i>=1):\n",
    "    print(i)\n",
    "    i=i-1"
   ]
  },
  {
   "cell_type": "code",
   "execution_count": null,
   "id": "b03577ac-4c41-4603-8400-8b58fd65740b",
   "metadata": {},
   "outputs": [],
   "source": [
    "# even number \n",
    "i=1\n",
    "while(i<1)"
   ]
  },
  {
   "cell_type": "markdown",
   "id": "c82ada80-7fae-48fb-bc13-e8f4e3fe12be",
   "metadata": {},
   "source": [
    "### Write a program to print sum to even number in range 1 to 100 using while or for loop"
   ]
  },
  {
   "cell_type": "code",
   "execution_count": 34,
   "id": "f289c067-1bbf-4d58-9866-c6e91667dc95",
   "metadata": {},
   "outputs": [
    {
     "name": "stdout",
     "output_type": "stream",
     "text": [
      "2550\n"
     ]
    }
   ],
   "source": [
    "# using while loop\n",
    "i=1\n",
    "sum=0\n",
    "while(i<=100):\n",
    "    if i%2==0:\n",
    "     sum=sum+i\n",
    "    i+=1\n",
    "print(sum)\n",
    "        "
   ]
  },
  {
   "cell_type": "code",
   "execution_count": 41,
   "id": "35b3791b-b76c-4c53-8d61-868901158671",
   "metadata": {},
   "outputs": [
    {
     "name": "stdout",
     "output_type": "stream",
     "text": [
      "2550\n"
     ]
    }
   ],
   "source": [
    "# using for loop\n",
    "sum=0\n",
    "for i in range(1,101):\n",
    "    if i%2==0:\n",
    "     sum=sum+i\n",
    "print(sum)"
   ]
  },
  {
   "cell_type": "markdown",
   "id": "40a64962-6977-4525-9bbd-cc06e46ce4dc",
   "metadata": {},
   "source": [
    "### write a program to print charater at even position."
   ]
  },
  {
   "cell_type": "code",
   "execution_count": 59,
   "id": "a50709d2-00e3-4229-9ab7-f4ba12ba782f",
   "metadata": {},
   "outputs": [
    {
     "name": "stdout",
     "output_type": "stream",
     "text": [
      "J\n",
      "t\n",
      "n\n",
      "D\n",
      "d\n",
      "a\n"
     ]
    }
   ],
   "source": [
    "\n",
    "a=\"Jatin Dadwal\"\n",
    "i=0\n",
    "while(i<=11):\n",
    "    print(a[i])\n",
    "    i+=2"
   ]
  },
  {
   "cell_type": "code",
   "execution_count": 44,
   "id": "f41e0851-ae92-4267-ba5e-757ce48e6b21",
   "metadata": {},
   "outputs": [
    {
     "name": "stdout",
     "output_type": "stream",
     "text": [
      "0 0\n",
      "0 1\n",
      "0 2\n",
      "1 0\n",
      "1 1\n",
      "1 2\n",
      "2 0\n",
      "2 1\n",
      "2 2\n"
     ]
    }
   ],
   "source": [
    "i=0\n",
    "j=0\n",
    "while i<3:\n",
    "    j=0\n",
    "    while j<3:\n",
    "        print(i,j)\n",
    "        j +=1\n",
    "    i+=1\n",
    "    "
   ]
  },
  {
   "cell_type": "markdown",
   "id": "87b3ba4b-bcd7-4c0f-a013-95386e5c84f8",
   "metadata": {},
   "source": [
    "## iterrative statement"
   ]
  },
  {
   "cell_type": "markdown",
   "id": "11e11597-585f-4c6f-9d9c-f12db7098668",
   "metadata": {},
   "source": [
    "- Break , Pass, and Continue\n",
    "\n"
   ]
  },
  {
   "cell_type": "markdown",
   "id": "e97e30c0-6d76-4231-8ad7-298c661a3e5c",
   "metadata": {},
   "source": [
    " #### 1. Break : use to exit the loop  before the conditon is made.\n",
    " "
   ]
  },
  {
   "cell_type": "code",
   "execution_count": 53,
   "id": "73fac2db-8d93-4e37-9647-9e268f94aafb",
   "metadata": {},
   "outputs": [
    {
     "name": "stdout",
     "output_type": "stream",
     "text": [
      "1\n",
      "2\n",
      "3\n"
     ]
    }
   ],
   "source": [
    "for i in range(1,100):\n",
    "    if i == 4:\n",
    "      break\n",
    "    print(i)\n",
    "      "
   ]
  },
  {
   "cell_type": "markdown",
   "id": "4c0f704b-983a-4c1f-8d65-f1586fc4fc3e",
   "metadata": {},
   "source": [
    "#### 2.Continue : value skip the current next iteration loop and move on the next one."
   ]
  },
  {
   "cell_type": "code",
   "execution_count": 49,
   "id": "7572e12b-9a3a-46b4-a51f-ed7e3d8cb3f4",
   "metadata": {},
   "outputs": [
    {
     "name": "stdout",
     "output_type": "stream",
     "text": [
      "1\n",
      "3\n",
      "5\n",
      "7\n",
      "9\n",
      "11\n"
     ]
    }
   ],
   "source": [
    "for i in range(12):\n",
    "    if i%2==0:\n",
    "        continue\n",
    "    print(i)"
   ]
  },
  {
   "cell_type": "markdown",
   "id": "cd03e0a8-8317-47c2-8da3-ee5e4e98ca46",
   "metadata": {},
   "source": [
    "#### 3. Pass : function avoiding indentation error in python"
   ]
  },
  {
   "cell_type": "code",
   "execution_count": 56,
   "id": "b3804307-0d52-4f6f-9c8b-315905b3daf6",
   "metadata": {},
   "outputs": [
    {
     "name": "stdout",
     "output_type": "stream",
     "text": [
      "hello world\n"
     ]
    }
   ],
   "source": [
    "for i in range(10):\n",
    "    pass\n",
    "print(\"hello world\")"
   ]
  },
  {
   "cell_type": "markdown",
   "id": "a59ecb6a-a018-44ef-bd19-508210f20662",
   "metadata": {},
   "source": [
    "## Function"
   ]
  },
  {
   "cell_type": "markdown",
   "id": "1833a4db-af98-43c2-9a09-0eb14612592e",
   "metadata": {},
   "source": [
    "- Function is the block of code use to make a code shorter and more efficient."
   ]
  },
  {
   "cell_type": "markdown",
   "id": "5bda936f-d33b-444a-8d19-95120df6943a",
   "metadata": {},
   "source": [
    "### There is two type of function"
   ]
  },
  {
   "cell_type": "markdown",
   "id": "84fcf240-2cdf-4f9b-98a0-9d056a933970",
   "metadata": {},
   "source": [
    "- User define function :user define is a custom function created by the a programmer to perform specific tasks within a program.\n",
    "    \n",
    "- Built in function : Built in  function  are similar to operation codes in that in that they perform operations on dta you specify"
   ]
  },
  {
   "cell_type": "markdown",
   "id": "8bb37f75-45bb-4f4f-a74c-928c67a4f020",
   "metadata": {},
   "source": [
    "### Day 6"
   ]
  },
  {
   "cell_type": "markdown",
   "id": "dbf3b10d-4832-43b8-85d0-47ce63c344d3",
   "metadata": {},
   "source": [
    "### - built in function"
   ]
  },
  {
   "cell_type": "code",
   "execution_count": 5,
   "id": "5ea3c7b2-0ac9-4413-9ee5-caacb5592471",
   "metadata": {},
   "outputs": [
    {
     "name": "stdout",
     "output_type": "stream",
     "text": [
      "6\n"
     ]
    }
   ],
   "source": [
    "txt =\"hello, world \"\n",
    "x=txt.find(\"w\")\n",
    "print(x)"
   ]
  },
  {
   "cell_type": "code",
   "execution_count": 8,
   "id": "17370631-f155-4064-9ae6-0bcfd3a85c53",
   "metadata": {},
   "outputs": [
    {
     "name": "stdout",
     "output_type": "stream",
     "text": [
      "2\n"
     ]
    }
   ],
   "source": [
    "txt=\"This is india\"\n",
    "print(txt.count(\"s\"))"
   ]
  },
  {
   "cell_type": "code",
   "execution_count": 9,
   "id": "0162eaa0-c72e-4ba5-9e9b-bce75c3e748f",
   "metadata": {},
   "outputs": [
    {
     "name": "stdout",
     "output_type": "stream",
     "text": [
      "['1', '2', '3', '4', '4', '5', '5', '5', '6', '6', '6', '7', 'a', 'd', 'f', 'g', 'h', 'j', 'k', 'l', 's']\n"
     ]
    }
   ],
   "source": [
    "a=\"asdfghjkl654567654321\"\n",
    "print(sorted(a))"
   ]
  },
  {
   "cell_type": "code",
   "execution_count": 12,
   "id": "6a6d6589-859e-4bfe-824b-092bd4576268",
   "metadata": {},
   "outputs": [
    {
     "name": "stdout",
     "output_type": "stream",
     "text": [
      "1:2:3\n"
     ]
    }
   ],
   "source": [
    "a=['1','2','3']\n",
    "print(':'.join(a))\n"
   ]
  },
  {
   "cell_type": "code",
   "execution_count": 17,
   "id": "925aef87-f986-46fb-a76b-30424fd3be8f",
   "metadata": {},
   "outputs": [
    {
     "name": "stdout",
     "output_type": "stream",
     "text": [
      "Before replace:python is easy\n",
      "After replace:python is difficult\n"
     ]
    }
   ],
   "source": [
    "a=\"python is easy\" \n",
    "print(f\"Before replace:{a}\")\n",
    "b=a.replace(\"easy\",\"difficult\")\n",
    "print(f\"After replace:{b}\")"
   ]
  },
  {
   "cell_type": "code",
   "execution_count": 20,
   "id": "3c5ad598-7620-4b66-acac-6fab1628d255",
   "metadata": {},
   "outputs": [
    {
     "name": "stdout",
     "output_type": "stream",
     "text": [
      "python is easy\n"
     ]
    }
   ],
   "source": [
    "a=\"PYTHON IS EASY\"\n",
    "B=a.lower()\n",
    "print(B)"
   ]
  },
  {
   "cell_type": "code",
   "execution_count": 21,
   "id": "57f13c8e-2064-4b7d-8af1-266cfb486638",
   "metadata": {},
   "outputs": [
    {
     "name": "stdout",
     "output_type": "stream",
     "text": [
      "PYTHON IS EASY\n"
     ]
    }
   ],
   "source": [
    "a=\"python is easy\"\n",
    "b=a.upper()\n",
    "print(b)"
   ]
  },
  {
   "cell_type": "code",
   "execution_count": 23,
   "id": "8b6b5cb9-27ed-4b2a-ac6e-3faf85301ae9",
   "metadata": {},
   "outputs": [
    {
     "name": "stdout",
     "output_type": "stream",
     "text": [
      "Python is easy\n"
     ]
    }
   ],
   "source": [
    "a=\"python is easy\"\n",
    "b=a.capitalize()\n",
    "print(b)"
   ]
  },
  {
   "cell_type": "code",
   "execution_count": 24,
   "id": "a0359278-4683-4860-9535-d0bd53f23058",
   "metadata": {},
   "outputs": [
    {
     "name": "stdout",
     "output_type": "stream",
     "text": [
      "Python Is Easy\n"
     ]
    }
   ],
   "source": [
    "a=\"python is easy\"\n",
    "b=a.title()\n",
    "print(b)"
   ]
  },
  {
   "cell_type": "code",
   "execution_count": 26,
   "id": "5b30ab3f-7fc3-48ef-bcce-b9140296ee81",
   "metadata": {},
   "outputs": [
    {
     "name": "stdout",
     "output_type": "stream",
     "text": [
      "Python iS Easy\n"
     ]
    }
   ],
   "source": [
    "a=\"pYTHON Is eASY\"\n",
    "B=a.swapcase()\n",
    "print(B)"
   ]
  },
  {
   "cell_type": "code",
   "execution_count": 27,
   "id": "d4450a9b-c047-41fd-bcfe-55c45a0ce338",
   "metadata": {},
   "outputs": [
    {
     "name": "stdout",
     "output_type": "stream",
     "text": [
      "False\n",
      "True\n"
     ]
    }
   ],
   "source": [
    "a=\"Python is easy\"\n",
    "print(a.startswith(\"p\"))\n",
    "print(a.startswith(\"P\"))      "
   ]
  },
  {
   "cell_type": "code",
   "execution_count": 28,
   "id": "106ce287-0c50-4db8-98fc-c793e9adf520",
   "metadata": {},
   "outputs": [
    {
     "name": "stdout",
     "output_type": "stream",
     "text": [
      "False\n",
      "True\n"
     ]
    }
   ],
   "source": [
    "a=\"Python is easy\"\n",
    "print(a.endswith(\"Y\"))\n",
    "print(a.endswith(\"\"))"
   ]
  },
  {
   "cell_type": "code",
   "execution_count": 29,
   "id": "82d0d5d2-f7cb-42ba-8ec5-82c994889899",
   "metadata": {},
   "outputs": [
    {
     "name": "stdout",
     "output_type": "stream",
     "text": [
      "True\n"
     ]
    }
   ],
   "source": [
    "a=\"232422\"\n",
    "print(a.isdigit())"
   ]
  },
  {
   "cell_type": "code",
   "execution_count": 31,
   "id": "ca5f9d2c-7bb4-41a8-a63e-3e1cc9147d38",
   "metadata": {},
   "outputs": [
    {
     "name": "stdout",
     "output_type": "stream",
     "text": [
      "False\n"
     ]
    }
   ],
   "source": [
    "a=\"jatin Dadwal\"\n",
    "print(a.isalpha())"
   ]
  },
  {
   "cell_type": "code",
   "execution_count": 33,
   "id": "1b4aef65-82ee-44fb-854e-6e3d3309e099",
   "metadata": {},
   "outputs": [
    {
     "name": "stdout",
     "output_type": "stream",
     "text": [
      "10/20/30\n"
     ]
    }
   ],
   "source": [
    "a,b,c=10,20,30\n",
    "print(a,b,c,sep=\"/\")"
   ]
  },
  {
   "cell_type": "markdown",
   "id": "3cbfc92a-daa9-445b-9ad5-1f8c51ab9cab",
   "metadata": {},
   "source": [
    "### Wirte a program to print occurence of each character of string"
   ]
  },
  {
   "cell_type": "code",
   "execution_count": 40,
   "id": "fc9280d0-08a0-4ebc-840b-b436bed9cab8",
   "metadata": {},
   "outputs": [
    {
     "name": "stdout",
     "output_type": "stream",
     "text": [
      "i 2\n",
      "j 7\n",
      "l 5\n",
      "h 2\n",
      "d 1\n",
      "f 2\n",
      "a 2\n",
      "k 1\n",
      "r 1\n"
     ]
    }
   ],
   "source": [
    "a=\"ijljhdlfjahlkjrljijjlaf\"\n",
    "a1=\" \"\n",
    "for i in  a:\n",
    "    if i not in a1:\n",
    "        print(i,a.count(i))\n",
    "        a1=a1+i"
   ]
  },
  {
   "cell_type": "code",
   "execution_count": 42,
   "id": "7a5bb8ad-74b4-4cdd-958c-53eed80146be",
   "metadata": {},
   "outputs": [
    {
     "name": "stdout",
     "output_type": "stream",
     "text": [
      "0\n"
     ]
    }
   ],
   "source": [
    "l=[10,34,55,\"Python\",10,2394]\n",
    "print(l.index(10))\n",
    "      "
   ]
  },
  {
   "cell_type": "code",
   "execution_count": 44,
   "id": "694a5869-689b-4445-9c52-f649e70b7239",
   "metadata": {},
   "outputs": [
    {
     "name": "stdout",
     "output_type": "stream",
     "text": [
      "[10, 34, 234, 445]\n"
     ]
    }
   ],
   "source": [
    "l=[10,234,445,34]\n",
    "l.sort()\n",
    "print(l)"
   ]
  },
  {
   "cell_type": "markdown",
   "id": "766b1345-83e3-4be7-a80e-f7fc31f995e6",
   "metadata": {},
   "source": [
    "### write a program to print max and min number in list using loop and mean also"
   ]
  },
  {
   "cell_type": "code",
   "execution_count": 84,
   "id": "483ce37a-06b1-4052-a53a-e8bf50c36ef9",
   "metadata": {},
   "outputs": [
    {
     "name": "stdout",
     "output_type": "stream",
     "text": [
      "[55356, 524, 234, 78, 53, 8, 6, 1]\n"
     ]
    }
   ],
   "source": [
    "l=[234,524,53,55356,78,8,1,6]\n",
    "l.sort(reverse=True)\n",
    "print(l)"
   ]
  },
  {
   "cell_type": "code",
   "execution_count": 66,
   "id": "0bd58a3a-bdef-4858-82bd-f7cbd8097b45",
   "metadata": {},
   "outputs": [
    {
     "name": "stdout",
     "output_type": "stream",
     "text": [
      "34554\n",
      "10\n"
     ]
    }
   ],
   "source": [
    "number=[10,23,455,34554,45]\n",
    "max_number =number[0]\n",
    "min_number=number[0]\n",
    "for i in number :\n",
    "     if i > max_number:\n",
    "         max_number=i\n",
    "     if i< min_number:\n",
    "         min_number=i\n",
    "print(max_number)\n",
    "print(min_number)        "
   ]
  },
  {
   "cell_type": "markdown",
   "id": "bdcda2ba-9522-4495-9a10-96432fc8121f",
   "metadata": {},
   "source": [
    "### Function"
   ]
  },
  {
   "cell_type": "code",
   "execution_count": 67,
   "id": "dcdaf9b8-735c-41fa-9218-427caaeaba1c",
   "metadata": {},
   "outputs": [
    {
     "name": "stdout",
     "output_type": "stream",
     "text": [
      "{2, 3, 4, 5, 6, 7, 40, 't', 10, 'o', 'n', 45, 'y', 'p', 'h'}\n"
     ]
    }
   ],
   "source": [
    "s={10,40,45}\n",
    "l={2,3,4,5,6,7}\n",
    "s.update(l,(\"python\"))\n",
    "print(s)"
   ]
  },
  {
   "cell_type": "markdown",
   "id": "80b9f84a-4636-4426-9ec0-044b2b961958",
   "metadata": {},
   "source": [
    "### User Define function"
   ]
  },
  {
   "cell_type": "code",
   "execution_count": 69,
   "id": "94ca9d8c-7893-418d-81f9-2a00829221e6",
   "metadata": {},
   "outputs": [
    {
     "name": "stdin",
     "output_type": "stream",
     "text": [
      "a 22\n",
      "b 2\n",
      "user define xyz\n"
     ]
    },
    {
     "name": "stdout",
     "output_type": "stream",
     "text": [
      "20\n"
     ]
    }
   ],
   "source": [
    "def sum(a,b):\n",
    "    c=a+b\n",
    "    print(c)\n",
    "def sub(a,b):\n",
    "    c=a-b\n",
    "    print(c)\n",
    "a=int(input(\"a\"))\n",
    "b=int(input(\"b\"))\n",
    "c=input(\"user define\")\n",
    "if c==\"abc\":\n",
    "    sum(a,b)\n",
    "if c==\"xyz\":\n",
    "    sub(a,b)\n"
   ]
  },
  {
   "cell_type": "markdown",
   "id": "4ca3425d-f8bf-4037-9ee3-de2c3973edac",
   "metadata": {},
   "source": [
    "### diffrence between print and return statement in python"
   ]
  },
  {
   "cell_type": "code",
   "execution_count": 70,
   "id": "c944ba19-9b1f-479c-8a19-e1757749af62",
   "metadata": {},
   "outputs": [
    {
     "name": "stdin",
     "output_type": "stream",
     "text": [
      "enter a number 5\n"
     ]
    },
    {
     "name": "stdout",
     "output_type": "stream",
     "text": [
      "120\n"
     ]
    }
   ],
   "source": [
    "def fact(n):\n",
    "    if n==1 or n==0:\n",
    "        return 1\n",
    "    else:\n",
    "        return n*fact(n-1)\n",
    "n=int(input(\"enter a number\"))\n",
    "r=fact(n)\n",
    "print(r)"
   ]
  },
  {
   "cell_type": "markdown",
   "id": "337e00ac-0e9b-467a-b23e-5e05a8831517",
   "metadata": {},
   "source": [
    "write a python program to sort a list tuple"
   ]
  },
  {
   "cell_type": "code",
   "execution_count": 75,
   "id": "6ee324c6-e5a1-4322-b61f-e246b316109a",
   "metadata": {},
   "outputs": [
    {
     "name": "stdout",
     "output_type": "stream",
     "text": [
      "[43, 55, 53245, 123224]\n"
     ]
    }
   ],
   "source": [
    "li_st=[123224,55,53245,43]\n",
    "li_st.sort()\n",
    "print(li_st)"
   ]
  },
  {
   "cell_type": "markdown",
   "id": "d7432129-20c3-4355-8ff4-649f4d7caba9",
   "metadata": {},
   "source": [
    "### lamda function"
   ]
  },
  {
   "cell_type": "markdown",
   "id": "abf50e7b-385f-47c1-95f0-3dcf7e040393",
   "metadata": {},
   "source": [
    "- lamda is pre-define function.\n",
    "- lamda functioon call anonymous function    "
   ]
  },
  {
   "cell_type": "markdown",
   "id": "32ae83c8-3f76-488d-b043-cfe46981b07e",
   "metadata": {},
   "source": [
    "syntax:\n",
    "\n",
    "- list.sort(key=lambda,reverse)\n"
   ]
  },
  {
   "cell_type": "code",
   "execution_count": null,
   "id": "dd890155-7f00-4231-bb37-48818a5f5908",
   "metadata": {},
   "outputs": [],
   "source": []
  }
 ],
 "metadata": {
  "kernelspec": {
   "display_name": "Python 3 (ipykernel)",
   "language": "python",
   "name": "python3"
  },
  "language_info": {
   "codemirror_mode": {
    "name": "ipython",
    "version": 3
   },
   "file_extension": ".py",
   "mimetype": "text/x-python",
   "name": "python",
   "nbconvert_exporter": "python",
   "pygments_lexer": "ipython3",
   "version": "3.13.5"
  }
 },
 "nbformat": 4,
 "nbformat_minor": 5
}
